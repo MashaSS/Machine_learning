{
  "nbformat": 4,
  "nbformat_minor": 0,
  "metadata": {
    "colab": {
      "name": "Machine_learning_lab1",
      "provenance": [],
      "collapsed_sections": []
    },
    "kernelspec": {
      "name": "python3",
      "display_name": "Python 3"
    }
  },
  "cells": [
    {
      "cell_type": "code",
      "metadata": {
        "id": "NnR502Q182v4",
        "colab_type": "code",
        "outputId": "ce0bcdb3-a4d9-41a5-98ce-dc2c2d4d0a47",
        "colab": {
          "base_uri": "https://localhost:8080/",
          "height": 34
        }
      },
      "source": [
        "from google.colab import drive\n",
        "drive.mount('/content/drive')"
      ],
      "execution_count": 0,
      "outputs": [
        {
          "output_type": "stream",
          "text": [
            "Drive already mounted at /content/drive; to attempt to forcibly remount, call drive.mount(\"/content/drive\", force_remount=True).\n"
          ],
          "name": "stdout"
        }
      ]
    },
    {
      "cell_type": "code",
      "metadata": {
        "id": "7nQmOJzO9D2c",
        "colab_type": "code",
        "colab": {}
      },
      "source": [
        "!cp /content/drive/\"My Drive\"/agaricus-lepiota.data agaricus-lepiota.data "
      ],
      "execution_count": 0,
      "outputs": []
    },
    {
      "cell_type": "code",
      "metadata": {
        "id": "t2sBFlUQ-npM",
        "colab_type": "code",
        "outputId": "2e63504b-cf68-49f7-e902-933ac8e60678",
        "colab": {
          "base_uri": "https://localhost:8080/",
          "height": 34
        }
      },
      "source": [
        "!ls"
      ],
      "execution_count": 0,
      "outputs": [
        {
          "output_type": "stream",
          "text": [
            "agaricus-lepiota.data  drive  sample_data\n"
          ],
          "name": "stdout"
        }
      ]
    },
    {
      "cell_type": "markdown",
      "metadata": {
        "id": "C6PWsmZQ__L-",
        "colab_type": "text"
      },
      "source": [
        "# Постановка задачи"
      ]
    },
    {
      "cell_type": "markdown",
      "metadata": {
        "id": "gZhZDqX9AVyI",
        "colab_type": "text"
      },
      "source": [
        "Этот набор данных включает описания гипотетических образцов, соответствующих 23 видам жареных грибов семейства Agaricus и Lepiota. Каждый вид идентифицируется как съедобный и ядовитый.\n",
        "\n",
        "Информация о данных:\n",
        "\n",
        "1. cap-shape: bell=b,conical=c,convex=x,flat=f, knobbed=k,sunken=s\n",
        "2. cap-surface: fibrous=f,grooves=g,scaly=y,smooth=s\n",
        "3. cap-color: brown=n,buff=b,cinnamon=c,gray=g,green=r, pink=p,purple=u,red=e,white=w,yellow=y\n",
        "4. bruises?: bruises=t,no=f\n",
        "5. odor: almond=a,anise=l,creosote=c,fishy=y,foul=f, musty=m,none=n,pungent=p,spicy=s\n",
        "6. gill-attachment: attached=a,descending=d,free=f,notched=n\n",
        "7. gill-spacing: close=c,crowded=w,distant=d\n",
        "8. gill-size: broad=b,narrow=n\n",
        "9. gill-color: black=k,brown=n,buff=b,chocolate=h,gray=g, green=r,orange=o,pink=p,purple=u,red=e, white=w,yellow=y\n",
        "10. stalk-shape: enlarging=e,tapering=t\n",
        "11. stalk-root: bulbous=b,club=c,cup=u,equal=e, rhizomorphs=z,rooted=r,missing=?\n",
        "12. stalk-surface-above-ring: fibrous=f,scaly=y,silky=k,smooth=s\n",
        "13. stalk-surface-below-ring: fibrous=f,scaly=y,silky=k,smooth=s\n",
        "14. stalk-color-above-ring: brown=n,buff=b,cinnamon=c,gray=g,orange=o, pink=p,red=e,white=w,yellow=y\n",
        "15. stalk-color-below-ring: brown=n,buff=b,cinnamon=c,gray=g,orange=o, pink=p,red=e,white=w,yellow=y\n",
        "16. veil-type: partial=p,universal=u\n",
        "17. veil-color: brown=n,orange=o,white=w,yellow=y\n",
        "18. ring-number: none=n,one=o,two=t\n",
        "19. ring-type: cobwebby=c,evanescent=e,flaring=f,large=l, none=n,pendant=p,sheathing=s,zone=z\n",
        "20. spore-print-color: black=k,brown=n,buff=b,chocolate=h,green=r, orange=o,purple=u,white=w,yellow=y\n",
        "21. population: abundant=a,clustered=c,numerous=n, scattered=s,several=v,solitary=y\n",
        "22. habitat: grasses=g,leaves=l,meadows=m,paths=p, urban=u,waste=w,woods=d"
      ]
    },
    {
      "cell_type": "markdown",
      "metadata": {
        "id": "hkwOz1wxAxxa",
        "colab_type": "text"
      },
      "source": [
        "# Считывание данных"
      ]
    },
    {
      "cell_type": "code",
      "metadata": {
        "id": "Xt09o9As-tK9",
        "colab_type": "code",
        "colab": {}
      },
      "source": [
        "import pandas as pd \n",
        "import numpy as np\n",
        "data = pd.read_csv(\"agaricus-lepiota.data\", sep=',', header=None)\n",
        "data.columns = ['edible', 'cap-shape', 'cap-surface', 'cap-color', 'bruises', 'odor', 'gill-attachmen', 'gill-spacing', \n",
        "                'gill-size', 'gill-color', 'stalk-shape', 'stalk-root', 'stalk-surface-above-ring', 'stalk-surface-below-ring', 'stalk-color-above-ring',\n",
        "                'stalk-color-below-ring', 'veil-type', 'veil-color', 'ring-number', 'ring-type', 'spore-print-color', 'population', 'habitat']"
      ],
      "execution_count": 0,
      "outputs": []
    },
    {
      "cell_type": "code",
      "metadata": {
        "id": "iPVKsF0o_YyJ",
        "colab_type": "code",
        "outputId": "f918edb5-2243-4da0-e9d2-973fc5938f5b",
        "colab": {
          "base_uri": "https://localhost:8080/",
          "height": 453
        }
      },
      "source": [
        "data"
      ],
      "execution_count": 0,
      "outputs": [
        {
          "output_type": "execute_result",
          "data": {
            "text/html": [
              "<div>\n",
              "<style scoped>\n",
              "    .dataframe tbody tr th:only-of-type {\n",
              "        vertical-align: middle;\n",
              "    }\n",
              "\n",
              "    .dataframe tbody tr th {\n",
              "        vertical-align: top;\n",
              "    }\n",
              "\n",
              "    .dataframe thead th {\n",
              "        text-align: right;\n",
              "    }\n",
              "</style>\n",
              "<table border=\"1\" class=\"dataframe\">\n",
              "  <thead>\n",
              "    <tr style=\"text-align: right;\">\n",
              "      <th></th>\n",
              "      <th>edible</th>\n",
              "      <th>cap-shape</th>\n",
              "      <th>cap-surface</th>\n",
              "      <th>cap-color</th>\n",
              "      <th>bruises</th>\n",
              "      <th>odor</th>\n",
              "      <th>gill-attachmen</th>\n",
              "      <th>gill-spacing</th>\n",
              "      <th>gill-size</th>\n",
              "      <th>gill-color</th>\n",
              "      <th>stalk-shape</th>\n",
              "      <th>stalk-root</th>\n",
              "      <th>stalk-surface-above-ring</th>\n",
              "      <th>stalk-surface-below-ring</th>\n",
              "      <th>stalk-color-above-ring</th>\n",
              "      <th>stalk-color-below-ring</th>\n",
              "      <th>veil-type</th>\n",
              "      <th>veil-color</th>\n",
              "      <th>ring-number</th>\n",
              "      <th>ring-type</th>\n",
              "      <th>spore-print-color</th>\n",
              "      <th>population</th>\n",
              "      <th>habitat</th>\n",
              "    </tr>\n",
              "  </thead>\n",
              "  <tbody>\n",
              "    <tr>\n",
              "      <th>0</th>\n",
              "      <td>p</td>\n",
              "      <td>x</td>\n",
              "      <td>s</td>\n",
              "      <td>n</td>\n",
              "      <td>t</td>\n",
              "      <td>p</td>\n",
              "      <td>f</td>\n",
              "      <td>c</td>\n",
              "      <td>n</td>\n",
              "      <td>k</td>\n",
              "      <td>e</td>\n",
              "      <td>e</td>\n",
              "      <td>s</td>\n",
              "      <td>s</td>\n",
              "      <td>w</td>\n",
              "      <td>w</td>\n",
              "      <td>p</td>\n",
              "      <td>w</td>\n",
              "      <td>o</td>\n",
              "      <td>p</td>\n",
              "      <td>k</td>\n",
              "      <td>s</td>\n",
              "      <td>u</td>\n",
              "    </tr>\n",
              "    <tr>\n",
              "      <th>1</th>\n",
              "      <td>e</td>\n",
              "      <td>x</td>\n",
              "      <td>s</td>\n",
              "      <td>y</td>\n",
              "      <td>t</td>\n",
              "      <td>a</td>\n",
              "      <td>f</td>\n",
              "      <td>c</td>\n",
              "      <td>b</td>\n",
              "      <td>k</td>\n",
              "      <td>e</td>\n",
              "      <td>c</td>\n",
              "      <td>s</td>\n",
              "      <td>s</td>\n",
              "      <td>w</td>\n",
              "      <td>w</td>\n",
              "      <td>p</td>\n",
              "      <td>w</td>\n",
              "      <td>o</td>\n",
              "      <td>p</td>\n",
              "      <td>n</td>\n",
              "      <td>n</td>\n",
              "      <td>g</td>\n",
              "    </tr>\n",
              "    <tr>\n",
              "      <th>2</th>\n",
              "      <td>e</td>\n",
              "      <td>b</td>\n",
              "      <td>s</td>\n",
              "      <td>w</td>\n",
              "      <td>t</td>\n",
              "      <td>l</td>\n",
              "      <td>f</td>\n",
              "      <td>c</td>\n",
              "      <td>b</td>\n",
              "      <td>n</td>\n",
              "      <td>e</td>\n",
              "      <td>c</td>\n",
              "      <td>s</td>\n",
              "      <td>s</td>\n",
              "      <td>w</td>\n",
              "      <td>w</td>\n",
              "      <td>p</td>\n",
              "      <td>w</td>\n",
              "      <td>o</td>\n",
              "      <td>p</td>\n",
              "      <td>n</td>\n",
              "      <td>n</td>\n",
              "      <td>m</td>\n",
              "    </tr>\n",
              "    <tr>\n",
              "      <th>3</th>\n",
              "      <td>p</td>\n",
              "      <td>x</td>\n",
              "      <td>y</td>\n",
              "      <td>w</td>\n",
              "      <td>t</td>\n",
              "      <td>p</td>\n",
              "      <td>f</td>\n",
              "      <td>c</td>\n",
              "      <td>n</td>\n",
              "      <td>n</td>\n",
              "      <td>e</td>\n",
              "      <td>e</td>\n",
              "      <td>s</td>\n",
              "      <td>s</td>\n",
              "      <td>w</td>\n",
              "      <td>w</td>\n",
              "      <td>p</td>\n",
              "      <td>w</td>\n",
              "      <td>o</td>\n",
              "      <td>p</td>\n",
              "      <td>k</td>\n",
              "      <td>s</td>\n",
              "      <td>u</td>\n",
              "    </tr>\n",
              "    <tr>\n",
              "      <th>4</th>\n",
              "      <td>e</td>\n",
              "      <td>x</td>\n",
              "      <td>s</td>\n",
              "      <td>g</td>\n",
              "      <td>f</td>\n",
              "      <td>n</td>\n",
              "      <td>f</td>\n",
              "      <td>w</td>\n",
              "      <td>b</td>\n",
              "      <td>k</td>\n",
              "      <td>t</td>\n",
              "      <td>e</td>\n",
              "      <td>s</td>\n",
              "      <td>s</td>\n",
              "      <td>w</td>\n",
              "      <td>w</td>\n",
              "      <td>p</td>\n",
              "      <td>w</td>\n",
              "      <td>o</td>\n",
              "      <td>e</td>\n",
              "      <td>n</td>\n",
              "      <td>a</td>\n",
              "      <td>g</td>\n",
              "    </tr>\n",
              "    <tr>\n",
              "      <th>...</th>\n",
              "      <td>...</td>\n",
              "      <td>...</td>\n",
              "      <td>...</td>\n",
              "      <td>...</td>\n",
              "      <td>...</td>\n",
              "      <td>...</td>\n",
              "      <td>...</td>\n",
              "      <td>...</td>\n",
              "      <td>...</td>\n",
              "      <td>...</td>\n",
              "      <td>...</td>\n",
              "      <td>...</td>\n",
              "      <td>...</td>\n",
              "      <td>...</td>\n",
              "      <td>...</td>\n",
              "      <td>...</td>\n",
              "      <td>...</td>\n",
              "      <td>...</td>\n",
              "      <td>...</td>\n",
              "      <td>...</td>\n",
              "      <td>...</td>\n",
              "      <td>...</td>\n",
              "      <td>...</td>\n",
              "    </tr>\n",
              "    <tr>\n",
              "      <th>8119</th>\n",
              "      <td>e</td>\n",
              "      <td>k</td>\n",
              "      <td>s</td>\n",
              "      <td>n</td>\n",
              "      <td>f</td>\n",
              "      <td>n</td>\n",
              "      <td>a</td>\n",
              "      <td>c</td>\n",
              "      <td>b</td>\n",
              "      <td>y</td>\n",
              "      <td>e</td>\n",
              "      <td>?</td>\n",
              "      <td>s</td>\n",
              "      <td>s</td>\n",
              "      <td>o</td>\n",
              "      <td>o</td>\n",
              "      <td>p</td>\n",
              "      <td>o</td>\n",
              "      <td>o</td>\n",
              "      <td>p</td>\n",
              "      <td>b</td>\n",
              "      <td>c</td>\n",
              "      <td>l</td>\n",
              "    </tr>\n",
              "    <tr>\n",
              "      <th>8120</th>\n",
              "      <td>e</td>\n",
              "      <td>x</td>\n",
              "      <td>s</td>\n",
              "      <td>n</td>\n",
              "      <td>f</td>\n",
              "      <td>n</td>\n",
              "      <td>a</td>\n",
              "      <td>c</td>\n",
              "      <td>b</td>\n",
              "      <td>y</td>\n",
              "      <td>e</td>\n",
              "      <td>?</td>\n",
              "      <td>s</td>\n",
              "      <td>s</td>\n",
              "      <td>o</td>\n",
              "      <td>o</td>\n",
              "      <td>p</td>\n",
              "      <td>n</td>\n",
              "      <td>o</td>\n",
              "      <td>p</td>\n",
              "      <td>b</td>\n",
              "      <td>v</td>\n",
              "      <td>l</td>\n",
              "    </tr>\n",
              "    <tr>\n",
              "      <th>8121</th>\n",
              "      <td>e</td>\n",
              "      <td>f</td>\n",
              "      <td>s</td>\n",
              "      <td>n</td>\n",
              "      <td>f</td>\n",
              "      <td>n</td>\n",
              "      <td>a</td>\n",
              "      <td>c</td>\n",
              "      <td>b</td>\n",
              "      <td>n</td>\n",
              "      <td>e</td>\n",
              "      <td>?</td>\n",
              "      <td>s</td>\n",
              "      <td>s</td>\n",
              "      <td>o</td>\n",
              "      <td>o</td>\n",
              "      <td>p</td>\n",
              "      <td>o</td>\n",
              "      <td>o</td>\n",
              "      <td>p</td>\n",
              "      <td>b</td>\n",
              "      <td>c</td>\n",
              "      <td>l</td>\n",
              "    </tr>\n",
              "    <tr>\n",
              "      <th>8122</th>\n",
              "      <td>p</td>\n",
              "      <td>k</td>\n",
              "      <td>y</td>\n",
              "      <td>n</td>\n",
              "      <td>f</td>\n",
              "      <td>y</td>\n",
              "      <td>f</td>\n",
              "      <td>c</td>\n",
              "      <td>n</td>\n",
              "      <td>b</td>\n",
              "      <td>t</td>\n",
              "      <td>?</td>\n",
              "      <td>s</td>\n",
              "      <td>k</td>\n",
              "      <td>w</td>\n",
              "      <td>w</td>\n",
              "      <td>p</td>\n",
              "      <td>w</td>\n",
              "      <td>o</td>\n",
              "      <td>e</td>\n",
              "      <td>w</td>\n",
              "      <td>v</td>\n",
              "      <td>l</td>\n",
              "    </tr>\n",
              "    <tr>\n",
              "      <th>8123</th>\n",
              "      <td>e</td>\n",
              "      <td>x</td>\n",
              "      <td>s</td>\n",
              "      <td>n</td>\n",
              "      <td>f</td>\n",
              "      <td>n</td>\n",
              "      <td>a</td>\n",
              "      <td>c</td>\n",
              "      <td>b</td>\n",
              "      <td>y</td>\n",
              "      <td>e</td>\n",
              "      <td>?</td>\n",
              "      <td>s</td>\n",
              "      <td>s</td>\n",
              "      <td>o</td>\n",
              "      <td>o</td>\n",
              "      <td>p</td>\n",
              "      <td>o</td>\n",
              "      <td>o</td>\n",
              "      <td>p</td>\n",
              "      <td>o</td>\n",
              "      <td>c</td>\n",
              "      <td>l</td>\n",
              "    </tr>\n",
              "  </tbody>\n",
              "</table>\n",
              "<p>8124 rows × 23 columns</p>\n",
              "</div>"
            ],
            "text/plain": [
              "     edible cap-shape cap-surface  ... spore-print-color population habitat\n",
              "0         p         x           s  ...                 k          s       u\n",
              "1         e         x           s  ...                 n          n       g\n",
              "2         e         b           s  ...                 n          n       m\n",
              "3         p         x           y  ...                 k          s       u\n",
              "4         e         x           s  ...                 n          a       g\n",
              "...     ...       ...         ...  ...               ...        ...     ...\n",
              "8119      e         k           s  ...                 b          c       l\n",
              "8120      e         x           s  ...                 b          v       l\n",
              "8121      e         f           s  ...                 b          c       l\n",
              "8122      p         k           y  ...                 w          v       l\n",
              "8123      e         x           s  ...                 o          c       l\n",
              "\n",
              "[8124 rows x 23 columns]"
            ]
          },
          "metadata": {
            "tags": []
          },
          "execution_count": 34
        }
      ]
    },
    {
      "cell_type": "markdown",
      "metadata": {
        "id": "_fdbQ5VfA3k_",
        "colab_type": "text"
      },
      "source": [
        "# Обработка данных"
      ]
    },
    {
      "cell_type": "markdown",
      "metadata": {
        "id": "fnA9TYzmxR5m",
        "colab_type": "text"
      },
      "source": [
        "Пропущенные значения имеют вид \"?\", а не NaN как обычно "
      ]
    },
    {
      "cell_type": "code",
      "metadata": {
        "id": "bNXPFiA-_ZhO",
        "colab_type": "code",
        "outputId": "d73e4316-4af8-4cbd-aa58-e526b0818815",
        "colab": {
          "base_uri": "https://localhost:8080/",
          "height": 408
        }
      },
      "source": [
        "for column in data.columns:\n",
        "  print(column, data[column].unique())"
      ],
      "execution_count": 0,
      "outputs": [
        {
          "output_type": "stream",
          "text": [
            "edible ['p' 'e']\n",
            "cap-shape ['x' 'b' 's' 'f' 'k' 'c']\n",
            "cap-surface ['s' 'y' 'f' 'g']\n",
            "cap-color ['n' 'y' 'w' 'g' 'e' 'p' 'b' 'u' 'c' 'r']\n",
            "bruises ['t' 'f']\n",
            "odor ['p' 'a' 'l' 'n' 'f' 'c' 'y' 's' 'm']\n",
            "gill-attachmen ['f' 'a']\n",
            "gill-spacing ['c' 'w']\n",
            "gill-size ['n' 'b']\n",
            "gill-color ['k' 'n' 'g' 'p' 'w' 'h' 'u' 'e' 'b' 'r' 'y' 'o']\n",
            "stalk-shape ['e' 't']\n",
            "stalk-root ['e' 'c' 'b' 'r' '?']\n",
            "stalk-surface-above-ring ['s' 'f' 'k' 'y']\n",
            "stalk-surface-below-ring ['s' 'f' 'y' 'k']\n",
            "stalk-color-above-ring ['w' 'g' 'p' 'n' 'b' 'e' 'o' 'c' 'y']\n",
            "stalk-color-below-ring ['w' 'p' 'g' 'b' 'n' 'e' 'y' 'o' 'c']\n",
            "veil-type ['p']\n",
            "veil-color ['w' 'n' 'o' 'y']\n",
            "ring-number ['o' 't' 'n']\n",
            "ring-type ['p' 'e' 'l' 'f' 'n']\n",
            "spore-print-color ['k' 'n' 'u' 'h' 'w' 'r' 'o' 'y' 'b']\n",
            "population ['s' 'n' 'a' 'v' 'y' 'c']\n",
            "habitat ['u' 'g' 'm' 'd' 'p' 'w' 'l']\n"
          ],
          "name": "stdout"
        }
      ]
    },
    {
      "cell_type": "code",
      "metadata": {
        "id": "vrRCuHHHkmxi",
        "colab_type": "code",
        "colab": {}
      },
      "source": [
        "data = data.drop( columns=['veil-type'])"
      ],
      "execution_count": 0,
      "outputs": []
    },
    {
      "cell_type": "code",
      "metadata": {
        "id": "nR1ToqoWyRTt",
        "colab_type": "code",
        "colab": {}
      },
      "source": [
        "data = data.replace(to_replace = \"?\", value=np.nan) "
      ],
      "execution_count": 0,
      "outputs": []
    },
    {
      "cell_type": "code",
      "metadata": {
        "id": "QUF9HhARy85g",
        "colab_type": "code",
        "outputId": "3bca8e84-fd41-4a5b-fb0f-28451863c076",
        "colab": {
          "base_uri": "https://localhost:8080/",
          "height": 1000
        }
      },
      "source": [
        "for column in data.columns:\n",
        "  print(column, data[column].mode())\n",
        "data = data.fillna(data.mode().iloc[0])\n",
        "data"
      ],
      "execution_count": 0,
      "outputs": [
        {
          "output_type": "stream",
          "text": [
            "edible 0    e\n",
            "dtype: object\n",
            "cap-shape 0    x\n",
            "dtype: object\n",
            "cap-surface 0    y\n",
            "dtype: object\n",
            "cap-color 0    n\n",
            "dtype: object\n",
            "bruises 0    f\n",
            "dtype: object\n",
            "odor 0    n\n",
            "dtype: object\n",
            "gill-attachmen 0    f\n",
            "dtype: object\n",
            "gill-spacing 0    c\n",
            "dtype: object\n",
            "gill-size 0    b\n",
            "dtype: object\n",
            "gill-color 0    b\n",
            "dtype: object\n",
            "stalk-shape 0    t\n",
            "dtype: object\n",
            "stalk-root 0    b\n",
            "dtype: object\n",
            "stalk-surface-above-ring 0    s\n",
            "dtype: object\n",
            "stalk-surface-below-ring 0    s\n",
            "dtype: object\n",
            "stalk-color-above-ring 0    w\n",
            "dtype: object\n",
            "stalk-color-below-ring 0    w\n",
            "dtype: object\n",
            "veil-color 0    w\n",
            "dtype: object\n",
            "ring-number 0    o\n",
            "dtype: object\n",
            "ring-type 0    p\n",
            "dtype: object\n",
            "spore-print-color 0    w\n",
            "dtype: object\n",
            "population 0    v\n",
            "dtype: object\n",
            "habitat 0    d\n",
            "dtype: object\n"
          ],
          "name": "stdout"
        },
        {
          "output_type": "execute_result",
          "data": {
            "text/html": [
              "<div>\n",
              "<style scoped>\n",
              "    .dataframe tbody tr th:only-of-type {\n",
              "        vertical-align: middle;\n",
              "    }\n",
              "\n",
              "    .dataframe tbody tr th {\n",
              "        vertical-align: top;\n",
              "    }\n",
              "\n",
              "    .dataframe thead th {\n",
              "        text-align: right;\n",
              "    }\n",
              "</style>\n",
              "<table border=\"1\" class=\"dataframe\">\n",
              "  <thead>\n",
              "    <tr style=\"text-align: right;\">\n",
              "      <th></th>\n",
              "      <th>edible</th>\n",
              "      <th>cap-shape</th>\n",
              "      <th>cap-surface</th>\n",
              "      <th>cap-color</th>\n",
              "      <th>bruises</th>\n",
              "      <th>odor</th>\n",
              "      <th>gill-attachmen</th>\n",
              "      <th>gill-spacing</th>\n",
              "      <th>gill-size</th>\n",
              "      <th>gill-color</th>\n",
              "      <th>stalk-shape</th>\n",
              "      <th>stalk-root</th>\n",
              "      <th>stalk-surface-above-ring</th>\n",
              "      <th>stalk-surface-below-ring</th>\n",
              "      <th>stalk-color-above-ring</th>\n",
              "      <th>stalk-color-below-ring</th>\n",
              "      <th>veil-color</th>\n",
              "      <th>ring-number</th>\n",
              "      <th>ring-type</th>\n",
              "      <th>spore-print-color</th>\n",
              "      <th>population</th>\n",
              "      <th>habitat</th>\n",
              "    </tr>\n",
              "  </thead>\n",
              "  <tbody>\n",
              "    <tr>\n",
              "      <th>0</th>\n",
              "      <td>p</td>\n",
              "      <td>x</td>\n",
              "      <td>s</td>\n",
              "      <td>n</td>\n",
              "      <td>t</td>\n",
              "      <td>p</td>\n",
              "      <td>f</td>\n",
              "      <td>c</td>\n",
              "      <td>n</td>\n",
              "      <td>k</td>\n",
              "      <td>e</td>\n",
              "      <td>e</td>\n",
              "      <td>s</td>\n",
              "      <td>s</td>\n",
              "      <td>w</td>\n",
              "      <td>w</td>\n",
              "      <td>w</td>\n",
              "      <td>o</td>\n",
              "      <td>p</td>\n",
              "      <td>k</td>\n",
              "      <td>s</td>\n",
              "      <td>u</td>\n",
              "    </tr>\n",
              "    <tr>\n",
              "      <th>1</th>\n",
              "      <td>e</td>\n",
              "      <td>x</td>\n",
              "      <td>s</td>\n",
              "      <td>y</td>\n",
              "      <td>t</td>\n",
              "      <td>a</td>\n",
              "      <td>f</td>\n",
              "      <td>c</td>\n",
              "      <td>b</td>\n",
              "      <td>k</td>\n",
              "      <td>e</td>\n",
              "      <td>c</td>\n",
              "      <td>s</td>\n",
              "      <td>s</td>\n",
              "      <td>w</td>\n",
              "      <td>w</td>\n",
              "      <td>w</td>\n",
              "      <td>o</td>\n",
              "      <td>p</td>\n",
              "      <td>n</td>\n",
              "      <td>n</td>\n",
              "      <td>g</td>\n",
              "    </tr>\n",
              "    <tr>\n",
              "      <th>2</th>\n",
              "      <td>e</td>\n",
              "      <td>b</td>\n",
              "      <td>s</td>\n",
              "      <td>w</td>\n",
              "      <td>t</td>\n",
              "      <td>l</td>\n",
              "      <td>f</td>\n",
              "      <td>c</td>\n",
              "      <td>b</td>\n",
              "      <td>n</td>\n",
              "      <td>e</td>\n",
              "      <td>c</td>\n",
              "      <td>s</td>\n",
              "      <td>s</td>\n",
              "      <td>w</td>\n",
              "      <td>w</td>\n",
              "      <td>w</td>\n",
              "      <td>o</td>\n",
              "      <td>p</td>\n",
              "      <td>n</td>\n",
              "      <td>n</td>\n",
              "      <td>m</td>\n",
              "    </tr>\n",
              "    <tr>\n",
              "      <th>3</th>\n",
              "      <td>p</td>\n",
              "      <td>x</td>\n",
              "      <td>y</td>\n",
              "      <td>w</td>\n",
              "      <td>t</td>\n",
              "      <td>p</td>\n",
              "      <td>f</td>\n",
              "      <td>c</td>\n",
              "      <td>n</td>\n",
              "      <td>n</td>\n",
              "      <td>e</td>\n",
              "      <td>e</td>\n",
              "      <td>s</td>\n",
              "      <td>s</td>\n",
              "      <td>w</td>\n",
              "      <td>w</td>\n",
              "      <td>w</td>\n",
              "      <td>o</td>\n",
              "      <td>p</td>\n",
              "      <td>k</td>\n",
              "      <td>s</td>\n",
              "      <td>u</td>\n",
              "    </tr>\n",
              "    <tr>\n",
              "      <th>4</th>\n",
              "      <td>e</td>\n",
              "      <td>x</td>\n",
              "      <td>s</td>\n",
              "      <td>g</td>\n",
              "      <td>f</td>\n",
              "      <td>n</td>\n",
              "      <td>f</td>\n",
              "      <td>w</td>\n",
              "      <td>b</td>\n",
              "      <td>k</td>\n",
              "      <td>t</td>\n",
              "      <td>e</td>\n",
              "      <td>s</td>\n",
              "      <td>s</td>\n",
              "      <td>w</td>\n",
              "      <td>w</td>\n",
              "      <td>w</td>\n",
              "      <td>o</td>\n",
              "      <td>e</td>\n",
              "      <td>n</td>\n",
              "      <td>a</td>\n",
              "      <td>g</td>\n",
              "    </tr>\n",
              "    <tr>\n",
              "      <th>...</th>\n",
              "      <td>...</td>\n",
              "      <td>...</td>\n",
              "      <td>...</td>\n",
              "      <td>...</td>\n",
              "      <td>...</td>\n",
              "      <td>...</td>\n",
              "      <td>...</td>\n",
              "      <td>...</td>\n",
              "      <td>...</td>\n",
              "      <td>...</td>\n",
              "      <td>...</td>\n",
              "      <td>...</td>\n",
              "      <td>...</td>\n",
              "      <td>...</td>\n",
              "      <td>...</td>\n",
              "      <td>...</td>\n",
              "      <td>...</td>\n",
              "      <td>...</td>\n",
              "      <td>...</td>\n",
              "      <td>...</td>\n",
              "      <td>...</td>\n",
              "      <td>...</td>\n",
              "    </tr>\n",
              "    <tr>\n",
              "      <th>8119</th>\n",
              "      <td>e</td>\n",
              "      <td>k</td>\n",
              "      <td>s</td>\n",
              "      <td>n</td>\n",
              "      <td>f</td>\n",
              "      <td>n</td>\n",
              "      <td>a</td>\n",
              "      <td>c</td>\n",
              "      <td>b</td>\n",
              "      <td>y</td>\n",
              "      <td>e</td>\n",
              "      <td>b</td>\n",
              "      <td>s</td>\n",
              "      <td>s</td>\n",
              "      <td>o</td>\n",
              "      <td>o</td>\n",
              "      <td>o</td>\n",
              "      <td>o</td>\n",
              "      <td>p</td>\n",
              "      <td>b</td>\n",
              "      <td>c</td>\n",
              "      <td>l</td>\n",
              "    </tr>\n",
              "    <tr>\n",
              "      <th>8120</th>\n",
              "      <td>e</td>\n",
              "      <td>x</td>\n",
              "      <td>s</td>\n",
              "      <td>n</td>\n",
              "      <td>f</td>\n",
              "      <td>n</td>\n",
              "      <td>a</td>\n",
              "      <td>c</td>\n",
              "      <td>b</td>\n",
              "      <td>y</td>\n",
              "      <td>e</td>\n",
              "      <td>b</td>\n",
              "      <td>s</td>\n",
              "      <td>s</td>\n",
              "      <td>o</td>\n",
              "      <td>o</td>\n",
              "      <td>n</td>\n",
              "      <td>o</td>\n",
              "      <td>p</td>\n",
              "      <td>b</td>\n",
              "      <td>v</td>\n",
              "      <td>l</td>\n",
              "    </tr>\n",
              "    <tr>\n",
              "      <th>8121</th>\n",
              "      <td>e</td>\n",
              "      <td>f</td>\n",
              "      <td>s</td>\n",
              "      <td>n</td>\n",
              "      <td>f</td>\n",
              "      <td>n</td>\n",
              "      <td>a</td>\n",
              "      <td>c</td>\n",
              "      <td>b</td>\n",
              "      <td>n</td>\n",
              "      <td>e</td>\n",
              "      <td>b</td>\n",
              "      <td>s</td>\n",
              "      <td>s</td>\n",
              "      <td>o</td>\n",
              "      <td>o</td>\n",
              "      <td>o</td>\n",
              "      <td>o</td>\n",
              "      <td>p</td>\n",
              "      <td>b</td>\n",
              "      <td>c</td>\n",
              "      <td>l</td>\n",
              "    </tr>\n",
              "    <tr>\n",
              "      <th>8122</th>\n",
              "      <td>p</td>\n",
              "      <td>k</td>\n",
              "      <td>y</td>\n",
              "      <td>n</td>\n",
              "      <td>f</td>\n",
              "      <td>y</td>\n",
              "      <td>f</td>\n",
              "      <td>c</td>\n",
              "      <td>n</td>\n",
              "      <td>b</td>\n",
              "      <td>t</td>\n",
              "      <td>b</td>\n",
              "      <td>s</td>\n",
              "      <td>k</td>\n",
              "      <td>w</td>\n",
              "      <td>w</td>\n",
              "      <td>w</td>\n",
              "      <td>o</td>\n",
              "      <td>e</td>\n",
              "      <td>w</td>\n",
              "      <td>v</td>\n",
              "      <td>l</td>\n",
              "    </tr>\n",
              "    <tr>\n",
              "      <th>8123</th>\n",
              "      <td>e</td>\n",
              "      <td>x</td>\n",
              "      <td>s</td>\n",
              "      <td>n</td>\n",
              "      <td>f</td>\n",
              "      <td>n</td>\n",
              "      <td>a</td>\n",
              "      <td>c</td>\n",
              "      <td>b</td>\n",
              "      <td>y</td>\n",
              "      <td>e</td>\n",
              "      <td>b</td>\n",
              "      <td>s</td>\n",
              "      <td>s</td>\n",
              "      <td>o</td>\n",
              "      <td>o</td>\n",
              "      <td>o</td>\n",
              "      <td>o</td>\n",
              "      <td>p</td>\n",
              "      <td>o</td>\n",
              "      <td>c</td>\n",
              "      <td>l</td>\n",
              "    </tr>\n",
              "  </tbody>\n",
              "</table>\n",
              "<p>8124 rows × 22 columns</p>\n",
              "</div>"
            ],
            "text/plain": [
              "     edible cap-shape cap-surface  ... spore-print-color population habitat\n",
              "0         p         x           s  ...                 k          s       u\n",
              "1         e         x           s  ...                 n          n       g\n",
              "2         e         b           s  ...                 n          n       m\n",
              "3         p         x           y  ...                 k          s       u\n",
              "4         e         x           s  ...                 n          a       g\n",
              "...     ...       ...         ...  ...               ...        ...     ...\n",
              "8119      e         k           s  ...                 b          c       l\n",
              "8120      e         x           s  ...                 b          v       l\n",
              "8121      e         f           s  ...                 b          c       l\n",
              "8122      p         k           y  ...                 w          v       l\n",
              "8123      e         x           s  ...                 o          c       l\n",
              "\n",
              "[8124 rows x 22 columns]"
            ]
          },
          "metadata": {
            "tags": []
          },
          "execution_count": 38
        }
      ]
    },
    {
      "cell_type": "markdown",
      "metadata": {
        "id": "3veXANXq5UU7",
        "colab_type": "text"
      },
      "source": [
        "Обработка категориальных признаков"
      ]
    },
    {
      "cell_type": "code",
      "metadata": {
        "id": "s5XExV1UzEi3",
        "colab_type": "code",
        "colab": {}
      },
      "source": [
        "data.at[data['edible'] == 'p', 'edible'] = 1\n",
        "data.at[data['edible'] == 'e', 'edible'] = 0\n",
        "\n",
        "data.at[data['bruises'] == 't', 'bruises'] = 1\n",
        "data.at[data['bruises'] == 'f', 'bruises'] = 0\n",
        "\n",
        "data.at[data['gill-attachmen'] == 'f', 'gill-attachmen'] = 1\n",
        "data.at[data['gill-attachmen'] == 'a', 'gill-attachmen'] = 0\n",
        "\n",
        "data.at[data['gill-spacing'] == 'c', 'gill-spacing'] = 1\n",
        "data.at[data['gill-spacing'] == 'w', 'gill-spacing'] = 0\n",
        "\n",
        "data.at[data['gill-size'] == 'n', 'gill-size'] = 1\n",
        "data.at[data['gill-size'] == 'b', 'gill-size'] = 0\n",
        "\n",
        "data.at[data['stalk-shape'] == 'e', 'stalk-shape'] = 1\n",
        "data.at[data['stalk-shape'] == 't', 'stalk-shape'] = 0\n",
        "\n",
        "# ring number \n",
        "data.at[data['ring-number'] == 'n', 'ring-number'] = 0 #none\n",
        "data.at[data['ring-number'] == 'o', 'ring-number'] = 1 #one\n",
        "data.at[data['ring-number'] == 't', 'ring-number'] = 2 #two"
      ],
      "execution_count": 0,
      "outputs": []
    },
    {
      "cell_type": "code",
      "metadata": {
        "id": "vUJNtxSG5fqD",
        "colab_type": "code",
        "outputId": "acd6c6ec-8a11-421d-e834-ea83510d35ed",
        "colab": {
          "base_uri": "https://localhost:8080/",
          "height": 391
        }
      },
      "source": [
        "for column in data.columns:\n",
        "  print(column, data[column].unique())"
      ],
      "execution_count": 0,
      "outputs": [
        {
          "output_type": "stream",
          "text": [
            "edible [1 0]\n",
            "cap-shape ['x' 'b' 's' 'f' 'k' 'c']\n",
            "cap-surface ['s' 'y' 'f' 'g']\n",
            "cap-color ['n' 'y' 'w' 'g' 'e' 'p' 'b' 'u' 'c' 'r']\n",
            "bruises [1 0]\n",
            "odor ['p' 'a' 'l' 'n' 'f' 'c' 'y' 's' 'm']\n",
            "gill-attachmen [1 0]\n",
            "gill-spacing [1 0]\n",
            "gill-size [1 0]\n",
            "gill-color ['k' 'n' 'g' 'p' 'w' 'h' 'u' 'e' 'b' 'r' 'y' 'o']\n",
            "stalk-shape [1 0]\n",
            "stalk-root ['e' 'c' 'b' 'r']\n",
            "stalk-surface-above-ring ['s' 'f' 'k' 'y']\n",
            "stalk-surface-below-ring ['s' 'f' 'y' 'k']\n",
            "stalk-color-above-ring ['w' 'g' 'p' 'n' 'b' 'e' 'o' 'c' 'y']\n",
            "stalk-color-below-ring ['w' 'p' 'g' 'b' 'n' 'e' 'y' 'o' 'c']\n",
            "veil-color ['w' 'n' 'o' 'y']\n",
            "ring-number [1 2 0]\n",
            "ring-type ['p' 'e' 'l' 'f' 'n']\n",
            "spore-print-color ['k' 'n' 'u' 'h' 'w' 'r' 'o' 'y' 'b']\n",
            "population ['s' 'n' 'a' 'v' 'y' 'c']\n",
            "habitat ['u' 'g' 'm' 'd' 'p' 'w' 'l']\n"
          ],
          "name": "stdout"
        }
      ]
    },
    {
      "cell_type": "code",
      "metadata": {
        "id": "O3YMmKNLvGvD",
        "colab_type": "code",
        "outputId": "792f43a5-4acf-4c2e-8a7a-eb704d09f9ba",
        "colab": {
          "base_uri": "https://localhost:8080/",
          "height": 190
        }
      },
      "source": [
        "data.describe(include = 'all')"
      ],
      "execution_count": 0,
      "outputs": [
        {
          "output_type": "execute_result",
          "data": {
            "text/html": [
              "<div>\n",
              "<style scoped>\n",
              "    .dataframe tbody tr th:only-of-type {\n",
              "        vertical-align: middle;\n",
              "    }\n",
              "\n",
              "    .dataframe tbody tr th {\n",
              "        vertical-align: top;\n",
              "    }\n",
              "\n",
              "    .dataframe thead th {\n",
              "        text-align: right;\n",
              "    }\n",
              "</style>\n",
              "<table border=\"1\" class=\"dataframe\">\n",
              "  <thead>\n",
              "    <tr style=\"text-align: right;\">\n",
              "      <th></th>\n",
              "      <th>edible</th>\n",
              "      <th>cap-shape</th>\n",
              "      <th>cap-surface</th>\n",
              "      <th>cap-color</th>\n",
              "      <th>bruises</th>\n",
              "      <th>odor</th>\n",
              "      <th>gill-attachmen</th>\n",
              "      <th>gill-spacing</th>\n",
              "      <th>gill-size</th>\n",
              "      <th>gill-color</th>\n",
              "      <th>stalk-shape</th>\n",
              "      <th>stalk-root</th>\n",
              "      <th>stalk-surface-above-ring</th>\n",
              "      <th>stalk-surface-below-ring</th>\n",
              "      <th>stalk-color-above-ring</th>\n",
              "      <th>stalk-color-below-ring</th>\n",
              "      <th>veil-color</th>\n",
              "      <th>ring-number</th>\n",
              "      <th>ring-type</th>\n",
              "      <th>spore-print-color</th>\n",
              "      <th>population</th>\n",
              "      <th>habitat</th>\n",
              "    </tr>\n",
              "  </thead>\n",
              "  <tbody>\n",
              "    <tr>\n",
              "      <th>count</th>\n",
              "      <td>8124</td>\n",
              "      <td>8124</td>\n",
              "      <td>8124</td>\n",
              "      <td>8124</td>\n",
              "      <td>8124</td>\n",
              "      <td>8124</td>\n",
              "      <td>8124</td>\n",
              "      <td>8124</td>\n",
              "      <td>8124</td>\n",
              "      <td>8124</td>\n",
              "      <td>8124</td>\n",
              "      <td>8124</td>\n",
              "      <td>8124</td>\n",
              "      <td>8124</td>\n",
              "      <td>8124</td>\n",
              "      <td>8124</td>\n",
              "      <td>8124</td>\n",
              "      <td>8124</td>\n",
              "      <td>8124</td>\n",
              "      <td>8124</td>\n",
              "      <td>8124</td>\n",
              "      <td>8124</td>\n",
              "    </tr>\n",
              "    <tr>\n",
              "      <th>unique</th>\n",
              "      <td>2</td>\n",
              "      <td>6</td>\n",
              "      <td>4</td>\n",
              "      <td>10</td>\n",
              "      <td>2</td>\n",
              "      <td>9</td>\n",
              "      <td>2</td>\n",
              "      <td>2</td>\n",
              "      <td>2</td>\n",
              "      <td>12</td>\n",
              "      <td>2</td>\n",
              "      <td>4</td>\n",
              "      <td>4</td>\n",
              "      <td>4</td>\n",
              "      <td>9</td>\n",
              "      <td>9</td>\n",
              "      <td>4</td>\n",
              "      <td>3</td>\n",
              "      <td>5</td>\n",
              "      <td>9</td>\n",
              "      <td>6</td>\n",
              "      <td>7</td>\n",
              "    </tr>\n",
              "    <tr>\n",
              "      <th>top</th>\n",
              "      <td>0</td>\n",
              "      <td>x</td>\n",
              "      <td>y</td>\n",
              "      <td>n</td>\n",
              "      <td>0</td>\n",
              "      <td>n</td>\n",
              "      <td>1</td>\n",
              "      <td>1</td>\n",
              "      <td>0</td>\n",
              "      <td>b</td>\n",
              "      <td>0</td>\n",
              "      <td>b</td>\n",
              "      <td>s</td>\n",
              "      <td>s</td>\n",
              "      <td>w</td>\n",
              "      <td>w</td>\n",
              "      <td>w</td>\n",
              "      <td>1</td>\n",
              "      <td>p</td>\n",
              "      <td>w</td>\n",
              "      <td>v</td>\n",
              "      <td>d</td>\n",
              "    </tr>\n",
              "    <tr>\n",
              "      <th>freq</th>\n",
              "      <td>4208</td>\n",
              "      <td>3656</td>\n",
              "      <td>3244</td>\n",
              "      <td>2284</td>\n",
              "      <td>4748</td>\n",
              "      <td>3528</td>\n",
              "      <td>7914</td>\n",
              "      <td>6812</td>\n",
              "      <td>5612</td>\n",
              "      <td>1728</td>\n",
              "      <td>4608</td>\n",
              "      <td>6256</td>\n",
              "      <td>5176</td>\n",
              "      <td>4936</td>\n",
              "      <td>4464</td>\n",
              "      <td>4384</td>\n",
              "      <td>7924</td>\n",
              "      <td>7488</td>\n",
              "      <td>3968</td>\n",
              "      <td>2388</td>\n",
              "      <td>4040</td>\n",
              "      <td>3148</td>\n",
              "    </tr>\n",
              "  </tbody>\n",
              "</table>\n",
              "</div>"
            ],
            "text/plain": [
              "        edible cap-shape cap-surface  ... spore-print-color  population habitat\n",
              "count     8124      8124        8124  ...              8124        8124    8124\n",
              "unique       2         6           4  ...                 9           6       7\n",
              "top          0         x           y  ...                 w           v       d\n",
              "freq      4208      3656        3244  ...              2388        4040    3148\n",
              "\n",
              "[4 rows x 22 columns]"
            ]
          },
          "metadata": {
            "tags": []
          },
          "execution_count": 41
        }
      ]
    },
    {
      "cell_type": "code",
      "metadata": {
        "id": "DoHllWoBVZBQ",
        "colab_type": "code",
        "outputId": "f73490fb-4f05-4804-f0ae-67a4e9689eb2",
        "colab": {
          "base_uri": "https://localhost:8080/",
          "height": 190
        }
      },
      "source": [
        "nonbinary_columns = [c for c in data.columns if len(data[c].unique()) > 2]\n",
        "nonbinary_columns.remove('ring-number')\n",
        "\n",
        "print(nonbinary_columns)\n",
        "\n",
        "data_nonbinary = pd.get_dummies(data[nonbinary_columns])\n",
        "print(data_nonbinary.columns)"
      ],
      "execution_count": 0,
      "outputs": [
        {
          "output_type": "stream",
          "text": [
            "['cap-shape', 'cap-surface', 'cap-color', 'odor', 'gill-color', 'stalk-root', 'stalk-surface-above-ring', 'stalk-surface-below-ring', 'stalk-color-above-ring', 'stalk-color-below-ring', 'veil-color', 'ring-type', 'spore-print-color', 'population', 'habitat']\n",
            "Index(['cap-shape_b', 'cap-shape_c', 'cap-shape_f', 'cap-shape_k',\n",
            "       'cap-shape_s', 'cap-shape_x', 'cap-surface_f', 'cap-surface_g',\n",
            "       'cap-surface_s', 'cap-surface_y',\n",
            "       ...\n",
            "       'population_s', 'population_v', 'population_y', 'habitat_d',\n",
            "       'habitat_g', 'habitat_l', 'habitat_m', 'habitat_p', 'habitat_u',\n",
            "       'habitat_w'],\n",
            "      dtype='object', length=102)\n"
          ],
          "name": "stdout"
        }
      ]
    },
    {
      "cell_type": "code",
      "metadata": {
        "id": "SfvWf832wyg6",
        "colab_type": "code",
        "colab": {}
      },
      "source": [
        "column_without_nonbinary = [i for i in data.columns if i not in nonbinary_columns]\n",
        "data = pd.concat((data_nonbinary, data[column_without_nonbinary]), axis = 1)"
      ],
      "execution_count": 0,
      "outputs": []
    },
    {
      "cell_type": "code",
      "metadata": {
        "id": "euIXws5qXgIA",
        "colab_type": "code",
        "outputId": "864d66d8-4d83-44a0-d50e-901ebf537750",
        "colab": {
          "base_uri": "https://localhost:8080/",
          "height": 397
        }
      },
      "source": [
        "data.describe()"
      ],
      "execution_count": 0,
      "outputs": [
        {
          "output_type": "execute_result",
          "data": {
            "text/html": [
              "<div>\n",
              "<style scoped>\n",
              "    .dataframe tbody tr th:only-of-type {\n",
              "        vertical-align: middle;\n",
              "    }\n",
              "\n",
              "    .dataframe tbody tr th {\n",
              "        vertical-align: top;\n",
              "    }\n",
              "\n",
              "    .dataframe thead th {\n",
              "        text-align: right;\n",
              "    }\n",
              "</style>\n",
              "<table border=\"1\" class=\"dataframe\">\n",
              "  <thead>\n",
              "    <tr style=\"text-align: right;\">\n",
              "      <th></th>\n",
              "      <th>cap-shape_b</th>\n",
              "      <th>cap-shape_c</th>\n",
              "      <th>cap-shape_f</th>\n",
              "      <th>cap-shape_k</th>\n",
              "      <th>cap-shape_s</th>\n",
              "      <th>cap-shape_x</th>\n",
              "      <th>cap-surface_f</th>\n",
              "      <th>cap-surface_g</th>\n",
              "      <th>cap-surface_s</th>\n",
              "      <th>cap-surface_y</th>\n",
              "      <th>cap-color_b</th>\n",
              "      <th>cap-color_c</th>\n",
              "      <th>cap-color_e</th>\n",
              "      <th>cap-color_g</th>\n",
              "      <th>cap-color_n</th>\n",
              "      <th>cap-color_p</th>\n",
              "      <th>cap-color_r</th>\n",
              "      <th>cap-color_u</th>\n",
              "      <th>cap-color_w</th>\n",
              "      <th>cap-color_y</th>\n",
              "      <th>odor_a</th>\n",
              "      <th>odor_c</th>\n",
              "      <th>odor_f</th>\n",
              "      <th>odor_l</th>\n",
              "      <th>odor_m</th>\n",
              "      <th>odor_n</th>\n",
              "      <th>odor_p</th>\n",
              "      <th>odor_s</th>\n",
              "      <th>odor_y</th>\n",
              "      <th>gill-color_b</th>\n",
              "      <th>gill-color_e</th>\n",
              "      <th>gill-color_g</th>\n",
              "      <th>gill-color_h</th>\n",
              "      <th>gill-color_k</th>\n",
              "      <th>gill-color_n</th>\n",
              "      <th>gill-color_o</th>\n",
              "      <th>gill-color_p</th>\n",
              "      <th>gill-color_r</th>\n",
              "      <th>gill-color_u</th>\n",
              "      <th>gill-color_w</th>\n",
              "      <th>...</th>\n",
              "      <th>stalk-color-below-ring_b</th>\n",
              "      <th>stalk-color-below-ring_c</th>\n",
              "      <th>stalk-color-below-ring_e</th>\n",
              "      <th>stalk-color-below-ring_g</th>\n",
              "      <th>stalk-color-below-ring_n</th>\n",
              "      <th>stalk-color-below-ring_o</th>\n",
              "      <th>stalk-color-below-ring_p</th>\n",
              "      <th>stalk-color-below-ring_w</th>\n",
              "      <th>stalk-color-below-ring_y</th>\n",
              "      <th>veil-color_n</th>\n",
              "      <th>veil-color_o</th>\n",
              "      <th>veil-color_w</th>\n",
              "      <th>veil-color_y</th>\n",
              "      <th>ring-type_e</th>\n",
              "      <th>ring-type_f</th>\n",
              "      <th>ring-type_l</th>\n",
              "      <th>ring-type_n</th>\n",
              "      <th>ring-type_p</th>\n",
              "      <th>spore-print-color_b</th>\n",
              "      <th>spore-print-color_h</th>\n",
              "      <th>spore-print-color_k</th>\n",
              "      <th>spore-print-color_n</th>\n",
              "      <th>spore-print-color_o</th>\n",
              "      <th>spore-print-color_r</th>\n",
              "      <th>spore-print-color_u</th>\n",
              "      <th>spore-print-color_w</th>\n",
              "      <th>spore-print-color_y</th>\n",
              "      <th>population_a</th>\n",
              "      <th>population_c</th>\n",
              "      <th>population_n</th>\n",
              "      <th>population_s</th>\n",
              "      <th>population_v</th>\n",
              "      <th>population_y</th>\n",
              "      <th>habitat_d</th>\n",
              "      <th>habitat_g</th>\n",
              "      <th>habitat_l</th>\n",
              "      <th>habitat_m</th>\n",
              "      <th>habitat_p</th>\n",
              "      <th>habitat_u</th>\n",
              "      <th>habitat_w</th>\n",
              "    </tr>\n",
              "  </thead>\n",
              "  <tbody>\n",
              "    <tr>\n",
              "      <th>count</th>\n",
              "      <td>8124.000000</td>\n",
              "      <td>8124.000000</td>\n",
              "      <td>8124.000000</td>\n",
              "      <td>8124.000000</td>\n",
              "      <td>8124.000000</td>\n",
              "      <td>8124.000000</td>\n",
              "      <td>8124.000000</td>\n",
              "      <td>8124.000000</td>\n",
              "      <td>8124.000000</td>\n",
              "      <td>8124.000000</td>\n",
              "      <td>8124.000000</td>\n",
              "      <td>8124.000000</td>\n",
              "      <td>8124.000000</td>\n",
              "      <td>8124.000000</td>\n",
              "      <td>8124.000000</td>\n",
              "      <td>8124.000000</td>\n",
              "      <td>8124.000000</td>\n",
              "      <td>8124.000000</td>\n",
              "      <td>8124.000000</td>\n",
              "      <td>8124.000000</td>\n",
              "      <td>8124.000000</td>\n",
              "      <td>8124.000000</td>\n",
              "      <td>8124.000000</td>\n",
              "      <td>8124.000000</td>\n",
              "      <td>8124.000000</td>\n",
              "      <td>8124.000000</td>\n",
              "      <td>8124.000000</td>\n",
              "      <td>8124.000000</td>\n",
              "      <td>8124.000000</td>\n",
              "      <td>8124.000000</td>\n",
              "      <td>8124.000000</td>\n",
              "      <td>8124.000000</td>\n",
              "      <td>8124.000000</td>\n",
              "      <td>8124.000000</td>\n",
              "      <td>8124.000000</td>\n",
              "      <td>8124.000000</td>\n",
              "      <td>8124.000000</td>\n",
              "      <td>8124.000000</td>\n",
              "      <td>8124.000000</td>\n",
              "      <td>8124.000000</td>\n",
              "      <td>...</td>\n",
              "      <td>8124.000000</td>\n",
              "      <td>8124.000000</td>\n",
              "      <td>8124.000000</td>\n",
              "      <td>8124.000000</td>\n",
              "      <td>8124.000000</td>\n",
              "      <td>8124.000000</td>\n",
              "      <td>8124.000000</td>\n",
              "      <td>8124.000000</td>\n",
              "      <td>8124.000000</td>\n",
              "      <td>8124.000000</td>\n",
              "      <td>8124.000000</td>\n",
              "      <td>8124.000000</td>\n",
              "      <td>8124.000000</td>\n",
              "      <td>8124.000000</td>\n",
              "      <td>8124.000000</td>\n",
              "      <td>8124.000000</td>\n",
              "      <td>8124.000000</td>\n",
              "      <td>8124.000000</td>\n",
              "      <td>8124.000000</td>\n",
              "      <td>8124.000000</td>\n",
              "      <td>8124.000000</td>\n",
              "      <td>8124.000000</td>\n",
              "      <td>8124.000000</td>\n",
              "      <td>8124.000000</td>\n",
              "      <td>8124.000000</td>\n",
              "      <td>8124.000000</td>\n",
              "      <td>8124.000000</td>\n",
              "      <td>8124.000000</td>\n",
              "      <td>8124.000000</td>\n",
              "      <td>8124.000000</td>\n",
              "      <td>8124.000000</td>\n",
              "      <td>8124.000000</td>\n",
              "      <td>8124.000000</td>\n",
              "      <td>8124.000000</td>\n",
              "      <td>8124.000000</td>\n",
              "      <td>8124.000000</td>\n",
              "      <td>8124.000000</td>\n",
              "      <td>8124.000000</td>\n",
              "      <td>8124.000000</td>\n",
              "      <td>8124.000000</td>\n",
              "    </tr>\n",
              "    <tr>\n",
              "      <th>mean</th>\n",
              "      <td>0.055638</td>\n",
              "      <td>0.000492</td>\n",
              "      <td>0.387986</td>\n",
              "      <td>0.101920</td>\n",
              "      <td>0.003939</td>\n",
              "      <td>0.450025</td>\n",
              "      <td>0.285574</td>\n",
              "      <td>0.000492</td>\n",
              "      <td>0.314623</td>\n",
              "      <td>0.399311</td>\n",
              "      <td>0.020679</td>\n",
              "      <td>0.005416</td>\n",
              "      <td>0.184638</td>\n",
              "      <td>0.226489</td>\n",
              "      <td>0.281142</td>\n",
              "      <td>0.017725</td>\n",
              "      <td>0.001969</td>\n",
              "      <td>0.001969</td>\n",
              "      <td>0.128016</td>\n",
              "      <td>0.131955</td>\n",
              "      <td>0.049237</td>\n",
              "      <td>0.023634</td>\n",
              "      <td>0.265879</td>\n",
              "      <td>0.049237</td>\n",
              "      <td>0.004431</td>\n",
              "      <td>0.434269</td>\n",
              "      <td>0.031512</td>\n",
              "      <td>0.070901</td>\n",
              "      <td>0.070901</td>\n",
              "      <td>0.212703</td>\n",
              "      <td>0.011817</td>\n",
              "      <td>0.092565</td>\n",
              "      <td>0.090103</td>\n",
              "      <td>0.050222</td>\n",
              "      <td>0.129000</td>\n",
              "      <td>0.007878</td>\n",
              "      <td>0.183653</td>\n",
              "      <td>0.002954</td>\n",
              "      <td>0.060561</td>\n",
              "      <td>0.147957</td>\n",
              "      <td>...</td>\n",
              "      <td>0.053176</td>\n",
              "      <td>0.004431</td>\n",
              "      <td>0.011817</td>\n",
              "      <td>0.070901</td>\n",
              "      <td>0.063023</td>\n",
              "      <td>0.023634</td>\n",
              "      <td>0.230428</td>\n",
              "      <td>0.539636</td>\n",
              "      <td>0.002954</td>\n",
              "      <td>0.011817</td>\n",
              "      <td>0.011817</td>\n",
              "      <td>0.975382</td>\n",
              "      <td>0.000985</td>\n",
              "      <td>0.341704</td>\n",
              "      <td>0.005908</td>\n",
              "      <td>0.159527</td>\n",
              "      <td>0.004431</td>\n",
              "      <td>0.488429</td>\n",
              "      <td>0.005908</td>\n",
              "      <td>0.200886</td>\n",
              "      <td>0.230428</td>\n",
              "      <td>0.242245</td>\n",
              "      <td>0.005908</td>\n",
              "      <td>0.008863</td>\n",
              "      <td>0.005908</td>\n",
              "      <td>0.293944</td>\n",
              "      <td>0.005908</td>\n",
              "      <td>0.047267</td>\n",
              "      <td>0.041851</td>\n",
              "      <td>0.049237</td>\n",
              "      <td>0.153619</td>\n",
              "      <td>0.497292</td>\n",
              "      <td>0.210734</td>\n",
              "      <td>0.387494</td>\n",
              "      <td>0.264402</td>\n",
              "      <td>0.102413</td>\n",
              "      <td>0.035943</td>\n",
              "      <td>0.140817</td>\n",
              "      <td>0.045298</td>\n",
              "      <td>0.023634</td>\n",
              "    </tr>\n",
              "    <tr>\n",
              "      <th>std</th>\n",
              "      <td>0.229235</td>\n",
              "      <td>0.022185</td>\n",
              "      <td>0.487321</td>\n",
              "      <td>0.302562</td>\n",
              "      <td>0.062641</td>\n",
              "      <td>0.497527</td>\n",
              "      <td>0.451715</td>\n",
              "      <td>0.022185</td>\n",
              "      <td>0.464394</td>\n",
              "      <td>0.489787</td>\n",
              "      <td>0.142318</td>\n",
              "      <td>0.073399</td>\n",
              "      <td>0.388028</td>\n",
              "      <td>0.418585</td>\n",
              "      <td>0.449584</td>\n",
              "      <td>0.131959</td>\n",
              "      <td>0.044338</td>\n",
              "      <td>0.044338</td>\n",
              "      <td>0.334128</td>\n",
              "      <td>0.338462</td>\n",
              "      <td>0.216375</td>\n",
              "      <td>0.151914</td>\n",
              "      <td>0.441827</td>\n",
              "      <td>0.216375</td>\n",
              "      <td>0.066425</td>\n",
              "      <td>0.495691</td>\n",
              "      <td>0.174706</td>\n",
              "      <td>0.256675</td>\n",
              "      <td>0.256675</td>\n",
              "      <td>0.409245</td>\n",
              "      <td>0.108068</td>\n",
              "      <td>0.289840</td>\n",
              "      <td>0.286347</td>\n",
              "      <td>0.218415</td>\n",
              "      <td>0.335221</td>\n",
              "      <td>0.088413</td>\n",
              "      <td>0.387225</td>\n",
              "      <td>0.054276</td>\n",
              "      <td>0.238539</td>\n",
              "      <td>0.355079</td>\n",
              "      <td>...</td>\n",
              "      <td>0.224398</td>\n",
              "      <td>0.066425</td>\n",
              "      <td>0.108068</td>\n",
              "      <td>0.256675</td>\n",
              "      <td>0.243020</td>\n",
              "      <td>0.151914</td>\n",
              "      <td>0.421133</td>\n",
              "      <td>0.498457</td>\n",
              "      <td>0.054276</td>\n",
              "      <td>0.108068</td>\n",
              "      <td>0.108068</td>\n",
              "      <td>0.154969</td>\n",
              "      <td>0.031367</td>\n",
              "      <td>0.474310</td>\n",
              "      <td>0.076644</td>\n",
              "      <td>0.366190</td>\n",
              "      <td>0.066425</td>\n",
              "      <td>0.499897</td>\n",
              "      <td>0.076644</td>\n",
              "      <td>0.400688</td>\n",
              "      <td>0.421133</td>\n",
              "      <td>0.428468</td>\n",
              "      <td>0.076644</td>\n",
              "      <td>0.093729</td>\n",
              "      <td>0.076644</td>\n",
              "      <td>0.455595</td>\n",
              "      <td>0.076644</td>\n",
              "      <td>0.212223</td>\n",
              "      <td>0.200262</td>\n",
              "      <td>0.216375</td>\n",
              "      <td>0.360605</td>\n",
              "      <td>0.500023</td>\n",
              "      <td>0.407855</td>\n",
              "      <td>0.487208</td>\n",
              "      <td>0.441041</td>\n",
              "      <td>0.303209</td>\n",
              "      <td>0.186159</td>\n",
              "      <td>0.347854</td>\n",
              "      <td>0.207969</td>\n",
              "      <td>0.151914</td>\n",
              "    </tr>\n",
              "    <tr>\n",
              "      <th>min</th>\n",
              "      <td>0.000000</td>\n",
              "      <td>0.000000</td>\n",
              "      <td>0.000000</td>\n",
              "      <td>0.000000</td>\n",
              "      <td>0.000000</td>\n",
              "      <td>0.000000</td>\n",
              "      <td>0.000000</td>\n",
              "      <td>0.000000</td>\n",
              "      <td>0.000000</td>\n",
              "      <td>0.000000</td>\n",
              "      <td>0.000000</td>\n",
              "      <td>0.000000</td>\n",
              "      <td>0.000000</td>\n",
              "      <td>0.000000</td>\n",
              "      <td>0.000000</td>\n",
              "      <td>0.000000</td>\n",
              "      <td>0.000000</td>\n",
              "      <td>0.000000</td>\n",
              "      <td>0.000000</td>\n",
              "      <td>0.000000</td>\n",
              "      <td>0.000000</td>\n",
              "      <td>0.000000</td>\n",
              "      <td>0.000000</td>\n",
              "      <td>0.000000</td>\n",
              "      <td>0.000000</td>\n",
              "      <td>0.000000</td>\n",
              "      <td>0.000000</td>\n",
              "      <td>0.000000</td>\n",
              "      <td>0.000000</td>\n",
              "      <td>0.000000</td>\n",
              "      <td>0.000000</td>\n",
              "      <td>0.000000</td>\n",
              "      <td>0.000000</td>\n",
              "      <td>0.000000</td>\n",
              "      <td>0.000000</td>\n",
              "      <td>0.000000</td>\n",
              "      <td>0.000000</td>\n",
              "      <td>0.000000</td>\n",
              "      <td>0.000000</td>\n",
              "      <td>0.000000</td>\n",
              "      <td>...</td>\n",
              "      <td>0.000000</td>\n",
              "      <td>0.000000</td>\n",
              "      <td>0.000000</td>\n",
              "      <td>0.000000</td>\n",
              "      <td>0.000000</td>\n",
              "      <td>0.000000</td>\n",
              "      <td>0.000000</td>\n",
              "      <td>0.000000</td>\n",
              "      <td>0.000000</td>\n",
              "      <td>0.000000</td>\n",
              "      <td>0.000000</td>\n",
              "      <td>0.000000</td>\n",
              "      <td>0.000000</td>\n",
              "      <td>0.000000</td>\n",
              "      <td>0.000000</td>\n",
              "      <td>0.000000</td>\n",
              "      <td>0.000000</td>\n",
              "      <td>0.000000</td>\n",
              "      <td>0.000000</td>\n",
              "      <td>0.000000</td>\n",
              "      <td>0.000000</td>\n",
              "      <td>0.000000</td>\n",
              "      <td>0.000000</td>\n",
              "      <td>0.000000</td>\n",
              "      <td>0.000000</td>\n",
              "      <td>0.000000</td>\n",
              "      <td>0.000000</td>\n",
              "      <td>0.000000</td>\n",
              "      <td>0.000000</td>\n",
              "      <td>0.000000</td>\n",
              "      <td>0.000000</td>\n",
              "      <td>0.000000</td>\n",
              "      <td>0.000000</td>\n",
              "      <td>0.000000</td>\n",
              "      <td>0.000000</td>\n",
              "      <td>0.000000</td>\n",
              "      <td>0.000000</td>\n",
              "      <td>0.000000</td>\n",
              "      <td>0.000000</td>\n",
              "      <td>0.000000</td>\n",
              "    </tr>\n",
              "    <tr>\n",
              "      <th>25%</th>\n",
              "      <td>0.000000</td>\n",
              "      <td>0.000000</td>\n",
              "      <td>0.000000</td>\n",
              "      <td>0.000000</td>\n",
              "      <td>0.000000</td>\n",
              "      <td>0.000000</td>\n",
              "      <td>0.000000</td>\n",
              "      <td>0.000000</td>\n",
              "      <td>0.000000</td>\n",
              "      <td>0.000000</td>\n",
              "      <td>0.000000</td>\n",
              "      <td>0.000000</td>\n",
              "      <td>0.000000</td>\n",
              "      <td>0.000000</td>\n",
              "      <td>0.000000</td>\n",
              "      <td>0.000000</td>\n",
              "      <td>0.000000</td>\n",
              "      <td>0.000000</td>\n",
              "      <td>0.000000</td>\n",
              "      <td>0.000000</td>\n",
              "      <td>0.000000</td>\n",
              "      <td>0.000000</td>\n",
              "      <td>0.000000</td>\n",
              "      <td>0.000000</td>\n",
              "      <td>0.000000</td>\n",
              "      <td>0.000000</td>\n",
              "      <td>0.000000</td>\n",
              "      <td>0.000000</td>\n",
              "      <td>0.000000</td>\n",
              "      <td>0.000000</td>\n",
              "      <td>0.000000</td>\n",
              "      <td>0.000000</td>\n",
              "      <td>0.000000</td>\n",
              "      <td>0.000000</td>\n",
              "      <td>0.000000</td>\n",
              "      <td>0.000000</td>\n",
              "      <td>0.000000</td>\n",
              "      <td>0.000000</td>\n",
              "      <td>0.000000</td>\n",
              "      <td>0.000000</td>\n",
              "      <td>...</td>\n",
              "      <td>0.000000</td>\n",
              "      <td>0.000000</td>\n",
              "      <td>0.000000</td>\n",
              "      <td>0.000000</td>\n",
              "      <td>0.000000</td>\n",
              "      <td>0.000000</td>\n",
              "      <td>0.000000</td>\n",
              "      <td>0.000000</td>\n",
              "      <td>0.000000</td>\n",
              "      <td>0.000000</td>\n",
              "      <td>0.000000</td>\n",
              "      <td>1.000000</td>\n",
              "      <td>0.000000</td>\n",
              "      <td>0.000000</td>\n",
              "      <td>0.000000</td>\n",
              "      <td>0.000000</td>\n",
              "      <td>0.000000</td>\n",
              "      <td>0.000000</td>\n",
              "      <td>0.000000</td>\n",
              "      <td>0.000000</td>\n",
              "      <td>0.000000</td>\n",
              "      <td>0.000000</td>\n",
              "      <td>0.000000</td>\n",
              "      <td>0.000000</td>\n",
              "      <td>0.000000</td>\n",
              "      <td>0.000000</td>\n",
              "      <td>0.000000</td>\n",
              "      <td>0.000000</td>\n",
              "      <td>0.000000</td>\n",
              "      <td>0.000000</td>\n",
              "      <td>0.000000</td>\n",
              "      <td>0.000000</td>\n",
              "      <td>0.000000</td>\n",
              "      <td>0.000000</td>\n",
              "      <td>0.000000</td>\n",
              "      <td>0.000000</td>\n",
              "      <td>0.000000</td>\n",
              "      <td>0.000000</td>\n",
              "      <td>0.000000</td>\n",
              "      <td>0.000000</td>\n",
              "    </tr>\n",
              "    <tr>\n",
              "      <th>50%</th>\n",
              "      <td>0.000000</td>\n",
              "      <td>0.000000</td>\n",
              "      <td>0.000000</td>\n",
              "      <td>0.000000</td>\n",
              "      <td>0.000000</td>\n",
              "      <td>0.000000</td>\n",
              "      <td>0.000000</td>\n",
              "      <td>0.000000</td>\n",
              "      <td>0.000000</td>\n",
              "      <td>0.000000</td>\n",
              "      <td>0.000000</td>\n",
              "      <td>0.000000</td>\n",
              "      <td>0.000000</td>\n",
              "      <td>0.000000</td>\n",
              "      <td>0.000000</td>\n",
              "      <td>0.000000</td>\n",
              "      <td>0.000000</td>\n",
              "      <td>0.000000</td>\n",
              "      <td>0.000000</td>\n",
              "      <td>0.000000</td>\n",
              "      <td>0.000000</td>\n",
              "      <td>0.000000</td>\n",
              "      <td>0.000000</td>\n",
              "      <td>0.000000</td>\n",
              "      <td>0.000000</td>\n",
              "      <td>0.000000</td>\n",
              "      <td>0.000000</td>\n",
              "      <td>0.000000</td>\n",
              "      <td>0.000000</td>\n",
              "      <td>0.000000</td>\n",
              "      <td>0.000000</td>\n",
              "      <td>0.000000</td>\n",
              "      <td>0.000000</td>\n",
              "      <td>0.000000</td>\n",
              "      <td>0.000000</td>\n",
              "      <td>0.000000</td>\n",
              "      <td>0.000000</td>\n",
              "      <td>0.000000</td>\n",
              "      <td>0.000000</td>\n",
              "      <td>0.000000</td>\n",
              "      <td>...</td>\n",
              "      <td>0.000000</td>\n",
              "      <td>0.000000</td>\n",
              "      <td>0.000000</td>\n",
              "      <td>0.000000</td>\n",
              "      <td>0.000000</td>\n",
              "      <td>0.000000</td>\n",
              "      <td>0.000000</td>\n",
              "      <td>1.000000</td>\n",
              "      <td>0.000000</td>\n",
              "      <td>0.000000</td>\n",
              "      <td>0.000000</td>\n",
              "      <td>1.000000</td>\n",
              "      <td>0.000000</td>\n",
              "      <td>0.000000</td>\n",
              "      <td>0.000000</td>\n",
              "      <td>0.000000</td>\n",
              "      <td>0.000000</td>\n",
              "      <td>0.000000</td>\n",
              "      <td>0.000000</td>\n",
              "      <td>0.000000</td>\n",
              "      <td>0.000000</td>\n",
              "      <td>0.000000</td>\n",
              "      <td>0.000000</td>\n",
              "      <td>0.000000</td>\n",
              "      <td>0.000000</td>\n",
              "      <td>0.000000</td>\n",
              "      <td>0.000000</td>\n",
              "      <td>0.000000</td>\n",
              "      <td>0.000000</td>\n",
              "      <td>0.000000</td>\n",
              "      <td>0.000000</td>\n",
              "      <td>0.000000</td>\n",
              "      <td>0.000000</td>\n",
              "      <td>0.000000</td>\n",
              "      <td>0.000000</td>\n",
              "      <td>0.000000</td>\n",
              "      <td>0.000000</td>\n",
              "      <td>0.000000</td>\n",
              "      <td>0.000000</td>\n",
              "      <td>0.000000</td>\n",
              "    </tr>\n",
              "    <tr>\n",
              "      <th>75%</th>\n",
              "      <td>0.000000</td>\n",
              "      <td>0.000000</td>\n",
              "      <td>1.000000</td>\n",
              "      <td>0.000000</td>\n",
              "      <td>0.000000</td>\n",
              "      <td>1.000000</td>\n",
              "      <td>1.000000</td>\n",
              "      <td>0.000000</td>\n",
              "      <td>1.000000</td>\n",
              "      <td>1.000000</td>\n",
              "      <td>0.000000</td>\n",
              "      <td>0.000000</td>\n",
              "      <td>0.000000</td>\n",
              "      <td>0.000000</td>\n",
              "      <td>1.000000</td>\n",
              "      <td>0.000000</td>\n",
              "      <td>0.000000</td>\n",
              "      <td>0.000000</td>\n",
              "      <td>0.000000</td>\n",
              "      <td>0.000000</td>\n",
              "      <td>0.000000</td>\n",
              "      <td>0.000000</td>\n",
              "      <td>1.000000</td>\n",
              "      <td>0.000000</td>\n",
              "      <td>0.000000</td>\n",
              "      <td>1.000000</td>\n",
              "      <td>0.000000</td>\n",
              "      <td>0.000000</td>\n",
              "      <td>0.000000</td>\n",
              "      <td>0.000000</td>\n",
              "      <td>0.000000</td>\n",
              "      <td>0.000000</td>\n",
              "      <td>0.000000</td>\n",
              "      <td>0.000000</td>\n",
              "      <td>0.000000</td>\n",
              "      <td>0.000000</td>\n",
              "      <td>0.000000</td>\n",
              "      <td>0.000000</td>\n",
              "      <td>0.000000</td>\n",
              "      <td>0.000000</td>\n",
              "      <td>...</td>\n",
              "      <td>0.000000</td>\n",
              "      <td>0.000000</td>\n",
              "      <td>0.000000</td>\n",
              "      <td>0.000000</td>\n",
              "      <td>0.000000</td>\n",
              "      <td>0.000000</td>\n",
              "      <td>0.000000</td>\n",
              "      <td>1.000000</td>\n",
              "      <td>0.000000</td>\n",
              "      <td>0.000000</td>\n",
              "      <td>0.000000</td>\n",
              "      <td>1.000000</td>\n",
              "      <td>0.000000</td>\n",
              "      <td>1.000000</td>\n",
              "      <td>0.000000</td>\n",
              "      <td>0.000000</td>\n",
              "      <td>0.000000</td>\n",
              "      <td>1.000000</td>\n",
              "      <td>0.000000</td>\n",
              "      <td>0.000000</td>\n",
              "      <td>0.000000</td>\n",
              "      <td>0.000000</td>\n",
              "      <td>0.000000</td>\n",
              "      <td>0.000000</td>\n",
              "      <td>0.000000</td>\n",
              "      <td>1.000000</td>\n",
              "      <td>0.000000</td>\n",
              "      <td>0.000000</td>\n",
              "      <td>0.000000</td>\n",
              "      <td>0.000000</td>\n",
              "      <td>0.000000</td>\n",
              "      <td>1.000000</td>\n",
              "      <td>0.000000</td>\n",
              "      <td>1.000000</td>\n",
              "      <td>1.000000</td>\n",
              "      <td>0.000000</td>\n",
              "      <td>0.000000</td>\n",
              "      <td>0.000000</td>\n",
              "      <td>0.000000</td>\n",
              "      <td>0.000000</td>\n",
              "    </tr>\n",
              "    <tr>\n",
              "      <th>max</th>\n",
              "      <td>1.000000</td>\n",
              "      <td>1.000000</td>\n",
              "      <td>1.000000</td>\n",
              "      <td>1.000000</td>\n",
              "      <td>1.000000</td>\n",
              "      <td>1.000000</td>\n",
              "      <td>1.000000</td>\n",
              "      <td>1.000000</td>\n",
              "      <td>1.000000</td>\n",
              "      <td>1.000000</td>\n",
              "      <td>1.000000</td>\n",
              "      <td>1.000000</td>\n",
              "      <td>1.000000</td>\n",
              "      <td>1.000000</td>\n",
              "      <td>1.000000</td>\n",
              "      <td>1.000000</td>\n",
              "      <td>1.000000</td>\n",
              "      <td>1.000000</td>\n",
              "      <td>1.000000</td>\n",
              "      <td>1.000000</td>\n",
              "      <td>1.000000</td>\n",
              "      <td>1.000000</td>\n",
              "      <td>1.000000</td>\n",
              "      <td>1.000000</td>\n",
              "      <td>1.000000</td>\n",
              "      <td>1.000000</td>\n",
              "      <td>1.000000</td>\n",
              "      <td>1.000000</td>\n",
              "      <td>1.000000</td>\n",
              "      <td>1.000000</td>\n",
              "      <td>1.000000</td>\n",
              "      <td>1.000000</td>\n",
              "      <td>1.000000</td>\n",
              "      <td>1.000000</td>\n",
              "      <td>1.000000</td>\n",
              "      <td>1.000000</td>\n",
              "      <td>1.000000</td>\n",
              "      <td>1.000000</td>\n",
              "      <td>1.000000</td>\n",
              "      <td>1.000000</td>\n",
              "      <td>...</td>\n",
              "      <td>1.000000</td>\n",
              "      <td>1.000000</td>\n",
              "      <td>1.000000</td>\n",
              "      <td>1.000000</td>\n",
              "      <td>1.000000</td>\n",
              "      <td>1.000000</td>\n",
              "      <td>1.000000</td>\n",
              "      <td>1.000000</td>\n",
              "      <td>1.000000</td>\n",
              "      <td>1.000000</td>\n",
              "      <td>1.000000</td>\n",
              "      <td>1.000000</td>\n",
              "      <td>1.000000</td>\n",
              "      <td>1.000000</td>\n",
              "      <td>1.000000</td>\n",
              "      <td>1.000000</td>\n",
              "      <td>1.000000</td>\n",
              "      <td>1.000000</td>\n",
              "      <td>1.000000</td>\n",
              "      <td>1.000000</td>\n",
              "      <td>1.000000</td>\n",
              "      <td>1.000000</td>\n",
              "      <td>1.000000</td>\n",
              "      <td>1.000000</td>\n",
              "      <td>1.000000</td>\n",
              "      <td>1.000000</td>\n",
              "      <td>1.000000</td>\n",
              "      <td>1.000000</td>\n",
              "      <td>1.000000</td>\n",
              "      <td>1.000000</td>\n",
              "      <td>1.000000</td>\n",
              "      <td>1.000000</td>\n",
              "      <td>1.000000</td>\n",
              "      <td>1.000000</td>\n",
              "      <td>1.000000</td>\n",
              "      <td>1.000000</td>\n",
              "      <td>1.000000</td>\n",
              "      <td>1.000000</td>\n",
              "      <td>1.000000</td>\n",
              "      <td>1.000000</td>\n",
              "    </tr>\n",
              "  </tbody>\n",
              "</table>\n",
              "<p>8 rows × 102 columns</p>\n",
              "</div>"
            ],
            "text/plain": [
              "       cap-shape_b  cap-shape_c  ...    habitat_u    habitat_w\n",
              "count  8124.000000  8124.000000  ...  8124.000000  8124.000000\n",
              "mean      0.055638     0.000492  ...     0.045298     0.023634\n",
              "std       0.229235     0.022185  ...     0.207969     0.151914\n",
              "min       0.000000     0.000000  ...     0.000000     0.000000\n",
              "25%       0.000000     0.000000  ...     0.000000     0.000000\n",
              "50%       0.000000     0.000000  ...     0.000000     0.000000\n",
              "75%       0.000000     0.000000  ...     0.000000     0.000000\n",
              "max       1.000000     1.000000  ...     1.000000     1.000000\n",
              "\n",
              "[8 rows x 102 columns]"
            ]
          },
          "metadata": {
            "tags": []
          },
          "execution_count": 44
        }
      ]
    },
    {
      "cell_type": "code",
      "metadata": {
        "id": "l_VQtx2aaBU1",
        "colab_type": "code",
        "outputId": "b19eaee9-b709-4802-efd5-9531d9db3e0b",
        "colab": {
          "base_uri": "https://localhost:8080/",
          "height": 575
        }
      },
      "source": [
        "data.corr()"
      ],
      "execution_count": 0,
      "outputs": [
        {
          "output_type": "execute_result",
          "data": {
            "text/html": [
              "<div>\n",
              "<style scoped>\n",
              "    .dataframe tbody tr th:only-of-type {\n",
              "        vertical-align: middle;\n",
              "    }\n",
              "\n",
              "    .dataframe tbody tr th {\n",
              "        vertical-align: top;\n",
              "    }\n",
              "\n",
              "    .dataframe thead th {\n",
              "        text-align: right;\n",
              "    }\n",
              "</style>\n",
              "<table border=\"1\" class=\"dataframe\">\n",
              "  <thead>\n",
              "    <tr style=\"text-align: right;\">\n",
              "      <th></th>\n",
              "      <th>cap-shape_b</th>\n",
              "      <th>cap-shape_c</th>\n",
              "      <th>cap-shape_f</th>\n",
              "      <th>cap-shape_k</th>\n",
              "      <th>cap-shape_s</th>\n",
              "      <th>cap-shape_x</th>\n",
              "      <th>cap-surface_f</th>\n",
              "      <th>cap-surface_g</th>\n",
              "      <th>cap-surface_s</th>\n",
              "      <th>cap-surface_y</th>\n",
              "      <th>cap-color_b</th>\n",
              "      <th>cap-color_c</th>\n",
              "      <th>cap-color_e</th>\n",
              "      <th>cap-color_g</th>\n",
              "      <th>cap-color_n</th>\n",
              "      <th>cap-color_p</th>\n",
              "      <th>cap-color_r</th>\n",
              "      <th>cap-color_u</th>\n",
              "      <th>cap-color_w</th>\n",
              "      <th>cap-color_y</th>\n",
              "      <th>odor_a</th>\n",
              "      <th>odor_c</th>\n",
              "      <th>odor_f</th>\n",
              "      <th>odor_l</th>\n",
              "      <th>odor_m</th>\n",
              "      <th>odor_n</th>\n",
              "      <th>odor_p</th>\n",
              "      <th>odor_s</th>\n",
              "      <th>odor_y</th>\n",
              "      <th>gill-color_b</th>\n",
              "      <th>gill-color_e</th>\n",
              "      <th>gill-color_g</th>\n",
              "      <th>gill-color_h</th>\n",
              "      <th>gill-color_k</th>\n",
              "      <th>gill-color_n</th>\n",
              "      <th>gill-color_o</th>\n",
              "      <th>gill-color_p</th>\n",
              "      <th>gill-color_r</th>\n",
              "      <th>gill-color_u</th>\n",
              "      <th>gill-color_w</th>\n",
              "      <th>...</th>\n",
              "      <th>stalk-color-below-ring_b</th>\n",
              "      <th>stalk-color-below-ring_c</th>\n",
              "      <th>stalk-color-below-ring_e</th>\n",
              "      <th>stalk-color-below-ring_g</th>\n",
              "      <th>stalk-color-below-ring_n</th>\n",
              "      <th>stalk-color-below-ring_o</th>\n",
              "      <th>stalk-color-below-ring_p</th>\n",
              "      <th>stalk-color-below-ring_w</th>\n",
              "      <th>stalk-color-below-ring_y</th>\n",
              "      <th>veil-color_n</th>\n",
              "      <th>veil-color_o</th>\n",
              "      <th>veil-color_w</th>\n",
              "      <th>veil-color_y</th>\n",
              "      <th>ring-type_e</th>\n",
              "      <th>ring-type_f</th>\n",
              "      <th>ring-type_l</th>\n",
              "      <th>ring-type_n</th>\n",
              "      <th>ring-type_p</th>\n",
              "      <th>spore-print-color_b</th>\n",
              "      <th>spore-print-color_h</th>\n",
              "      <th>spore-print-color_k</th>\n",
              "      <th>spore-print-color_n</th>\n",
              "      <th>spore-print-color_o</th>\n",
              "      <th>spore-print-color_r</th>\n",
              "      <th>spore-print-color_u</th>\n",
              "      <th>spore-print-color_w</th>\n",
              "      <th>spore-print-color_y</th>\n",
              "      <th>population_a</th>\n",
              "      <th>population_c</th>\n",
              "      <th>population_n</th>\n",
              "      <th>population_s</th>\n",
              "      <th>population_v</th>\n",
              "      <th>population_y</th>\n",
              "      <th>habitat_d</th>\n",
              "      <th>habitat_g</th>\n",
              "      <th>habitat_l</th>\n",
              "      <th>habitat_m</th>\n",
              "      <th>habitat_p</th>\n",
              "      <th>habitat_u</th>\n",
              "      <th>habitat_w</th>\n",
              "    </tr>\n",
              "  </thead>\n",
              "  <tbody>\n",
              "    <tr>\n",
              "      <th>cap-shape_b</th>\n",
              "      <td>1.000000</td>\n",
              "      <td>-0.005387</td>\n",
              "      <td>-0.193260</td>\n",
              "      <td>-0.081769</td>\n",
              "      <td>-0.015264</td>\n",
              "      <td>-0.219564</td>\n",
              "      <td>-0.091638</td>\n",
              "      <td>0.018820</td>\n",
              "      <td>0.117712</td>\n",
              "      <td>-0.027947</td>\n",
              "      <td>0.010011</td>\n",
              "      <td>-0.017912</td>\n",
              "      <td>-0.115505</td>\n",
              "      <td>-0.069760</td>\n",
              "      <td>-0.084902</td>\n",
              "      <td>0.016231</td>\n",
              "      <td>-0.010782</td>\n",
              "      <td>-0.010782</td>\n",
              "      <td>0.212380</td>\n",
              "      <td>0.117981</td>\n",
              "      <td>0.262455</td>\n",
              "      <td>-0.037764</td>\n",
              "      <td>-0.146074</td>\n",
              "      <td>0.262455</td>\n",
              "      <td>-0.016194</td>\n",
              "      <td>-0.000314</td>\n",
              "      <td>-0.043783</td>\n",
              "      <td>-0.067052</td>\n",
              "      <td>-0.067052</td>\n",
              "      <td>-0.126163</td>\n",
              "      <td>-0.026543</td>\n",
              "      <td>0.122587</td>\n",
              "      <td>-0.076382</td>\n",
              "      <td>0.101547</td>\n",
              "      <td>0.034751</td>\n",
              "      <td>0.075558</td>\n",
              "      <td>-0.070747</td>\n",
              "      <td>0.105523</td>\n",
              "      <td>-0.061628</td>\n",
              "      <td>0.084884</td>\n",
              "      <td>...</td>\n",
              "      <td>-0.057522</td>\n",
              "      <td>-0.016194</td>\n",
              "      <td>-0.026543</td>\n",
              "      <td>-0.067052</td>\n",
              "      <td>-0.045272</td>\n",
              "      <td>0.131922</td>\n",
              "      <td>-0.132818</td>\n",
              "      <td>0.157391</td>\n",
              "      <td>0.046155</td>\n",
              "      <td>0.092724</td>\n",
              "      <td>0.092724</td>\n",
              "      <td>-0.134710</td>\n",
              "      <td>0.026622</td>\n",
              "      <td>-0.163553</td>\n",
              "      <td>-0.018713</td>\n",
              "      <td>-0.105748</td>\n",
              "      <td>-0.016194</td>\n",
              "      <td>0.237666</td>\n",
              "      <td>0.065370</td>\n",
              "      <td>-0.121699</td>\n",
              "      <td>0.030409</td>\n",
              "      <td>0.038235</td>\n",
              "      <td>0.065370</td>\n",
              "      <td>0.183315</td>\n",
              "      <td>-0.018713</td>\n",
              "      <td>-0.024592</td>\n",
              "      <td>0.065370</td>\n",
              "      <td>-0.054064</td>\n",
              "      <td>0.024358</td>\n",
              "      <td>0.381589</td>\n",
              "      <td>0.158702</td>\n",
              "      <td>-0.168381</td>\n",
              "      <td>-0.120154</td>\n",
              "      <td>-0.182037</td>\n",
              "      <td>0.149151</td>\n",
              "      <td>0.010113</td>\n",
              "      <td>0.374316</td>\n",
              "      <td>-0.095178</td>\n",
              "      <td>-0.052871</td>\n",
              "      <td>-0.037764</td>\n",
              "    </tr>\n",
              "    <tr>\n",
              "      <th>cap-shape_c</th>\n",
              "      <td>-0.005387</td>\n",
              "      <td>1.000000</td>\n",
              "      <td>-0.017672</td>\n",
              "      <td>-0.007477</td>\n",
              "      <td>-0.001396</td>\n",
              "      <td>-0.020077</td>\n",
              "      <td>-0.014032</td>\n",
              "      <td>0.249631</td>\n",
              "      <td>-0.015038</td>\n",
              "      <td>0.015893</td>\n",
              "      <td>-0.003225</td>\n",
              "      <td>-0.001638</td>\n",
              "      <td>-0.010562</td>\n",
              "      <td>-0.012010</td>\n",
              "      <td>-0.013880</td>\n",
              "      <td>-0.002981</td>\n",
              "      <td>-0.000986</td>\n",
              "      <td>-0.000986</td>\n",
              "      <td>0.024711</td>\n",
              "      <td>0.024136</td>\n",
              "      <td>-0.005051</td>\n",
              "      <td>-0.003453</td>\n",
              "      <td>-0.013357</td>\n",
              "      <td>-0.005051</td>\n",
              "      <td>-0.001481</td>\n",
              "      <td>0.025332</td>\n",
              "      <td>-0.004003</td>\n",
              "      <td>-0.006131</td>\n",
              "      <td>-0.006131</td>\n",
              "      <td>-0.011536</td>\n",
              "      <td>-0.002427</td>\n",
              "      <td>-0.007089</td>\n",
              "      <td>-0.006984</td>\n",
              "      <td>-0.005104</td>\n",
              "      <td>-0.008542</td>\n",
              "      <td>-0.001978</td>\n",
              "      <td>-0.010527</td>\n",
              "      <td>-0.001208</td>\n",
              "      <td>-0.005635</td>\n",
              "      <td>0.037634</td>\n",
              "      <td>...</td>\n",
              "      <td>-0.005260</td>\n",
              "      <td>-0.001481</td>\n",
              "      <td>-0.002427</td>\n",
              "      <td>-0.006131</td>\n",
              "      <td>-0.005756</td>\n",
              "      <td>-0.003453</td>\n",
              "      <td>-0.012145</td>\n",
              "      <td>-0.001765</td>\n",
              "      <td>0.203269</td>\n",
              "      <td>-0.002427</td>\n",
              "      <td>-0.002427</td>\n",
              "      <td>-0.068089</td>\n",
              "      <td>0.353118</td>\n",
              "      <td>0.007408</td>\n",
              "      <td>-0.001711</td>\n",
              "      <td>-0.009670</td>\n",
              "      <td>-0.001481</td>\n",
              "      <td>0.000514</td>\n",
              "      <td>-0.001711</td>\n",
              "      <td>-0.011128</td>\n",
              "      <td>-0.012145</td>\n",
              "      <td>-0.012549</td>\n",
              "      <td>-0.001711</td>\n",
              "      <td>-0.002099</td>\n",
              "      <td>-0.001711</td>\n",
              "      <td>0.034398</td>\n",
              "      <td>-0.001711</td>\n",
              "      <td>-0.004944</td>\n",
              "      <td>0.106197</td>\n",
              "      <td>-0.005051</td>\n",
              "      <td>-0.009456</td>\n",
              "      <td>-0.022075</td>\n",
              "      <td>-0.011469</td>\n",
              "      <td>-0.017653</td>\n",
              "      <td>-0.013306</td>\n",
              "      <td>0.065707</td>\n",
              "      <td>-0.004286</td>\n",
              "      <td>-0.008985</td>\n",
              "      <td>-0.004835</td>\n",
              "      <td>-0.003453</td>\n",
              "    </tr>\n",
              "    <tr>\n",
              "      <th>cap-shape_f</th>\n",
              "      <td>-0.193260</td>\n",
              "      <td>-0.017672</td>\n",
              "      <td>1.000000</td>\n",
              "      <td>-0.268226</td>\n",
              "      <td>-0.050070</td>\n",
              "      <td>-0.720235</td>\n",
              "      <td>0.064801</td>\n",
              "      <td>-0.006285</td>\n",
              "      <td>-0.093397</td>\n",
              "      <td>0.029076</td>\n",
              "      <td>0.019203</td>\n",
              "      <td>-0.003687</td>\n",
              "      <td>0.009128</td>\n",
              "      <td>0.056794</td>\n",
              "      <td>0.019014</td>\n",
              "      <td>-0.045696</td>\n",
              "      <td>0.010211</td>\n",
              "      <td>0.010211</td>\n",
              "      <td>-0.088841</td>\n",
              "      <td>-0.010390</td>\n",
              "      <td>-0.097130</td>\n",
              "      <td>-0.123876</td>\n",
              "      <td>0.083449</td>\n",
              "      <td>-0.097130</td>\n",
              "      <td>-0.007483</td>\n",
              "      <td>0.066856</td>\n",
              "      <td>0.041464</td>\n",
              "      <td>-0.030983</td>\n",
              "      <td>-0.030983</td>\n",
              "      <td>-0.058296</td>\n",
              "      <td>-0.012265</td>\n",
              "      <td>-0.048604</td>\n",
              "      <td>0.072336</td>\n",
              "      <td>-0.025790</td>\n",
              "      <td>0.007077</td>\n",
              "      <td>-0.025233</td>\n",
              "      <td>0.059448</td>\n",
              "      <td>0.012513</td>\n",
              "      <td>0.032947</td>\n",
              "      <td>-0.013773</td>\n",
              "      <td>...</td>\n",
              "      <td>0.054476</td>\n",
              "      <td>-0.007483</td>\n",
              "      <td>-0.012265</td>\n",
              "      <td>0.063501</td>\n",
              "      <td>0.042985</td>\n",
              "      <td>-0.044056</td>\n",
              "      <td>0.039405</td>\n",
              "      <td>-0.092710</td>\n",
              "      <td>-0.015414</td>\n",
              "      <td>-0.030966</td>\n",
              "      <td>-0.030966</td>\n",
              "      <td>0.044987</td>\n",
              "      <td>-0.008890</td>\n",
              "      <td>-0.014407</td>\n",
              "      <td>0.017722</td>\n",
              "      <td>0.100147</td>\n",
              "      <td>-0.007483</td>\n",
              "      <td>-0.061414</td>\n",
              "      <td>-0.021831</td>\n",
              "      <td>0.115253</td>\n",
              "      <td>0.015410</td>\n",
              "      <td>0.014411</td>\n",
              "      <td>-0.021831</td>\n",
              "      <td>0.021737</td>\n",
              "      <td>0.017722</td>\n",
              "      <td>-0.125597</td>\n",
              "      <td>-0.021831</td>\n",
              "      <td>0.051201</td>\n",
              "      <td>-0.035214</td>\n",
              "      <td>-0.181191</td>\n",
              "      <td>-0.075804</td>\n",
              "      <td>0.034625</td>\n",
              "      <td>0.111346</td>\n",
              "      <td>0.074986</td>\n",
              "      <td>-0.017982</td>\n",
              "      <td>-0.052326</td>\n",
              "      <td>-0.129312</td>\n",
              "      <td>0.021891</td>\n",
              "      <td>0.030636</td>\n",
              "      <td>-0.017450</td>\n",
              "    </tr>\n",
              "    <tr>\n",
              "      <th>cap-shape_k</th>\n",
              "      <td>-0.081769</td>\n",
              "      <td>-0.007477</td>\n",
              "      <td>-0.268226</td>\n",
              "      <td>1.000000</td>\n",
              "      <td>-0.021185</td>\n",
              "      <td>-0.304733</td>\n",
              "      <td>-0.158942</td>\n",
              "      <td>0.010863</td>\n",
              "      <td>0.137988</td>\n",
              "      <td>0.015261</td>\n",
              "      <td>-0.003209</td>\n",
              "      <td>0.041662</td>\n",
              "      <td>0.162657</td>\n",
              "      <td>-0.135632</td>\n",
              "      <td>0.125992</td>\n",
              "      <td>0.004081</td>\n",
              "      <td>-0.014965</td>\n",
              "      <td>-0.014965</td>\n",
              "      <td>-0.068190</td>\n",
              "      <td>-0.124132</td>\n",
              "      <td>-0.076662</td>\n",
              "      <td>-0.052412</td>\n",
              "      <td>-0.025921</td>\n",
              "      <td>-0.076662</td>\n",
              "      <td>0.051031</td>\n",
              "      <td>-0.098152</td>\n",
              "      <td>-0.060766</td>\n",
              "      <td>0.211298</td>\n",
              "      <td>0.211298</td>\n",
              "      <td>0.397574</td>\n",
              "      <td>0.083644</td>\n",
              "      <td>-0.062672</td>\n",
              "      <td>-0.106010</td>\n",
              "      <td>-0.077465</td>\n",
              "      <td>-0.110226</td>\n",
              "      <td>0.043614</td>\n",
              "      <td>-0.126160</td>\n",
              "      <td>-0.018337</td>\n",
              "      <td>-0.085533</td>\n",
              "      <td>-0.024646</td>\n",
              "      <td>...</td>\n",
              "      <td>-0.079835</td>\n",
              "      <td>0.051031</td>\n",
              "      <td>0.083644</td>\n",
              "      <td>-0.093061</td>\n",
              "      <td>-0.047186</td>\n",
              "      <td>0.076150</td>\n",
              "      <td>0.093916</td>\n",
              "      <td>-0.023524</td>\n",
              "      <td>0.026642</td>\n",
              "      <td>0.053523</td>\n",
              "      <td>0.053523</td>\n",
              "      <td>-0.077759</td>\n",
              "      <td>0.015367</td>\n",
              "      <td>0.328613</td>\n",
              "      <td>-0.025971</td>\n",
              "      <td>-0.146767</td>\n",
              "      <td>0.051031</td>\n",
              "      <td>-0.207080</td>\n",
              "      <td>0.037734</td>\n",
              "      <td>-0.168905</td>\n",
              "      <td>-0.184339</td>\n",
              "      <td>-0.179079</td>\n",
              "      <td>0.037734</td>\n",
              "      <td>-0.031856</td>\n",
              "      <td>-0.025971</td>\n",
              "      <td>0.479240</td>\n",
              "      <td>0.037734</td>\n",
              "      <td>-0.075036</td>\n",
              "      <td>0.140896</td>\n",
              "      <td>0.013599</td>\n",
              "      <td>-0.089360</td>\n",
              "      <td>0.172707</td>\n",
              "      <td>-0.170081</td>\n",
              "      <td>-0.089230</td>\n",
              "      <td>-0.113404</td>\n",
              "      <td>0.235108</td>\n",
              "      <td>-0.065047</td>\n",
              "      <td>0.090538</td>\n",
              "      <td>-0.073380</td>\n",
              "      <td>0.119003</td>\n",
              "    </tr>\n",
              "    <tr>\n",
              "      <th>cap-shape_s</th>\n",
              "      <td>-0.015264</td>\n",
              "      <td>-0.001396</td>\n",
              "      <td>-0.050070</td>\n",
              "      <td>-0.021185</td>\n",
              "      <td>1.000000</td>\n",
              "      <td>-0.056884</td>\n",
              "      <td>0.099464</td>\n",
              "      <td>-0.001396</td>\n",
              "      <td>-0.042607</td>\n",
              "      <td>-0.051272</td>\n",
              "      <td>-0.009138</td>\n",
              "      <td>-0.004641</td>\n",
              "      <td>-0.029925</td>\n",
              "      <td>0.041093</td>\n",
              "      <td>0.030614</td>\n",
              "      <td>-0.008447</td>\n",
              "      <td>-0.002794</td>\n",
              "      <td>-0.002794</td>\n",
              "      <td>-0.024095</td>\n",
              "      <td>-0.024518</td>\n",
              "      <td>-0.014311</td>\n",
              "      <td>-0.009784</td>\n",
              "      <td>-0.037845</td>\n",
              "      <td>-0.014311</td>\n",
              "      <td>-0.004195</td>\n",
              "      <td>0.071775</td>\n",
              "      <td>-0.011343</td>\n",
              "      <td>-0.017372</td>\n",
              "      <td>-0.017372</td>\n",
              "      <td>-0.032686</td>\n",
              "      <td>-0.006877</td>\n",
              "      <td>0.034160</td>\n",
              "      <td>-0.019789</td>\n",
              "      <td>0.057523</td>\n",
              "      <td>0.022700</td>\n",
              "      <td>-0.005604</td>\n",
              "      <td>0.010775</td>\n",
              "      <td>-0.003423</td>\n",
              "      <td>-0.015967</td>\n",
              "      <td>-0.026205</td>\n",
              "      <td>...</td>\n",
              "      <td>-0.014903</td>\n",
              "      <td>-0.004195</td>\n",
              "      <td>-0.006877</td>\n",
              "      <td>-0.017372</td>\n",
              "      <td>-0.016309</td>\n",
              "      <td>-0.009784</td>\n",
              "      <td>-0.034410</td>\n",
              "      <td>0.058083</td>\n",
              "      <td>-0.003423</td>\n",
              "      <td>-0.006877</td>\n",
              "      <td>-0.006877</td>\n",
              "      <td>0.009991</td>\n",
              "      <td>-0.001974</td>\n",
              "      <td>-0.045307</td>\n",
              "      <td>-0.004848</td>\n",
              "      <td>-0.027397</td>\n",
              "      <td>-0.004195</td>\n",
              "      <td>0.064357</td>\n",
              "      <td>-0.004848</td>\n",
              "      <td>-0.031530</td>\n",
              "      <td>0.040256</td>\n",
              "      <td>0.037832</td>\n",
              "      <td>-0.004848</td>\n",
              "      <td>-0.005946</td>\n",
              "      <td>-0.004848</td>\n",
              "      <td>-0.040575</td>\n",
              "      <td>-0.004848</td>\n",
              "      <td>-0.014007</td>\n",
              "      <td>-0.013143</td>\n",
              "      <td>-0.014311</td>\n",
              "      <td>-0.026791</td>\n",
              "      <td>0.000341</td>\n",
              "      <td>0.044603</td>\n",
              "      <td>-0.050018</td>\n",
              "      <td>-0.037702</td>\n",
              "      <td>-0.021242</td>\n",
              "      <td>-0.012142</td>\n",
              "      <td>-0.025458</td>\n",
              "      <td>0.288697</td>\n",
              "      <td>-0.009784</td>\n",
              "    </tr>\n",
              "    <tr>\n",
              "      <th>...</th>\n",
              "      <td>...</td>\n",
              "      <td>...</td>\n",
              "      <td>...</td>\n",
              "      <td>...</td>\n",
              "      <td>...</td>\n",
              "      <td>...</td>\n",
              "      <td>...</td>\n",
              "      <td>...</td>\n",
              "      <td>...</td>\n",
              "      <td>...</td>\n",
              "      <td>...</td>\n",
              "      <td>...</td>\n",
              "      <td>...</td>\n",
              "      <td>...</td>\n",
              "      <td>...</td>\n",
              "      <td>...</td>\n",
              "      <td>...</td>\n",
              "      <td>...</td>\n",
              "      <td>...</td>\n",
              "      <td>...</td>\n",
              "      <td>...</td>\n",
              "      <td>...</td>\n",
              "      <td>...</td>\n",
              "      <td>...</td>\n",
              "      <td>...</td>\n",
              "      <td>...</td>\n",
              "      <td>...</td>\n",
              "      <td>...</td>\n",
              "      <td>...</td>\n",
              "      <td>...</td>\n",
              "      <td>...</td>\n",
              "      <td>...</td>\n",
              "      <td>...</td>\n",
              "      <td>...</td>\n",
              "      <td>...</td>\n",
              "      <td>...</td>\n",
              "      <td>...</td>\n",
              "      <td>...</td>\n",
              "      <td>...</td>\n",
              "      <td>...</td>\n",
              "      <td>...</td>\n",
              "      <td>...</td>\n",
              "      <td>...</td>\n",
              "      <td>...</td>\n",
              "      <td>...</td>\n",
              "      <td>...</td>\n",
              "      <td>...</td>\n",
              "      <td>...</td>\n",
              "      <td>...</td>\n",
              "      <td>...</td>\n",
              "      <td>...</td>\n",
              "      <td>...</td>\n",
              "      <td>...</td>\n",
              "      <td>...</td>\n",
              "      <td>...</td>\n",
              "      <td>...</td>\n",
              "      <td>...</td>\n",
              "      <td>...</td>\n",
              "      <td>...</td>\n",
              "      <td>...</td>\n",
              "      <td>...</td>\n",
              "      <td>...</td>\n",
              "      <td>...</td>\n",
              "      <td>...</td>\n",
              "      <td>...</td>\n",
              "      <td>...</td>\n",
              "      <td>...</td>\n",
              "      <td>...</td>\n",
              "      <td>...</td>\n",
              "      <td>...</td>\n",
              "      <td>...</td>\n",
              "      <td>...</td>\n",
              "      <td>...</td>\n",
              "      <td>...</td>\n",
              "      <td>...</td>\n",
              "      <td>...</td>\n",
              "      <td>...</td>\n",
              "      <td>...</td>\n",
              "      <td>...</td>\n",
              "      <td>...</td>\n",
              "      <td>...</td>\n",
              "    </tr>\n",
              "    <tr>\n",
              "      <th>habitat_l</th>\n",
              "      <td>0.010113</td>\n",
              "      <td>0.065707</td>\n",
              "      <td>-0.052326</td>\n",
              "      <td>0.235108</td>\n",
              "      <td>-0.021242</td>\n",
              "      <td>-0.096639</td>\n",
              "      <td>-0.191987</td>\n",
              "      <td>0.065707</td>\n",
              "      <td>0.190799</td>\n",
              "      <td>-0.006819</td>\n",
              "      <td>-0.049085</td>\n",
              "      <td>0.107833</td>\n",
              "      <td>0.140610</td>\n",
              "      <td>-0.182780</td>\n",
              "      <td>0.243915</td>\n",
              "      <td>-0.045375</td>\n",
              "      <td>-0.015005</td>\n",
              "      <td>-0.015005</td>\n",
              "      <td>-0.119703</td>\n",
              "      <td>-0.122101</td>\n",
              "      <td>-0.076868</td>\n",
              "      <td>-0.052553</td>\n",
              "      <td>-0.026843</td>\n",
              "      <td>-0.076868</td>\n",
              "      <td>-0.022536</td>\n",
              "      <td>-0.086260</td>\n",
              "      <td>-0.060929</td>\n",
              "      <td>0.210399</td>\n",
              "      <td>0.210399</td>\n",
              "      <td>0.395882</td>\n",
              "      <td>-0.036938</td>\n",
              "      <td>-0.107883</td>\n",
              "      <td>-0.106295</td>\n",
              "      <td>-0.077673</td>\n",
              "      <td>-0.052479</td>\n",
              "      <td>0.263806</td>\n",
              "      <td>-0.160214</td>\n",
              "      <td>-0.018387</td>\n",
              "      <td>-0.085763</td>\n",
              "      <td>-0.072152</td>\n",
              "      <td>...</td>\n",
              "      <td>-0.080050</td>\n",
              "      <td>-0.022536</td>\n",
              "      <td>-0.036938</td>\n",
              "      <td>-0.093311</td>\n",
              "      <td>-0.007410</td>\n",
              "      <td>0.460597</td>\n",
              "      <td>0.092827</td>\n",
              "      <td>-0.124606</td>\n",
              "      <td>0.041458</td>\n",
              "      <td>0.323738</td>\n",
              "      <td>0.323738</td>\n",
              "      <td>-0.470332</td>\n",
              "      <td>0.092947</td>\n",
              "      <td>0.297637</td>\n",
              "      <td>-0.026041</td>\n",
              "      <td>-0.147161</td>\n",
              "      <td>-0.022536</td>\n",
              "      <td>-0.167616</td>\n",
              "      <td>0.228236</td>\n",
              "      <td>-0.169359</td>\n",
              "      <td>-0.184834</td>\n",
              "      <td>-0.145501</td>\n",
              "      <td>0.228236</td>\n",
              "      <td>-0.031941</td>\n",
              "      <td>-0.026041</td>\n",
              "      <td>0.352405</td>\n",
              "      <td>0.228236</td>\n",
              "      <td>-0.075237</td>\n",
              "      <td>0.156476</td>\n",
              "      <td>-0.076868</td>\n",
              "      <td>-0.143906</td>\n",
              "      <td>0.248675</td>\n",
              "      <td>-0.174539</td>\n",
              "      <td>-0.268668</td>\n",
              "      <td>-0.202512</td>\n",
              "      <td>1.000000</td>\n",
              "      <td>-0.065222</td>\n",
              "      <td>-0.136749</td>\n",
              "      <td>-0.073577</td>\n",
              "      <td>-0.052553</td>\n",
              "    </tr>\n",
              "    <tr>\n",
              "      <th>habitat_m</th>\n",
              "      <td>0.374316</td>\n",
              "      <td>-0.004286</td>\n",
              "      <td>-0.129312</td>\n",
              "      <td>-0.065047</td>\n",
              "      <td>-0.012142</td>\n",
              "      <td>-0.004529</td>\n",
              "      <td>-0.122077</td>\n",
              "      <td>-0.004286</td>\n",
              "      <td>0.077081</td>\n",
              "      <td>0.039697</td>\n",
              "      <td>0.027701</td>\n",
              "      <td>-0.014249</td>\n",
              "      <td>-0.091884</td>\n",
              "      <td>-0.104483</td>\n",
              "      <td>-0.120753</td>\n",
              "      <td>0.034199</td>\n",
              "      <td>-0.008577</td>\n",
              "      <td>-0.008577</td>\n",
              "      <td>0.203103</td>\n",
              "      <td>0.174808</td>\n",
              "      <td>0.347262</td>\n",
              "      <td>-0.030041</td>\n",
              "      <td>-0.116202</td>\n",
              "      <td>0.347262</td>\n",
              "      <td>-0.012882</td>\n",
              "      <td>-0.121145</td>\n",
              "      <td>-0.034829</td>\n",
              "      <td>-0.053340</td>\n",
              "      <td>-0.053340</td>\n",
              "      <td>-0.100363</td>\n",
              "      <td>-0.021115</td>\n",
              "      <td>0.111732</td>\n",
              "      <td>-0.060762</td>\n",
              "      <td>0.149374</td>\n",
              "      <td>0.051946</td>\n",
              "      <td>-0.017206</td>\n",
              "      <td>-0.091584</td>\n",
              "      <td>0.135699</td>\n",
              "      <td>-0.049025</td>\n",
              "      <td>0.061081</td>\n",
              "      <td>...</td>\n",
              "      <td>-0.045759</td>\n",
              "      <td>-0.012882</td>\n",
              "      <td>-0.021115</td>\n",
              "      <td>-0.053340</td>\n",
              "      <td>-0.050077</td>\n",
              "      <td>-0.030041</td>\n",
              "      <td>-0.105657</td>\n",
              "      <td>0.178343</td>\n",
              "      <td>-0.010510</td>\n",
              "      <td>-0.021115</td>\n",
              "      <td>-0.021115</td>\n",
              "      <td>0.030676</td>\n",
              "      <td>-0.006062</td>\n",
              "      <td>-0.139113</td>\n",
              "      <td>-0.014886</td>\n",
              "      <td>-0.084122</td>\n",
              "      <td>-0.012882</td>\n",
              "      <td>0.197609</td>\n",
              "      <td>-0.014886</td>\n",
              "      <td>-0.096811</td>\n",
              "      <td>0.095340</td>\n",
              "      <td>0.088382</td>\n",
              "      <td>-0.014886</td>\n",
              "      <td>0.235737</td>\n",
              "      <td>-0.014886</td>\n",
              "      <td>-0.124586</td>\n",
              "      <td>-0.014886</td>\n",
              "      <td>-0.043008</td>\n",
              "      <td>-0.040355</td>\n",
              "      <td>0.347262</td>\n",
              "      <td>0.152473</td>\n",
              "      <td>-0.144434</td>\n",
              "      <td>-0.099772</td>\n",
              "      <td>-0.153579</td>\n",
              "      <td>-0.115762</td>\n",
              "      <td>-0.065222</td>\n",
              "      <td>1.000000</td>\n",
              "      <td>-0.078170</td>\n",
              "      <td>-0.042059</td>\n",
              "      <td>-0.030041</td>\n",
              "    </tr>\n",
              "    <tr>\n",
              "      <th>habitat_p</th>\n",
              "      <td>-0.095178</td>\n",
              "      <td>-0.008985</td>\n",
              "      <td>0.021891</td>\n",
              "      <td>0.090538</td>\n",
              "      <td>-0.025458</td>\n",
              "      <td>-0.029042</td>\n",
              "      <td>-0.086727</td>\n",
              "      <td>-0.008985</td>\n",
              "      <td>-0.039574</td>\n",
              "      <td>0.117915</td>\n",
              "      <td>-0.058829</td>\n",
              "      <td>0.008698</td>\n",
              "      <td>0.070022</td>\n",
              "      <td>-0.029680</td>\n",
              "      <td>0.023909</td>\n",
              "      <td>-0.032928</td>\n",
              "      <td>-0.017984</td>\n",
              "      <td>-0.017984</td>\n",
              "      <td>-0.155118</td>\n",
              "      <td>0.118201</td>\n",
              "      <td>-0.013620</td>\n",
              "      <td>-0.062986</td>\n",
              "      <td>0.256188</td>\n",
              "      <td>-0.013620</td>\n",
              "      <td>-0.027009</td>\n",
              "      <td>-0.326140</td>\n",
              "      <td>-0.073025</td>\n",
              "      <td>0.152894</td>\n",
              "      <td>0.152894</td>\n",
              "      <td>0.287683</td>\n",
              "      <td>-0.044271</td>\n",
              "      <td>0.046528</td>\n",
              "      <td>0.050576</td>\n",
              "      <td>-0.093093</td>\n",
              "      <td>-0.122018</td>\n",
              "      <td>-0.036075</td>\n",
              "      <td>-0.031165</td>\n",
              "      <td>-0.022037</td>\n",
              "      <td>-0.102789</td>\n",
              "      <td>-0.096941</td>\n",
              "      <td>...</td>\n",
              "      <td>0.131165</td>\n",
              "      <td>-0.027009</td>\n",
              "      <td>-0.044271</td>\n",
              "      <td>-0.111836</td>\n",
              "      <td>0.116359</td>\n",
              "      <td>-0.062986</td>\n",
              "      <td>0.141509</td>\n",
              "      <td>-0.142954</td>\n",
              "      <td>-0.022037</td>\n",
              "      <td>-0.044271</td>\n",
              "      <td>-0.044271</td>\n",
              "      <td>0.064317</td>\n",
              "      <td>-0.012710</td>\n",
              "      <td>0.138105</td>\n",
              "      <td>-0.031211</td>\n",
              "      <td>0.241130</td>\n",
              "      <td>-0.027009</td>\n",
              "      <td>-0.299297</td>\n",
              "      <td>-0.031211</td>\n",
              "      <td>0.178579</td>\n",
              "      <td>-0.181191</td>\n",
              "      <td>-0.189255</td>\n",
              "      <td>-0.031211</td>\n",
              "      <td>-0.038282</td>\n",
              "      <td>-0.031211</td>\n",
              "      <td>0.217292</td>\n",
              "      <td>-0.031211</td>\n",
              "      <td>-0.090174</td>\n",
              "      <td>-0.084610</td>\n",
              "      <td>-0.092129</td>\n",
              "      <td>-0.125366</td>\n",
              "      <td>0.169228</td>\n",
              "      <td>0.040714</td>\n",
              "      <td>-0.322005</td>\n",
              "      <td>-0.242715</td>\n",
              "      <td>-0.136749</td>\n",
              "      <td>-0.078170</td>\n",
              "      <td>1.000000</td>\n",
              "      <td>-0.088184</td>\n",
              "      <td>-0.062986</td>\n",
              "    </tr>\n",
              "    <tr>\n",
              "      <th>habitat_u</th>\n",
              "      <td>-0.052871</td>\n",
              "      <td>-0.004835</td>\n",
              "      <td>0.030636</td>\n",
              "      <td>-0.073380</td>\n",
              "      <td>0.288697</td>\n",
              "      <td>0.002845</td>\n",
              "      <td>-0.011913</td>\n",
              "      <td>-0.004835</td>\n",
              "      <td>0.117548</td>\n",
              "      <td>-0.100248</td>\n",
              "      <td>0.167996</td>\n",
              "      <td>-0.016074</td>\n",
              "      <td>-0.103655</td>\n",
              "      <td>0.017892</td>\n",
              "      <td>0.011244</td>\n",
              "      <td>-0.029261</td>\n",
              "      <td>-0.009676</td>\n",
              "      <td>-0.009676</td>\n",
              "      <td>0.114961</td>\n",
              "      <td>-0.084927</td>\n",
              "      <td>-0.049569</td>\n",
              "      <td>-0.033889</td>\n",
              "      <td>0.061839</td>\n",
              "      <td>-0.049569</td>\n",
              "      <td>-0.014532</td>\n",
              "      <td>-0.076202</td>\n",
              "      <td>0.394405</td>\n",
              "      <td>-0.060173</td>\n",
              "      <td>-0.060173</td>\n",
              "      <td>-0.113220</td>\n",
              "      <td>-0.023820</td>\n",
              "      <td>-0.020554</td>\n",
              "      <td>0.030682</td>\n",
              "      <td>0.101682</td>\n",
              "      <td>0.015059</td>\n",
              "      <td>-0.019410</td>\n",
              "      <td>0.055668</td>\n",
              "      <td>-0.011857</td>\n",
              "      <td>-0.055306</td>\n",
              "      <td>0.042597</td>\n",
              "      <td>...</td>\n",
              "      <td>-0.051621</td>\n",
              "      <td>-0.014532</td>\n",
              "      <td>-0.023820</td>\n",
              "      <td>-0.060173</td>\n",
              "      <td>-0.056492</td>\n",
              "      <td>-0.033889</td>\n",
              "      <td>-0.119192</td>\n",
              "      <td>0.201190</td>\n",
              "      <td>-0.011857</td>\n",
              "      <td>-0.023820</td>\n",
              "      <td>-0.023820</td>\n",
              "      <td>0.034606</td>\n",
              "      <td>-0.006839</td>\n",
              "      <td>-0.156935</td>\n",
              "      <td>-0.016793</td>\n",
              "      <td>-0.094899</td>\n",
              "      <td>-0.014532</td>\n",
              "      <td>0.222924</td>\n",
              "      <td>-0.016793</td>\n",
              "      <td>0.103522</td>\n",
              "      <td>0.038236</td>\n",
              "      <td>0.031574</td>\n",
              "      <td>-0.016793</td>\n",
              "      <td>-0.020598</td>\n",
              "      <td>-0.016793</td>\n",
              "      <td>-0.140546</td>\n",
              "      <td>-0.016793</td>\n",
              "      <td>-0.048518</td>\n",
              "      <td>-0.045524</td>\n",
              "      <td>-0.049569</td>\n",
              "      <td>0.130450</td>\n",
              "      <td>0.001180</td>\n",
              "      <td>-0.042888</td>\n",
              "      <td>-0.173254</td>\n",
              "      <td>-0.130592</td>\n",
              "      <td>-0.073577</td>\n",
              "      <td>-0.042059</td>\n",
              "      <td>-0.088184</td>\n",
              "      <td>1.000000</td>\n",
              "      <td>-0.033889</td>\n",
              "    </tr>\n",
              "    <tr>\n",
              "      <th>habitat_w</th>\n",
              "      <td>-0.037764</td>\n",
              "      <td>-0.003453</td>\n",
              "      <td>-0.017450</td>\n",
              "      <td>0.119003</td>\n",
              "      <td>-0.009784</td>\n",
              "      <td>-0.036493</td>\n",
              "      <td>-0.098365</td>\n",
              "      <td>-0.003453</td>\n",
              "      <td>0.062109</td>\n",
              "      <td>0.031986</td>\n",
              "      <td>0.250709</td>\n",
              "      <td>-0.011481</td>\n",
              "      <td>0.026209</td>\n",
              "      <td>-0.084188</td>\n",
              "      <td>-0.010778</td>\n",
              "      <td>0.273873</td>\n",
              "      <td>-0.006911</td>\n",
              "      <td>-0.006911</td>\n",
              "      <td>-0.059612</td>\n",
              "      <td>-0.060660</td>\n",
              "      <td>-0.035405</td>\n",
              "      <td>-0.024206</td>\n",
              "      <td>-0.093630</td>\n",
              "      <td>-0.035405</td>\n",
              "      <td>-0.010380</td>\n",
              "      <td>0.177576</td>\n",
              "      <td>-0.028064</td>\n",
              "      <td>-0.042979</td>\n",
              "      <td>-0.042979</td>\n",
              "      <td>-0.080868</td>\n",
              "      <td>0.702866</td>\n",
              "      <td>-0.049691</td>\n",
              "      <td>-0.048959</td>\n",
              "      <td>-0.035776</td>\n",
              "      <td>-0.059875</td>\n",
              "      <td>-0.013864</td>\n",
              "      <td>-0.073794</td>\n",
              "      <td>-0.008469</td>\n",
              "      <td>-0.039502</td>\n",
              "      <td>0.154261</td>\n",
              "      <td>...</td>\n",
              "      <td>-0.036871</td>\n",
              "      <td>-0.010380</td>\n",
              "      <td>0.702866</td>\n",
              "      <td>-0.042979</td>\n",
              "      <td>-0.040350</td>\n",
              "      <td>-0.024206</td>\n",
              "      <td>-0.085134</td>\n",
              "      <td>-0.012372</td>\n",
              "      <td>-0.008469</td>\n",
              "      <td>-0.017013</td>\n",
              "      <td>-0.017013</td>\n",
              "      <td>0.024717</td>\n",
              "      <td>-0.004885</td>\n",
              "      <td>0.215946</td>\n",
              "      <td>-0.011994</td>\n",
              "      <td>-0.067782</td>\n",
              "      <td>-0.010380</td>\n",
              "      <td>-0.152022</td>\n",
              "      <td>-0.011994</td>\n",
              "      <td>-0.078006</td>\n",
              "      <td>-0.085134</td>\n",
              "      <td>-0.087968</td>\n",
              "      <td>-0.011994</td>\n",
              "      <td>-0.014712</td>\n",
              "      <td>-0.011994</td>\n",
              "      <td>0.241127</td>\n",
              "      <td>-0.011994</td>\n",
              "      <td>-0.034654</td>\n",
              "      <td>0.744425</td>\n",
              "      <td>-0.035405</td>\n",
              "      <td>-0.066282</td>\n",
              "      <td>-0.154742</td>\n",
              "      <td>-0.080392</td>\n",
              "      <td>-0.123748</td>\n",
              "      <td>-0.093276</td>\n",
              "      <td>-0.052553</td>\n",
              "      <td>-0.030041</td>\n",
              "      <td>-0.062986</td>\n",
              "      <td>-0.033889</td>\n",
              "      <td>1.000000</td>\n",
              "    </tr>\n",
              "  </tbody>\n",
              "</table>\n",
              "<p>102 rows × 102 columns</p>\n",
              "</div>"
            ],
            "text/plain": [
              "             cap-shape_b  cap-shape_c  ...  habitat_u  habitat_w\n",
              "cap-shape_b     1.000000    -0.005387  ...  -0.052871  -0.037764\n",
              "cap-shape_c    -0.005387     1.000000  ...  -0.004835  -0.003453\n",
              "cap-shape_f    -0.193260    -0.017672  ...   0.030636  -0.017450\n",
              "cap-shape_k    -0.081769    -0.007477  ...  -0.073380   0.119003\n",
              "cap-shape_s    -0.015264    -0.001396  ...   0.288697  -0.009784\n",
              "...                  ...          ...  ...        ...        ...\n",
              "habitat_l       0.010113     0.065707  ...  -0.073577  -0.052553\n",
              "habitat_m       0.374316    -0.004286  ...  -0.042059  -0.030041\n",
              "habitat_p      -0.095178    -0.008985  ...  -0.088184  -0.062986\n",
              "habitat_u      -0.052871    -0.004835  ...   1.000000  -0.033889\n",
              "habitat_w      -0.037764    -0.003453  ...  -0.033889   1.000000\n",
              "\n",
              "[102 rows x 102 columns]"
            ]
          },
          "metadata": {
            "tags": []
          },
          "execution_count": 45
        }
      ]
    },
    {
      "cell_type": "markdown",
      "metadata": {
        "id": "BGNKFtAWjfEQ",
        "colab_type": "text"
      },
      "source": [
        "# KNN"
      ]
    },
    {
      "cell_type": "code",
      "metadata": {
        "id": "DXZ6VdoscP9i",
        "colab_type": "code",
        "colab": {}
      },
      "source": [
        "from sklearn.model_selection import train_test_split\n",
        "from sklearn.metrics import confusion_matrix\n",
        "\n",
        "x = data.drop('edible', axis = 1) \n",
        "y = data['edible']\n",
        "\n",
        "x = x.to_numpy()\n",
        "y = np.array(y, dtype='int')\n",
        "\n",
        "x_train, x_test, y_train, y_test = train_test_split(x, y, test_size = 0.2, random_state = 228)"
      ],
      "execution_count": 0,
      "outputs": []
    },
    {
      "cell_type": "code",
      "metadata": {
        "id": "Dzum8CiCnwYB",
        "colab_type": "code",
        "outputId": "bf441219-390f-4096-e4f7-cc7614decde3",
        "colab": {
          "base_uri": "https://localhost:8080/",
          "height": 35
        }
      },
      "source": [
        "print(y)"
      ],
      "execution_count": 0,
      "outputs": [
        {
          "output_type": "stream",
          "text": [
            "[1 0 0 ... 0 1 0]\n"
          ],
          "name": "stdout"
        }
      ]
    },
    {
      "cell_type": "code",
      "metadata": {
        "id": "bCkwoFSzjcc3",
        "colab_type": "code",
        "outputId": "08d9621d-3ae1-4ea4-c592-9869ec064782",
        "colab": {
          "base_uri": "https://localhost:8080/",
          "height": 69
        }
      },
      "source": [
        "from sklearn.neighbors import KNeighborsClassifier\n",
        "from sklearn.metrics import accuracy_score\n",
        "\n",
        "knn = KNeighborsClassifier(n_neighbors = 500)\n",
        "knn.fit(x_train, y_train)\n",
        "\n",
        "y_test_predict = knn.predict(x_test)\n",
        "\n",
        "print(confusion_matrix(y_test, y_test_predict))\n",
        "print(accuracy_score(y_test, y_test_predict))"
      ],
      "execution_count": 0,
      "outputs": [
        {
          "output_type": "stream",
          "text": [
            "[[824  12]\n",
            " [ 64 725]]\n",
            "0.9532307692307692\n"
          ],
          "name": "stdout"
        }
      ]
    },
    {
      "cell_type": "code",
      "metadata": {
        "id": "7w_zbbMmo3zh",
        "colab_type": "code",
        "outputId": "8c607886-07f2-4854-9221-0acd58858444",
        "colab": {
          "base_uri": "https://localhost:8080/",
          "height": 69
        }
      },
      "source": [
        "from sklearn.neighbors import KNeighborsClassifier\n",
        "from sklearn.metrics import accuracy_score\n",
        "from sklearn.ensemble import RandomForestClassifier\n",
        "\n",
        "knn = KNeighborsClassifier(n_neighbors = 50)\n",
        "knn.fit(x_train, y_train)\n",
        "\n",
        "y_test_predict = knn.predict(x_test)\n",
        "\n",
        "print(confusion_matrix(y_test, y_test_predict))\n",
        "print(accuracy_score(y_test, y_test_predict))"
      ],
      "execution_count": 0,
      "outputs": [
        {
          "output_type": "stream",
          "text": [
            "[[836   0]\n",
            " [  2 787]]\n",
            "0.9987692307692307\n"
          ],
          "name": "stdout"
        }
      ]
    },
    {
      "cell_type": "code",
      "metadata": {
        "id": "Mu5gFp9IpXfS",
        "colab_type": "code",
        "outputId": "a572aed8-fe9d-4748-f69c-f89ff844ef03",
        "colab": {
          "base_uri": "https://localhost:8080/",
          "height": 68
        }
      },
      "source": [
        "from sklearn.neighbors import KNeighborsClassifier\n",
        "from sklearn.metrics import accuracy_score\n",
        "\n",
        "knn = KNeighborsClassifier(n_neighbors = 10)\n",
        "knn.fit(x_train, y_train)\n",
        "\n",
        "y_test_predict = knn.predict(x_test)\n",
        "\n",
        "print(confusion_matrix(y_test, y_test_predict))\n",
        "print(accuracy_score(y_test, y_test_predict))"
      ],
      "execution_count": 0,
      "outputs": [
        {
          "output_type": "stream",
          "text": [
            "[[836   0]\n",
            " [  0 789]]\n",
            "1.0\n"
          ],
          "name": "stdout"
        }
      ]
    },
    {
      "cell_type": "code",
      "metadata": {
        "id": "2TRZ-k-mwjKI",
        "colab_type": "code",
        "colab": {}
      },
      "source": [
        "def train_and_valuate(model, x, y):\n",
        "  kf = KFold(n_splits=5)\n",
        "  accuracy = cross_val_score(model, principal_df, y, cv=kf)\n",
        "  print(\"Accuracy: {}\".format(accuracy))\n",
        "  print(\"Mean accuracy: {}\".format(sum(accuracy)/len(accuracy)))"
      ],
      "execution_count": 0,
      "outputs": []
    },
    {
      "cell_type": "code",
      "metadata": {
        "id": "r5gxzSWTwkuN",
        "colab_type": "code",
        "outputId": "83e24421-da75-4254-fc0a-90fc9e33ef80",
        "colab": {
          "base_uri": "https://localhost:8080/",
          "height": 119
        }
      },
      "source": [
        "knn1 = KNeighborsClassifier(n_neighbors = 5)\n",
        "train_and_valuate(knn1, x, y)\n",
        "knn2 = KNeighborsClassifier(n_neighbors = 50)\n",
        "train_and_valuate(knn2, x, y)\n",
        "knn3 = KNeighborsClassifier(n_neighbors = 500)\n",
        "train_and_valuate(knn3, x, y)"
      ],
      "execution_count": 0,
      "outputs": [
        {
          "output_type": "stream",
          "text": [
            "Accuracy: [0.91692308 0.89969231 0.89353846 0.832      0.88731527]\n",
            "Mean accuracy: 0.8858938234179613\n",
            "Accuracy: [0.90276923 0.93723077 0.90030769 0.78276923 0.90332512]\n",
            "Mean accuracy: 0.8852804092459264\n",
            "Accuracy: [0.88123077 0.93230769 0.88553846 0.77353846 0.93472906]\n",
            "Mean accuracy: 0.8814688897309587\n"
          ],
          "name": "stdout"
        }
      ]
    },
    {
      "cell_type": "markdown",
      "metadata": {
        "id": "jIDB0z8jbgXa",
        "colab_type": "text"
      },
      "source": [
        "# Lab 2"
      ]
    },
    {
      "cell_type": "markdown",
      "metadata": {
        "id": "8gCF9GoycJPp",
        "colab_type": "text"
      },
      "source": [
        "Применение PCA"
      ]
    },
    {
      "cell_type": "code",
      "metadata": {
        "id": "S8V7VLxWbmB_",
        "colab_type": "code",
        "colab": {}
      },
      "source": [
        "from sklearn.decomposition import PCA\n",
        "from sklearn.model_selection import KFold\n",
        "from sklearn.model_selection import cross_val_score\n",
        "pca = PCA(n_components=2)\n",
        "\n",
        "principalComponents = pca.fit_transform(x)\n",
        "principal_df = pd.DataFrame(data = principalComponents\n",
        "             , columns = ['principal component 1', 'principal component 2'])"
      ],
      "execution_count": 0,
      "outputs": []
    },
    {
      "cell_type": "markdown",
      "metadata": {
        "id": "8jWlQ15L_y8M",
        "colab_type": "text"
      },
      "source": [
        "Визуализируем полученные данные"
      ]
    },
    {
      "cell_type": "code",
      "metadata": {
        "id": "bVDytln5lDA2",
        "colab_type": "code",
        "outputId": "6e33166c-672c-48d6-f7e7-bd69458d1f25",
        "colab": {
          "base_uri": "https://localhost:8080/",
          "height": 520
        }
      },
      "source": [
        "from matplotlib.pyplot import (axes,axis,title,legend,figure,\n",
        "                               xlabel,ylabel,xticks,yticks,\n",
        "                               xscale,yscale,text,grid,\n",
        "                               plot,scatter,errorbar,hist,polar,\n",
        "                               contour,contourf,colorbar,clabel,\n",
        "                               imshow)\n",
        "print(principal_df)\n",
        "scatter(principal_df[\"principal component 1\"], principal_df[\"principal component 1\"])"
      ],
      "execution_count": 0,
      "outputs": [
        {
          "output_type": "stream",
          "text": [
            "      principal component 1  principal component 2\n",
            "0                 -1.489694               0.294915\n",
            "1                 -1.486889              -0.451304\n",
            "2                 -1.646075              -0.207696\n",
            "3                 -1.512454              -0.054453\n",
            "4                 -1.223310               0.360846\n",
            "...                     ...                    ...\n",
            "8119              -0.515014               0.178105\n",
            "8120              -0.425452               0.194168\n",
            "8121              -0.626133               0.014046\n",
            "8122               0.962599               1.927495\n",
            "8123              -0.596165               0.006935\n",
            "\n",
            "[8124 rows x 2 columns]\n"
          ],
          "name": "stdout"
        },
        {
          "output_type": "execute_result",
          "data": {
            "text/plain": [
              "<matplotlib.collections.PathCollection at 0x7f37c5205da0>"
            ]
          },
          "metadata": {
            "tags": []
          },
          "execution_count": 65
        },
        {
          "output_type": "display_data",
          "data": {
            "image/png": "[encoded data removed]",
            "text/plain": [
              "<Figure size 432x288 with 1 Axes>"
            ]
          },
          "metadata": {
            "tags": []
          }
        }
      ]
    },
    {
      "cell_type": "markdown",
      "metadata": {
        "id": "xc9FYx2N_6l1",
        "colab_type": "text"
      },
      "source": [
        "Попробуем работу моделей с разным количеством компонент"
      ]
    },
    {
      "cell_type": "code",
      "metadata": {
        "id": "aCgRA_tzmEnF",
        "colab_type": "code",
        "colab": {}
      },
      "source": [
        "def pca_train_and_valuate(model, number_compenent, x, y):\n",
        "  pca = PCA(n_components=number_compenent)\n",
        "  principalComponents = pca.fit_transform(x)\n",
        "  col = ['principal component {}'.format(i) for i in range(1, number_compenent + 1)]\n",
        "  principal_df = pd.DataFrame(data = principalComponents, columns = col)\n",
        "  \n",
        "  kf = KFold(n_splits=5)\n",
        "\n",
        "  test_accuracy = cross_val_score(model, principal_df, y, scoring='accuracy',cv=kf)\n",
        "  print(\"Accuracy: {}\".format(test_accuracy))\n",
        "  print(\"Mean accuracy: {}\".format(sum(test_accuracy)/len(test_accuracy)))\n",
        "  return sum(test_accuracy)/len(test_accuracy)\n"
      ],
      "execution_count": 0,
      "outputs": []
    },
    {
      "cell_type": "code",
      "metadata": {
        "id": "fqPzp5rQnoMd",
        "colab_type": "code",
        "colab": {}
      },
      "source": [
        "from sklearn.model_selection import cross_val_score\n",
        "knn = KNeighborsClassifier(n_neighbors = 5)\n",
        "acc_val = []"
      ],
      "execution_count": 0,
      "outputs": []
    },
    {
      "cell_type": "code",
      "metadata": {
        "id": "YCWjs_-EAecX",
        "colab_type": "code",
        "outputId": "c7224f88-de41-4583-f861-8d92f1799cc8",
        "colab": {
          "base_uri": "https://localhost:8080/",
          "height": 51
        }
      },
      "source": [
        "acc_val.append(pca_train_and_valuate(knn, 2, x, y))"
      ],
      "execution_count": 0,
      "outputs": [
        {
          "output_type": "stream",
          "text": [
            "Accuracy: [0.91692308 0.89969231 0.89353846 0.832      0.88731527]\n",
            "Mean accuracy: 0.8858938234179613\n"
          ],
          "name": "stdout"
        }
      ]
    },
    {
      "cell_type": "code",
      "metadata": {
        "id": "QFyXyspnAGTV",
        "colab_type": "code",
        "outputId": "b20ae38d-4036-4ed4-bf2d-9ba3f81f08cd",
        "colab": {
          "base_uri": "https://localhost:8080/",
          "height": 51
        }
      },
      "source": [
        "acc_val.append(pca_train_and_valuate(knn, 3, x, y))"
      ],
      "execution_count": 0,
      "outputs": [
        {
          "output_type": "stream",
          "text": [
            "Accuracy: [0.90646154 0.99446154 0.96492308 0.92861538 0.87068966]\n",
            "Mean accuracy: 0.9330302387267905\n"
          ],
          "name": "stdout"
        }
      ]
    },
    {
      "cell_type": "code",
      "metadata": {
        "id": "mgD4s4fWAJ79",
        "colab_type": "code",
        "outputId": "b122616f-e242-4160-b4ad-8f544a71104f",
        "colab": {
          "base_uri": "https://localhost:8080/",
          "height": 51
        }
      },
      "source": [
        "acc_val.append(pca_train_and_valuate(knn, 4, x, y))"
      ],
      "execution_count": 0,
      "outputs": [
        {
          "output_type": "stream",
          "text": [
            "Accuracy: [0.94953846 0.99876923 0.984      0.94707692 0.88916256]\n",
            "Mean accuracy: 0.953709435392194\n"
          ],
          "name": "stdout"
        }
      ]
    },
    {
      "cell_type": "code",
      "metadata": {
        "id": "DKzA3fwVAVGe",
        "colab_type": "code",
        "outputId": "92c7731d-0e74-4b9c-f687-1497038f3460",
        "colab": {
          "base_uri": "https://localhost:8080/",
          "height": 51
        }
      },
      "source": [
        "acc_val.append(pca_train_and_valuate(knn, 5, x, y))"
      ],
      "execution_count": 0,
      "outputs": [
        {
          "output_type": "stream",
          "text": [
            "Accuracy: [0.93907692 1.         1.         0.96       0.92610837]\n",
            "Mean accuracy: 0.9650370594922318\n"
          ],
          "name": "stdout"
        }
      ]
    },
    {
      "cell_type": "code",
      "metadata": {
        "id": "0s5dhvGWAXU3",
        "colab_type": "code",
        "outputId": "64916341-febe-4475-d967-16270191a99d",
        "colab": {
          "base_uri": "https://localhost:8080/",
          "height": 51
        }
      },
      "source": [
        "acc_val.append(pca_train_and_valuate(knn, 6, x, y))"
      ],
      "execution_count": 0,
      "outputs": [
        {
          "output_type": "stream",
          "text": [
            "Accuracy: [0.90830769 1.         1.         0.95753846 0.95504926]\n",
            "Mean accuracy: 0.9641790829859795\n"
          ],
          "name": "stdout"
        }
      ]
    },
    {
      "cell_type": "markdown",
      "metadata": {
        "id": "NWM9hncdI7rl",
        "colab_type": "text"
      },
      "source": [
        "Лучшее значение - 5 главных компонент"
      ]
    },
    {
      "cell_type": "code",
      "metadata": {
        "id": "vgb0B9vcIsQT",
        "colab_type": "code",
        "outputId": "4aa11b7e-d57b-4498-bff1-e0897d9be458",
        "colab": {
          "base_uri": "https://localhost:8080/",
          "height": 265
        }
      },
      "source": [
        "plot([2, 3, 4, 5, 6], acc_val)\n",
        "pass"
      ],
      "execution_count": 0,
      "outputs": [
        {
          "output_type": "display_data",
          "data": {
            "image/png": "[encoded data removed]",
            "text/plain": [
              "<Figure size 432x288 with 1 Axes>"
            ]
          },
          "metadata": {
            "tags": []
          }
        }
      ]
    },
    {
      "cell_type": "markdown",
      "metadata": {
        "id": "Ltq_Ay6lCDa6",
        "colab_type": "text"
      },
      "source": [
        "Пробуем SVM"
      ]
    },
    {
      "cell_type": "code",
      "metadata": {
        "id": "rIqvYan1BnZD",
        "colab_type": "code",
        "outputId": "5e5daeab-45b2-4e03-ea17-6f9895c55d58",
        "colab": {
          "base_uri": "https://localhost:8080/",
          "height": 102
        }
      },
      "source": [
        "from sklearn import svm\n",
        "\n",
        "clf = svm.SVC(gamma='scale')\n",
        "train_and_valuate(clf, x, y)\n",
        "pca_train_and_valuate(clf, 4, x, y)"
      ],
      "execution_count": 0,
      "outputs": [
        {
          "output_type": "stream",
          "text": [
            "Accuracy: [0.88123077 0.93230769 0.88738462 0.77784615 0.92918719]\n",
            "Mean accuracy: 0.8815912845774916\n",
            "Accuracy: [0.86646154 0.992      0.95753846 0.89723077 0.83128079]\n",
            "Mean accuracy: 0.9089023114816218\n"
          ],
          "name": "stdout"
        },
        {
          "output_type": "execute_result",
          "data": {
            "text/plain": [
              "0.9089023114816218"
            ]
          },
          "metadata": {
            "tags": []
          },
          "execution_count": 72
        }
      ]
    },
    {
      "cell_type": "markdown",
      "metadata": {
        "id": "lbsLzhaDJHkP",
        "colab_type": "text"
      },
      "source": [
        "Вывод: Метод PCA действительно позволяет значительно улучшить качество предсказания. Точность повысилась с 0.88 до 0.96 у метода ближайшего соседа, с 0.88 до 0.90 у SVM для данной задачи."
      ]
    },
    {
      "cell_type": "markdown",
      "metadata": {
        "id": "o7iEuIIuGKNW",
        "colab_type": "text"
      },
      "source": [
        "# Lab 3 MPL"
      ]
    },
    {
      "cell_type": "markdown",
      "metadata": {
        "id": "rHnWgBHYGZTa",
        "colab_type": "text"
      },
      "source": [
        "Обучим MLP Classifier."
      ]
    },
    {
      "cell_type": "code",
      "metadata": {
        "id": "cPDjWYB1GUjK",
        "colab_type": "code",
        "outputId": "9e547f23-4922-4d43-8872-ff2dbcd93ad3",
        "colab": {
          "base_uri": "https://localhost:8080/",
          "height": 136
        }
      },
      "source": [
        "from sklearn.neural_network import MLPClassifier\n",
        "\n",
        "\n",
        "mlp_model = MLPClassifier(solver = 'lbfgs', activation = 'logistic', random_state = 21)\n",
        "x_train, x_test, y_train, y_test = train_test_split(x, y, test_size = 0.3, random_state = 8)\n",
        "mlp_model.fit(x_train, y_train)"
      ],
      "execution_count": 0,
      "outputs": [
        {
          "output_type": "execute_result",
          "data": {
            "text/plain": [
              "MLPClassifier(activation='logistic', alpha=0.0001, batch_size='auto',\n",
              "              beta_1=0.9, beta_2=0.999, early_stopping=False, epsilon=1e-08,\n",
              "              hidden_layer_sizes=(100,), learning_rate='constant',\n",
              "              learning_rate_init=0.001, max_iter=200, momentum=0.9,\n",
              "              n_iter_no_change=10, nesterovs_momentum=True, power_t=0.5,\n",
              "              random_state=21, shuffle=True, solver='lbfgs', tol=0.0001,\n",
              "              validation_fraction=0.1, verbose=False, warm_start=False)"
            ]
          },
          "metadata": {
            "tags": []
          },
          "execution_count": 107
        }
      ]
    },
    {
      "cell_type": "code",
      "metadata": {
        "id": "bUN99YhJIHWi",
        "colab_type": "code",
        "colab": {}
      },
      "source": [
        "y_test_pred = mlp_model.predict(x_test)\n",
        "y_train_pred = mlp_model.predict(x_train)"
      ],
      "execution_count": 0,
      "outputs": []
    },
    {
      "cell_type": "code",
      "metadata": {
        "id": "PUOnAMRQIWZp",
        "colab_type": "code",
        "outputId": "a54a681b-660e-468a-ca8a-13e55a56a3e8",
        "colab": {
          "base_uri": "https://localhost:8080/",
          "height": 187
        }
      },
      "source": [
        "print(\"Train confusion matrix:\")\n",
        "print(confusion_matrix(y_train_pred, y_train))\n",
        "print(\"Train error score = {}\\n\\n\".format(1 - accuracy_score(y_train_pred, y_train)))\n",
        "print(\"Test confusion matrix:\")\n",
        "print(confusion_matrix(y_test_pred, y_test))\n",
        "print(\"Test error score = {}\".format(1 - accuracy_score(y_test_pred, y_test)))"
      ],
      "execution_count": 0,
      "outputs": [
        {
          "output_type": "stream",
          "text": [
            "Train confusion matrix:\n",
            "[[2915    0]\n",
            " [   0 2771]]\n",
            "Train error score = 0.0\n",
            "\n",
            "\n",
            "Test confusion matrix:\n",
            "[[1293    0]\n",
            " [   0 1145]]\n",
            "Test error score = 0.0\n"
          ],
          "name": "stdout"
        }
      ]
    },
    {
      "cell_type": "markdown",
      "metadata": {
        "id": "m4tMrw5SeRJH",
        "colab_type": "text"
      },
      "source": [
        "Как мы видим, такой классификатор показал лучший результат с нулевой ошибкой. Проверим, как зависит результат от количества скрытых слоев и параметра alpha (может быть в первый раз параметры оказались удачными случайно)"
      ]
    },
    {
      "cell_type": "markdown",
      "metadata": {
        "id": "NJEANakm9RhC",
        "colab_type": "text"
      },
      "source": [
        "Подберем оптимальное значение параметра регуляризации alpha."
      ]
    },
    {
      "cell_type": "code",
      "metadata": {
        "id": "x6r3-iRW9VKZ",
        "colab_type": "code",
        "colab": {}
      },
      "source": [
        "alpha_arr = np.logspace(-3, 2, 21)\n",
        "test_err = []\n",
        "train_err = []\n",
        "for alpha in alpha_arr:\n",
        "    mlp_model = MLPClassifier(alpha = alpha, hidden_layer_sizes = (100,), \n",
        "                              solver = 'lbfgs', activation = 'logistic', random_state = 42)\n",
        "    mlp_model.fit(x_train, y_train)\n",
        "\n",
        "    y_train_pred = mlp_model.predict(x_train)\n",
        "    y_test_pred = mlp_model.predict(x_test)\n",
        "    train_err.append(np.mean(y_train != y_train_pred))\n",
        "    test_err.append(np.mean(y_test != y_test_pred))"
      ],
      "execution_count": 0,
      "outputs": []
    },
    {
      "cell_type": "code",
      "metadata": {
        "id": "N70-lr1gjO8i",
        "colab_type": "code",
        "outputId": "11a46692-e07d-43b8-d4b4-cc9689cd90a2",
        "colab": {
          "base_uri": "https://localhost:8080/",
          "height": 299
        }
      },
      "source": [
        "import numpy as np\n",
        "import matplotlib.pyplot as plt\n",
        "%matplotlib inline\n",
        "\n",
        "plt.semilogx(alpha_arr, train_err, 'b-o', label = 'train')\n",
        "plt.semilogx(alpha_arr, test_err, 'r-o', label = 'test')\n",
        "plt.xlim([np.max(alpha_arr), np.min(alpha_arr)])\n",
        "plt.title('Error vs. alpha')\n",
        "plt.xlabel('alpha')\n",
        "plt.ylabel('error')\n",
        "plt.legend()\n",
        "pass"
      ],
      "execution_count": 0,
      "outputs": [
        {
          "output_type": "display_data",
          "data": {
            "image/png": "[encoded data removed]",
            "text/plain": [
              "<Figure size 432x288 with 1 Axes>"
            ]
          },
          "metadata": {
            "tags": []
          }
        }
      ]
    },
    {
      "cell_type": "code",
      "metadata": {
        "id": "GeCvKTUtks11",
        "colab_type": "code",
        "outputId": "39c5f7b7-18a4-4c48-d666-99034af7d251",
        "colab": {
          "base_uri": "https://localhost:8080/",
          "height": 374
        }
      },
      "source": [
        "for i in range(0, len(alpha_arr)):\n",
        "  print(\"Error train %.6f test %.6f |  alpha %.5f\" % (train_err[i], test_err[i], alpha_arr[i]))"
      ],
      "execution_count": 0,
      "outputs": [
        {
          "output_type": "stream",
          "text": [
            "Error train 0.000000 test 0.000000 |  alpha 0.00100\n",
            "Error train 0.000000 test 0.000000 |  alpha 0.00178\n",
            "Error train 0.000000 test 0.000000 |  alpha 0.00316\n",
            "Error train 0.000000 test 0.000000 |  alpha 0.00562\n",
            "Error train 0.000000 test 0.000000 |  alpha 0.01000\n",
            "Error train 0.000000 test 0.000000 |  alpha 0.01778\n",
            "Error train 0.000000 test 0.000000 |  alpha 0.03162\n",
            "Error train 0.000000 test 0.000000 |  alpha 0.05623\n",
            "Error train 0.000000 test 0.000000 |  alpha 0.10000\n",
            "Error train 0.000000 test 0.000000 |  alpha 0.17783\n",
            "Error train 0.000000 test 0.000000 |  alpha 0.31623\n",
            "Error train 0.000000 test 0.000000 |  alpha 0.56234\n",
            "Error train 0.000000 test 0.000000 |  alpha 1.00000\n",
            "Error train 0.000000 test 0.000000 |  alpha 1.77828\n",
            "Error train 0.000352 test 0.000410 |  alpha 3.16228\n",
            "Error train 0.000703 test 0.001231 |  alpha 5.62341\n",
            "Error train 0.000879 test 0.001231 |  alpha 10.00000\n",
            "Error train 0.002990 test 0.004102 |  alpha 17.78279\n",
            "Error train 0.010376 test 0.011075 |  alpha 31.62278\n",
            "Error train 0.014246 test 0.015587 |  alpha 56.23413\n",
            "Error train 0.017235 test 0.018458 |  alpha 100.00000\n"
          ],
          "name": "stdout"
        }
      ]
    },
    {
      "cell_type": "markdown",
      "metadata": {
        "id": "mBg_nob3kdl3",
        "colab_type": "text"
      },
      "source": [
        "Из графика заметно, что ошибка на выборках исчезает при значениях alpha прмерно меньше 2. Переобучения не наблюдается, так как ошибка на тестовой выборке не увеличивается."
      ]
    },
    {
      "cell_type": "markdown",
      "metadata": {
        "id": "ZXMIYZeKmqTn",
        "colab_type": "text"
      },
      "source": [
        "Подберем оптимальное значение количества скрытых слоев."
      ]
    },
    {
      "cell_type": "code",
      "metadata": {
        "id": "VDedii72mwSb",
        "colab_type": "code",
        "colab": {}
      },
      "source": [
        "train_err_hidden = []\n",
        "test_err_hidden = []\n",
        "\n",
        "for i in range(1, 100):\n",
        "    mlp_model = MLPClassifier(hidden_layer_sizes = (i,), solver = 'lbfgs', activation = 'logistic', random_state = 19)\n",
        "    mlp_model.fit(x_train, y_train)\n",
        "    y_train_pred = mlp_model.predict(x_train)\n",
        "    y_test_pred = mlp_model.predict(x_test)\n",
        "    train_err_hidden.append(np.mean(y_train != y_train_pred))\n",
        "    test_err_hidden.append(np.mean(y_test != y_test_pred))"
      ],
      "execution_count": 0,
      "outputs": []
    },
    {
      "cell_type": "code",
      "metadata": {
        "id": "qb0YWt-nnNY5",
        "colab_type": "code",
        "outputId": "14cf2dce-9564-4368-a24f-df55c67fcdee",
        "colab": {
          "base_uri": "https://localhost:8080/",
          "height": 299
        }
      },
      "source": [
        "plt.semilogx(range(1, 100), test_err_hidden, 'b-o', label = 'test')\n",
        "plt.semilogx(range(1, 100), train_err_hidden, 'r-o', label = 'train')\n",
        "plt.xlim([1, 100])\n",
        "plt.title('Error rate')\n",
        "plt.xlabel('num of layers')\n",
        "plt.ylabel('error')\n",
        "plt.legend()\n",
        "pass"
      ],
      "execution_count": 0,
      "outputs": [
        {
          "output_type": "display_data",
          "data": {
            "image/png": "[encoded data removed]",
            "text/plain": [
              "<Figure size 432x288 with 1 Axes>"
            ]
          },
          "metadata": {
            "tags": []
          }
        }
      ]
    },
    {
      "cell_type": "code",
      "metadata": {
        "id": "oHWVDkFXo8Tc",
        "colab_type": "code",
        "outputId": "0a04ec3b-d354-4abd-ffda-56123671192f",
        "colab": {
          "base_uri": "https://localhost:8080/",
          "height": 34
        }
      },
      "source": [
        "for i in range(1, 100):\n",
        "  if train_err_hidden[i] == 0 and test_err_hidden[i] == 0:\n",
        "    print(\"Hidden layers %i:\" % i)\n",
        "    break"
      ],
      "execution_count": 0,
      "outputs": [
        {
          "output_type": "stream",
          "text": [
            "Hidden layers 4:\n"
          ],
          "name": "stdout"
        }
      ]
    },
    {
      "cell_type": "markdown",
      "metadata": {
        "id": "AvuJC1nWtQo7",
        "colab_type": "text"
      },
      "source": [
        "Начиная с 4 слоев, ошибка становиться нулевой, и это является оптимальным значением. "
      ]
    },
    {
      "cell_type": "markdown",
      "metadata": {
        "id": "VeMxc6fEt3wy",
        "colab_type": "text"
      },
      "source": [
        "# Lab 4 MLP & PCA"
      ]
    },
    {
      "cell_type": "markdown",
      "metadata": {
        "id": "_Q_3K6-KuEUP",
        "colab_type": "text"
      },
      "source": [
        "Используем MLP, но применяя метод PCA"
      ]
    },
    {
      "cell_type": "code",
      "metadata": {
        "id": "EnJaVvu9uw_u",
        "colab_type": "code",
        "outputId": "c5a2544c-4d07-42d7-d1ef-d073b6745a2b",
        "colab": {
          "base_uri": "https://localhost:8080/",
          "height": 187
        }
      },
      "source": [
        "from sklearn.decomposition import PCA\n",
        "\n",
        "x = data.drop('edible', axis = 1) \n",
        "y = data['edible']\n",
        "\n",
        "x = x.to_numpy()\n",
        "y = np.array(y, dtype='int')\n",
        "\n",
        "pca = PCA(n_components=10)\n",
        "pca.fit(x)\n",
        "x_pca_train = pca.transform(x_train)\n",
        "x_pca_test = pca.transform(x_test)\n",
        "mlp_model = MLPClassifier(alpha = alpha, solver = 'lbfgs', activation = 'logistic', random_state = 19)\n",
        "mlp_model.fit(x_pca_train, y_train)\n",
        "y_train_pred = mlp_model.predict(x_pca_train)\n",
        "y_test_pred = mlp_model.predict(x_pca_test)\n",
        "\n",
        "print(\"Train confusion matrix:\")\n",
        "print(confusion_matrix(y_train_pred, y_train))\n",
        "print(\"Train error score = {}\\n\\n\".format(1 - accuracy_score(y_train_pred, y_train)))\n",
        "print(\"Test confusion matrix:\")\n",
        "print(confusion_matrix(y_test_pred, y_test))\n",
        "print(\"Test error score = {}\".format(1 - accuracy_score(y_test_pred, y_test)))"
      ],
      "execution_count": 0,
      "outputs": [
        {
          "output_type": "stream",
          "text": [
            "Train confusion matrix:\n",
            "[[2915    0]\n",
            " [   0 2771]]\n",
            "Train error score = 0.0\n",
            "\n",
            "\n",
            "Test confusion matrix:\n",
            "[[1291    6]\n",
            " [   2 1139]]\n",
            "Test error score = 0.003281378178835115\n"
          ],
          "name": "stdout"
        }
      ]
    },
    {
      "cell_type": "markdown",
      "metadata": {
        "id": "2O47zyRuzoMX",
        "colab_type": "text"
      },
      "source": [
        "Видим, что результаты ухудшились по сравнению с использованием MLP без применения PCA. "
      ]
    },
    {
      "cell_type": "code",
      "metadata": {
        "id": "7MzQXZ9pxqPp",
        "colab_type": "code",
        "outputId": "b5749430-006b-41d8-d153-0dd84b97faf5",
        "colab": {
          "base_uri": "https://localhost:8080/",
          "height": 299
        }
      },
      "source": [
        "alpha_arr = np.logspace(-3, 2, 21)\n",
        "test_err = []\n",
        "train_err = []\n",
        "for alpha in alpha_arr:\n",
        "    mlp_model = MLPClassifier(alpha = alpha, hidden_layer_sizes = (100,), \n",
        "                              solver = 'lbfgs', activation = 'logistic', random_state = 42)\n",
        "    mlp_model.fit(x_pca_train, y_train)\n",
        "\n",
        "    y_pca_train_pred = mlp_model.predict(x_pca_train)\n",
        "    y_pca_test_pred = mlp_model.predict(x_pca_test)\n",
        "    train_err.append(np.mean(y_train != y_pca_train_pred))\n",
        "    test_err.append(np.mean(y_test != y_pca_test_pred))\n",
        "\n",
        "\n",
        "plt.semilogx(alpha_arr, train_err, 'b-o', label = 'train')\n",
        "plt.semilogx(alpha_arr, test_err, 'r-o', label = 'test')\n",
        "plt.xlim([np.max(alpha_arr), np.min(alpha_arr)])\n",
        "plt.title('Error vs. alpha')\n",
        "plt.xlabel('alpha')\n",
        "plt.ylabel('error')\n",
        "plt.legend()\n",
        "pass"
      ],
      "execution_count": 0,
      "outputs": [
        {
          "output_type": "display_data",
          "data": {
            "image/png": "[encoded data removed]",
            "text/plain": [
              "<Figure size 432x288 with 1 Axes>"
            ]
          },
          "metadata": {
            "tags": []
          }
        }
      ]
    },
    {
      "cell_type": "code",
      "metadata": {
        "id": "W2N0-oHxxqri",
        "colab_type": "code",
        "outputId": "43443382-201f-4bd3-bc24-014f11492879",
        "colab": {
          "base_uri": "https://localhost:8080/",
          "height": 299
        }
      },
      "source": [
        "train_err_hidden = []\n",
        "test_err_hidden = []\n",
        "\n",
        "for i in range(1, 100):\n",
        "    mlp_model = MLPClassifier(hidden_layer_sizes = (i,), solver = 'lbfgs', activation = 'logistic', random_state = 19)\n",
        "    mlp_model.fit(x_pca_train, y_train)\n",
        "    y_pca_train_pred = mlp_model.predict(x_pca_train)\n",
        "    y_pca_test_pred = mlp_model.predict(x_pca_test)\n",
        "    train_err_hidden.append(np.mean(y_train != y_pca_train_pred))\n",
        "    test_err_hidden.append(np.mean(y_test != y_pca_test_pred))\n",
        "plt.semilogx(range(1, 100), test_err_hidden, 'b-o', label = 'test')\n",
        "plt.semilogx(range(1, 100), train_err_hidden, 'r-o', label = 'train')\n",
        "plt.xlim([1, 100])\n",
        "plt.title('Error rate')\n",
        "plt.xlabel('num of layers')\n",
        "plt.ylabel('error')\n",
        "plt.legend()\n",
        "pass"
      ],
      "execution_count": 0,
      "outputs": [
        {
          "output_type": "display_data",
          "data": {
            "image/png": "[encoded data removed]",
            "text/plain": [
              "<Figure size 432x288 with 1 Axes>"
            ]
          },
          "metadata": {
            "tags": []
          }
        }
      ]
    },
    {
      "cell_type": "markdown",
      "metadata": {
        "id": "2WnSUVGI0LMS",
        "colab_type": "text"
      },
      "source": [
        "Как мы видим использование PCA не улучшает ситуацию, а наоборот - ошибка возрастает по сравнению с результатами без PCA. При подборе параметров ошибка на обучающей выборке исчезает, однако на тестовой просто уменьшается, но присутствует, чего мы не наблюдаем на примере без PCA."
      ]
    },
    {
      "cell_type": "markdown",
      "metadata": {
        "id": "eiM54kiRPwsl",
        "colab_type": "text"
      },
      "source": [
        "# Lab 5 Random Forest and  Gradient Boosting tree "
      ]
    },
    {
      "cell_type": "code",
      "metadata": {
        "id": "BDB9JbJLd9DT",
        "colab_type": "code",
        "colab": {}
      },
      "source": [
        "from sklearn.ensemble import RandomForestClassifier\n",
        "from sklearn.metrics import accuracy_score\n",
        "from sklearn.model_selection import train_test_split\n",
        "\n",
        "x_train, x_test, y_train, y_test = train_test_split(x, y, test_size = 0.3, random_state = 8)"
      ],
      "execution_count": 0,
      "outputs": []
    },
    {
      "cell_type": "code",
      "metadata": {
        "id": "2e5H8pJ3YAvC",
        "colab_type": "code",
        "outputId": "ff5f39d5-9c69-4b84-ef94-da06fa1dcdbf",
        "colab": {
          "base_uri": "https://localhost:8080/",
          "height": 713
        }
      },
      "source": [
        "trees_number = [1, 2, 3, 4, 5, 10, 15, 20, 25, 100, 200]\n",
        "for num in trees_number:\n",
        "  rf_model = RandomForestClassifier(n_estimators = num, oob_score= True) \n",
        "  rf_model.fit(x_train, y_train)\n",
        "  y_test_pred = rf_model.predict(x_test)\n",
        "  y_train_pred = rf_model.predict(x_train)\n",
        "  train_score = 1 - accuracy_score(y_train_pred, y_train)\n",
        "  test_score = 1 - accuracy_score(y_test_pred, y_test)\n",
        "  oob_error = 1 - rf_model.oob_score_\n",
        "  print(\"Trees num: {}, train error: {}, test error: {}, oob error {}\".format(num, train_score, test_score, oob_error))"
      ],
      "execution_count": 0,
      "outputs": [
        {
          "output_type": "stream",
          "text": [
            "/usr/local/lib/python3.6/dist-packages/sklearn/ensemble/_forest.py:523: UserWarning: Some inputs do not have OOB scores. This probably means too few trees were used to compute any reliable oob estimates.\n",
            "  warn(\"Some inputs do not have OOB scores. \"\n",
            "/usr/local/lib/python3.6/dist-packages/sklearn/ensemble/_forest.py:528: RuntimeWarning: invalid value encountered in true_divide\n",
            "  predictions[k].sum(axis=1)[:, np.newaxis])\n",
            "/usr/local/lib/python3.6/dist-packages/sklearn/ensemble/_forest.py:523: UserWarning: Some inputs do not have OOB scores. This probably means too few trees were used to compute any reliable oob estimates.\n",
            "  warn(\"Some inputs do not have OOB scores. \"\n",
            "/usr/local/lib/python3.6/dist-packages/sklearn/ensemble/_forest.py:528: RuntimeWarning: invalid value encountered in true_divide\n",
            "  predictions[k].sum(axis=1)[:, np.newaxis])\n",
            "/usr/local/lib/python3.6/dist-packages/sklearn/ensemble/_forest.py:523: UserWarning: Some inputs do not have OOB scores. This probably means too few trees were used to compute any reliable oob estimates.\n",
            "  warn(\"Some inputs do not have OOB scores. \"\n",
            "/usr/local/lib/python3.6/dist-packages/sklearn/ensemble/_forest.py:528: RuntimeWarning: invalid value encountered in true_divide\n",
            "  predictions[k].sum(axis=1)[:, np.newaxis])\n",
            "/usr/local/lib/python3.6/dist-packages/sklearn/ensemble/_forest.py:523: UserWarning: Some inputs do not have OOB scores. This probably means too few trees were used to compute any reliable oob estimates.\n",
            "  warn(\"Some inputs do not have OOB scores. \"\n",
            "/usr/local/lib/python3.6/dist-packages/sklearn/ensemble/_forest.py:528: RuntimeWarning: invalid value encountered in true_divide\n",
            "  predictions[k].sum(axis=1)[:, np.newaxis])\n"
          ],
          "name": "stderr"
        },
        {
          "output_type": "stream",
          "text": [
            "Trees num: 1, train error: 0.0, test error: 0.0, oob error 0.30460780865283155\n",
            "Trees num: 2, train error: 0.00017587055926837625, test error: 0.0012305168170632097, oob error 0.19838199085473096\n",
            "Trees num: 3, train error: 0.0, test error: 0.0, oob error 0.12469222652128031\n",
            "Trees num: 4, train error: 0.0, test error: 0.0, oob error 0.08002110446711219\n"
          ],
          "name": "stdout"
        },
        {
          "output_type": "stream",
          "text": [
            "/usr/local/lib/python3.6/dist-packages/sklearn/ensemble/_forest.py:523: UserWarning: Some inputs do not have OOB scores. This probably means too few trees were used to compute any reliable oob estimates.\n",
            "  warn(\"Some inputs do not have OOB scores. \"\n",
            "/usr/local/lib/python3.6/dist-packages/sklearn/ensemble/_forest.py:528: RuntimeWarning: invalid value encountered in true_divide\n",
            "  predictions[k].sum(axis=1)[:, np.newaxis])\n",
            "/usr/local/lib/python3.6/dist-packages/sklearn/ensemble/_forest.py:523: UserWarning: Some inputs do not have OOB scores. This probably means too few trees were used to compute any reliable oob estimates.\n",
            "  warn(\"Some inputs do not have OOB scores. \"\n",
            "/usr/local/lib/python3.6/dist-packages/sklearn/ensemble/_forest.py:528: RuntimeWarning: invalid value encountered in true_divide\n",
            "  predictions[k].sum(axis=1)[:, np.newaxis])\n"
          ],
          "name": "stderr"
        },
        {
          "output_type": "stream",
          "text": [
            "Trees num: 5, train error: 0.0, test error: 0.0, oob error 0.05276116778051354\n",
            "Trees num: 10, train error: 0.0, test error: 0.0, oob error 0.0052761167780513984\n"
          ],
          "name": "stdout"
        },
        {
          "output_type": "stream",
          "text": [
            "/usr/local/lib/python3.6/dist-packages/sklearn/ensemble/_forest.py:523: UserWarning: Some inputs do not have OOB scores. This probably means too few trees were used to compute any reliable oob estimates.\n",
            "  warn(\"Some inputs do not have OOB scores. \"\n",
            "/usr/local/lib/python3.6/dist-packages/sklearn/ensemble/_forest.py:528: RuntimeWarning: invalid value encountered in true_divide\n",
            "  predictions[k].sum(axis=1)[:, np.newaxis])\n"
          ],
          "name": "stderr"
        },
        {
          "output_type": "stream",
          "text": [
            "Trees num: 15, train error: 0.0, test error: 0.0, oob error 0.0005276116778051287\n",
            "Trees num: 20, train error: 0.0, test error: 0.0, oob error 0.0\n",
            "Trees num: 25, train error: 0.0, test error: 0.0, oob error 0.0\n",
            "Trees num: 100, train error: 0.0, test error: 0.0, oob error 0.0\n",
            "Trees num: 200, train error: 0.0, test error: 0.0, oob error 0.0\n"
          ],
          "name": "stdout"
        }
      ]
    },
    {
      "cell_type": "markdown",
      "metadata": {
        "id": "BOcBHUV-l6Ul",
        "colab_type": "text"
      },
      "source": [
        "Random forest дает идеальные результаты(нулевая ошибка на тестовой и обучающей выборке, нулевую oob ошибку) уже при 20 решающих деревьев. "
      ]
    },
    {
      "cell_type": "code",
      "metadata": {
        "id": "sa-SNAjtYAsW",
        "colab_type": "code",
        "outputId": "34096a9f-1633-439c-e983-190ed88c0f01",
        "colab": {
          "base_uri": "https://localhost:8080/",
          "height": 191
        }
      },
      "source": [
        "y_test_pred = rf_model.predict(x_test)\n",
        "y_train_pred = rf_model.predict(x_train)\n",
        "\n",
        "print(\"Train confusion matrix:\")\n",
        "print(confusion_matrix(y_train_pred, y_train))\n",
        "print(\"Train error score = {}\\n\\n\".format(1 - accuracy_score(y_train_pred, y_train)))\n",
        "print(\"Test confusion matrix:\")\n",
        "print(confusion_matrix(y_test_pred, y_test))\n",
        "print(\"Test error score = {}\".format(1 - accuracy_score(y_test_pred, y_test)))"
      ],
      "execution_count": 0,
      "outputs": [
        {
          "output_type": "stream",
          "text": [
            "Train confusion matrix:\n",
            "[[2915    0]\n",
            " [   0 2771]]\n",
            "Train error score = 0.0\n",
            "\n",
            "\n",
            "Test confusion matrix:\n",
            "[[1293    0]\n",
            " [   0 1145]]\n",
            "Test error score = 0.0\n"
          ],
          "name": "stdout"
        }
      ]
    },
    {
      "cell_type": "markdown",
      "metadata": {
        "id": "NQseByr961IH",
        "colab_type": "text"
      },
      "source": [
        "Gradient boosting tree"
      ]
    },
    {
      "cell_type": "code",
      "metadata": {
        "id": "291RaDmX666w",
        "colab_type": "code",
        "outputId": "7bdc0339-f98f-410c-d6ef-fccd95962bbc",
        "colab": {
          "base_uri": "https://localhost:8080/",
          "height": 260
        }
      },
      "source": [
        "from sklearn.ensemble import GradientBoostingClassifier\n",
        "trees_number = [1, 2, 3, 4, 5, 10, 15, 20, 25, 35, 50, 75, 100, 200]\n",
        "for num in trees_number:\n",
        "  rb_model = GradientBoostingClassifier(n_estimators = num) \n",
        "  rb_model.fit(x_train, y_train)\n",
        "  y_test_pred = rb_model.predict(x_test)\n",
        "  y_train_pred = rb_model.predict(x_train)\n",
        "  train_score = 1 - accuracy_score(y_train_pred, y_train)\n",
        "  test_score = 1 - accuracy_score(y_test_pred, y_test)\n",
        "  print(\"Trees num: {}, train error: {}, test error: {}\".format(num, train_score, test_score))"
      ],
      "execution_count": 0,
      "outputs": [
        {
          "output_type": "stream",
          "text": [
            "Trees num: 1, train error: 0.014309893829819953, test error: 0.016615384615384587\n",
            "Trees num: 2, train error: 0.014309893829819953, test error: 0.016615384615384587\n",
            "Trees num: 3, train error: 0.014309893829819953, test error: 0.016615384615384587\n",
            "Trees num: 4, train error: 0.014309893829819953, test error: 0.016615384615384587\n",
            "Trees num: 5, train error: 0.014309893829819953, test error: 0.016615384615384587\n",
            "Trees num: 10, train error: 0.00276965687028774, test error: 0.0036923076923076614\n",
            "Trees num: 15, train error: 0.002308047391906487, test error: 0.0006153846153845732\n",
            "Trees num: 20, train error: 0.0010770887828897013, test error: 0.0006153846153845732\n",
            "Trees num: 25, train error: 0.000923218956762617, test error: 0.0006153846153845732\n",
            "Trees num: 35, train error: 0.0006154793045083373, test error: 0.0\n",
            "Trees num: 50, train error: 0.000461609478381253, test error: 0.0\n",
            "Trees num: 75, train error: 0.0, test error: 0.0\n",
            "Trees num: 100, train error: 0.0, test error: 0.0\n",
            "Trees num: 200, train error: 0.0, test error: 0.0\n"
          ],
          "name": "stdout"
        }
      ]
    },
    {
      "cell_type": "markdown",
      "metadata": {
        "id": "WHYV42hg8yH5",
        "colab_type": "text"
      },
      "source": [
        "Оба классификатора хорошо себя показали, и при достаточном количесвте решающих деревьев предсказывают без ошибок. Переобучение не наблюдается."
      ]
    },
    {
      "cell_type": "markdown",
      "metadata": {
        "id": "6ZqJWNR6-c3z",
        "colab_type": "text"
      },
      "source": [
        "В ходе выполнения работы выяснилось, что датасет оказался простым и легко поддающимся для предсказания(KNN, MLP Classifier, Random Forest, Gradient Boosting Classifier можно настроить и обучить до нулевой ошибки). Переобучения не наблюдалось при обучении всех классификаторо."
      ]
    },
    {
      "cell_type": "markdown",
      "metadata": {
        "id": "Hs-ITwcl85AA",
        "colab_type": "text"
      },
      "source": [
        "## Lab 7 Clustering"
      ]
    },
    {
      "cell_type": "code",
      "metadata": {
        "id": "Wkr3nJ5i8xq7",
        "colab_type": "code",
        "colab": {}
      },
      "source": [
        "from sklearn.cluster import KMeans, DBSCAN, AffinityPropagation, AgglomerativeClustering, MiniBatchKMeans\n",
        "from sklearn.model_selection import GridSearchCV\n",
        "from sklearn.metrics import confusion_matrix\n",
        "from sklearn.model_selection import train_test_split\n",
        "from sklearn.utils import class_weight\n",
        "from sklearn.metrics import accuracy_score\n",
        "from seaborn import heatmap"
      ],
      "execution_count": 0,
      "outputs": []
    },
    {
      "cell_type": "markdown",
      "metadata": {
        "id": "xxx2dIg60A8i",
        "colab_type": "text"
      },
      "source": [
        "KMeans"
      ]
    },
    {
      "cell_type": "code",
      "metadata": {
        "id": "7_oep31Wz1yU",
        "colab_type": "code",
        "outputId": "8308fb4b-fc11-474c-e25c-76993e826419",
        "colab": {
          "base_uri": "https://localhost:8080/",
          "height": 282
        }
      },
      "source": [
        "km_model = KMeans(n_clusters=2)\n",
        "km_model.fit(x)\n",
        "print(\"Accuracy {}\".format(accuracy_score(km_model.labels_, y)))\n",
        "heatmap(confusion_matrix(y, km_model.labels_), annot=True, fmt=\"d\")\n",
        "pass"
      ],
      "execution_count": 0,
      "outputs": [
        {
          "output_type": "stream",
          "text": [
            "Accuracy 0.8951255539143279\n"
          ],
          "name": "stdout"
        },
        {
          "output_type": "display_data",
          "data": {
            "image/png": "[encoded data removed]",
            "text/plain": [
              "<Figure size 432x288 with 2 Axes>"
            ]
          },
          "metadata": {
            "tags": []
          }
        }
      ]
    },
    {
      "cell_type": "code",
      "metadata": {
        "id": "_sWn-1coz1vS",
        "colab_type": "code",
        "outputId": "21dd3228-702a-4da0-edf0-306f7c861d3a",
        "colab": {
          "base_uri": "https://localhost:8080/",
          "height": 282
        }
      },
      "source": [
        "km_model = KMeans(n_clusters=2, n_init=200, tol=0.001, init=\"k-means++\")\n",
        "km_model.fit(x)\n",
        "print(\"Accuracy {}\".format(accuracy_score(km_model.labels_, y)))\n",
        "heatmap(confusion_matrix(y, km_model.labels_), annot=True, fmt=\"d\")\n",
        "pass"
      ],
      "execution_count": 0,
      "outputs": [
        {
          "output_type": "stream",
          "text": [
            "Accuracy 0.8951255539143279\n"
          ],
          "name": "stdout"
        },
        {
          "output_type": "display_data",
          "data": {
            "image/png": "[encoded data removed]",
            "text/plain": [
              "<Figure size 432x288 with 2 Axes>"
            ]
          },
          "metadata": {
            "tags": []
          }
        }
      ]
    },
    {
      "cell_type": "markdown",
      "metadata": {
        "id": "aKQKYyfSz3b2",
        "colab_type": "text"
      },
      "source": [
        "DBSCAN"
      ]
    },
    {
      "cell_type": "code",
      "metadata": {
        "id": "3uc2eOURz1qE",
        "colab_type": "code",
        "outputId": "1376cefe-a14d-424c-9624-19e1fe4c8d57",
        "colab": {
          "base_uri": "https://localhost:8080/",
          "height": 316
        }
      },
      "source": [
        "model = DBSCAN(eps=3, min_samples=6)\n",
        "model.fit(x)\n",
        "print(\"Accuracy {}\".format(sum(model.labels_ == y)/len(y)))\n",
        "heatmap(confusion_matrix(y, model.labels_), annot=True, fmt=\"d\")\n",
        "print(model.labels_)\n",
        "print(set(model.labels_))\n",
        "pass"
      ],
      "execution_count": 0,
      "outputs": [
        {
          "output_type": "stream",
          "text": [
            "Accuracy 0.6479566715903495\n",
            "[0 0 0 ... 3 0 3]\n",
            "{0, 1, 2, 3, 4, 5}\n"
          ],
          "name": "stdout"
        },
        {
          "output_type": "display_data",
          "data": {
            "image/png": "[encoded data removed]",
            "text/plain": [
              "<Figure size 432x288 with 2 Axes>"
            ]
          },
          "metadata": {
            "tags": []
          }
        }
      ]
    },
    {
      "cell_type": "markdown",
      "metadata": {
        "id": "68x7GPvr0IIC",
        "colab_type": "text"
      },
      "source": [
        "AffinityPropagation"
      ]
    },
    {
      "cell_type": "code",
      "metadata": {
        "id": "ys9Bi_8Ez1jW",
        "colab_type": "code",
        "outputId": "2fed15e4-d154-432c-879e-9efda7769d0e",
        "colab": {
          "base_uri": "https://localhost:8080/",
          "height": 350
        }
      },
      "source": [
        "ap_model = AffinityPropagation()\n",
        "ap_model.fit(x)\n",
        "print(\"Accuracy {}\".format(sum(ap_model.labels_ == y)/len(y)))\n",
        "heatmap(confusion_matrix(y, ap_model.labels_), annot=True, fmt=\"d\")\n",
        "print(ap_model.labels_)\n",
        "print(set(ap_model.labels_))\n",
        "pass"
      ],
      "execution_count": 0,
      "outputs": [
        {
          "output_type": "stream",
          "text": [
            "/usr/local/lib/python3.6/dist-packages/sklearn/cluster/_affinity_propagation.py:226: ConvergenceWarning: Affinity propagation did not converge, this model will not have any cluster centers.\n",
            "  \"will not have any cluster centers.\", ConvergenceWarning)\n"
          ],
          "name": "stderr"
        },
        {
          "output_type": "stream",
          "text": [
            "Accuracy 0.0\n",
            "[-1 -1 -1 ... -1 -1 -1]\n",
            "{-1}\n"
          ],
          "name": "stdout"
        },
        {
          "output_type": "display_data",
          "data": {
            "image/png": "[encoded data removed]",
            "text/plain": [
              "<Figure size 432x288 with 2 Axes>"
            ]
          },
          "metadata": {
            "tags": []
          }
        }
      ]
    },
    {
      "cell_type": "markdown",
      "metadata": {
        "id": "3CXMH8-L-ZpD",
        "colab_type": "text"
      },
      "source": [
        "AgglomerativeClustering "
      ]
    },
    {
      "cell_type": "code",
      "metadata": {
        "id": "esbz2gphAiYi",
        "colab_type": "code",
        "outputId": "b4d2d9e1-c1b4-46fa-e7f6-fa8d168cead2",
        "colab": {
          "base_uri": "https://localhost:8080/",
          "height": 370
        }
      },
      "source": [
        "ac_model = AgglomerativeClustering(n_clusters=2)\n",
        "pred_label = ac_model.fit_predict(x)\n",
        "print(\"Accuracy {}\".format(sum(pred_label== y)/len(y)))\n",
        "print(\"inverting labels...\")\n",
        "inv = [not i for i in pred_label] \n",
        "print(\"Accuracy {}\".format(sum(inv== y)/len(y)))\n",
        "heatmap(confusion_matrix(y, inv), annot=True, fmt=\"d\")\n",
        "print(inv)\n",
        "print(set(inv))\n",
        "pass"
      ],
      "execution_count": 0,
      "outputs": [
        {
          "output_type": "stream",
          "text": [
            "Accuracy 0.10979812900049236\n",
            "inverting labels...\n",
            "Accuracy 0.8902018709995076\n",
            "[False, False, False, False, False, False, False, False, False, False, False, False, False, False, False, False, False, False, False, False, False, False, False, False, False, False, False, False, False, False, False, False, False, False, False, False, False, False, False, False, False, False, False, False, False, False, False, False, False, False, False, False, False, False, False, False, False, False, False, False, False, False, False, False, False, False, False, False, False, False, False, False, False, False, False, False, False, False, False, False, False, False, False, False, False, False, False, False, False, False, False, False, False, False, False, False, False, False, False, False, False, False, False, False, False, False, False, False, False, False, False, False, False, False, False, False, False, False, False, False, False, False, False, False, False, False, False, False, False, False, False, False, False, False, False, False, False, False, False, False, False, False, False, False, False, False, False, False, False, False, False, False, False, False, False, False, False, False, False, False, False, False, False, False, False, False, False, False, False, False, False, False, False, False, False, False, False, False, False, False, False, False, False, False, False, False, False, False, False, False, False, False, False, False, False, False, False, False, False, False, False, False, False, False, False, False, False, False, False, False, False, False, False, False, False, False, False, False, False, False, False, False, False, False, False, False, False, False, False, False, False, False, False, False, False, False, False, False, False, False, False, False, False, False, False, False, False, False, False, False, False, False, False, False, False, False, False, False, False, False, False, False, False, False, False, False, False, False, False, False, False, False, False, False, False, False, False, False, False, False, False, False, False, False, False, False, False, False, False, False, False, False, False, False, False, False, False, False, False, False, False, False, False, False, False, False, False, False, False, False, False, False, False, False, False, False, False, False, False, False, False, False, False, False, False, False, False, False, False, False, False, False, False, False, False, False, False, False, False, False, False, False, False, False, False, False, False, False, False, False, False, False, False, False, False, False, False, False, False, False, False, False, False, False, False, False, False, False, False, False, False, False, False, False, False, False, False, False, False, False, False, False, False, False, False, False, False, False, False, False, False, False, False, False, False, False, False, False, False, False, False, False, False, False, False, False, False, False, False, False, False, False, False, False, False, False, False, False, False, False, False, False, False, False, False, False, False, False, False, False, False, False, False, False, False, False, False, False, False, False, False, False, False, False, False, False, False, False, False, False, False, False, False, False, False, False, False, False, False, False, False, False, False, False, False, False, False, False, False, False, False, False, False, False, False, False, False, False, False, False, False, False, False, False, False, False, False, False, False, False, False, False, False, False, False, False, False, False, False, False, False, False, False, False, False, False, False, False, False, False, False, False, False, False, False, False, False, False, False, False, False, False, False, False, False, False, False, False, False, False, False, False, False, False, False, False, False, False, False, False, False, False, False, False, False, False, False, False, False, False, False, False, False, False, False, False, False, False, False, False, False, False, False, False, False, False, False, False, False, False, False, False, False, False, False, False, False, False, False, False, False, False, False, False, False, False, False, False, False, False, False, False, False, False, False, False, False, False, False, False, False, False, False, False, False, False, False, False, False, False, False, False, False, False, False, False, False, False, False, False, False, False, False, False, False, False, False, False, False, False, False, False, False, False, False, False, False, False, False, False, False, False, False, False, False, False, False, False, False, False, False, False, False, False, False, False, False, False, False, False, False, False, False, False, False, False, False, False, False, False, False, False, False, False, False, False, False, False, False, False, False, False, False, False, False, False, False, False, False, False, False, False, False, False, False, False, False, False, False, False, False, False, False, False, False, False, False, False, False, False, False, False, False, False, False, False, False, False, False, False, False, False, False, False, False, False, False, False, False, False, False, False, False, False, False, False, False, False, False, False, False, False, False, False, False, False, False, False, False, False, False, False, False, False, False, False, False, False, False, False, False, False, False, False, False, False, False, False, False, False, False, False, False, False, False, False, False, False, False, False, False, False, False, False, False, False, False, False, False, False, False, False, False, False, False, False, False, False, False, False, False, False, False, False, False, False, False, False, False, False, False, False, False, False, False, False, False, False, False, False, False, False, False, False, False, False, False, False, False, False, False, False, False, False, False, False, False, False, False, False, False, False, False, False, False, False, False, False, False, False, False, False, False, False, False, False, False, False, False, False, False, False, False, False, False, False, False, False, False, False, False, False, False, False, False, False, False, False, False, False, False, False, False, False, False, False, False, False, False, False, False, False, False, False, False, False, False, False, False, False, False, False, False, False, False, False, False, False, False, False, False, False, False, False, False, False, False, False, False, False, False, False, False, False, False, False, False, False, False, False, False, False, False, False, False, False, False, False, False, False, False, False, False, False, False, False, False, False, False, False, False, False, False, False, False, False, False, False, False, False, False, False, False, False, False, False, False, False, False, False, False, False, False, False, False, False, False, False, False, False, False, False, False, False, False, False, False, False, False, False, False, False, False, False, False, False, False, False, False, False, False, False, False, False, False, False, False, False, False, False, False, False, False, False, False, False, False, False, False, False, False, False, False, False, False, False, False, False, False, False, False, False, False, False, False, False, False, False, False, False, False, False, False, False, False, False, False, False, False, False, False, False, False, False, False, False, False, False, False, False, False, False, False, False, False, False, False, False, False, False, False, False, False, False, False, False, False, False, False, False, False, False, False, False, False, False, False, False, False, False, False, False, False, False, False, False, False, False, False, False, False, False, False, False, False, False, False, False, False, False, False, False, False, False, False, False, False, False, False, False, False, False, False, False, False, False, False, False, False, False, False, False, False, False, False, False, False, False, False, False, False, False, False, False, False, False, False, False, False, False, False, False, False, False, False, False, False, False, False, False, False, False, False, False, False, False, False, False, False, False, False, False, False, False, False, False, False, False, False, False, False, False, False, False, False, False, False, False, False, False, False, False, False, False, False, False, False, False, False, False, False, False, False, False, False, False, False, False, False, False, False, False, False, False, False, False, False, False, False, False, False, False, False, False, False, False, False, False, False, False, False, False, False, False, False, False, False, False, False, False, False, False, False, False, False, False, False, False, False, False, False, False, False, False, False, False, False, False, False, False, False, False, False, False, False, False, False, False, False, False, False, False, False, False, False, False, False, False, False, False, False, False, False, False, False, False, False, False, False, False, False, False, False, False, False, False, False, False, False, False, False, False, False, False, False, False, False, False, False, False, False, False, False, False, False, False, False, False, False, False, False, False, False, False, False, False, False, False, False, False, False, False, False, False, False, False, False, False, False, False, False, False, False, False, False, False, False, False, False, False, False, False, False, False, False, False, False, False, False, False, False, False, False, False, False, False, False, False, False, False, False, False, False, False, False, False, False, False, False, False, False, False, False, False, False, False, False, False, False, False, False, False, False, False, False, False, False, False, False, False, False, False, False, False, False, False, False, False, False, False, False, False, False, False, False, False, False, False, False, False, False, False, False, False, False, False, False, False, False, False, False, False, False, False, False, False, False, False, False, False, False, False, False, False, False, False, False, False, False, False, False, False, False, False, False, False, False, False, False, False, False, False, False, False, False, False, False, False, False, False, False, False, False, False, False, False, False, False, False, False, False, False, False, False, False, False, False, False, False, False, False, False, False, False, False, False, False, False, False, False, False, False, False, False, False, False, False, False, False, False, False, False, False, False, False, False, False, False, False, False, False, False, False, False, False, False, False, False, False, False, False, False, False, False, False, False, False, False, False, False, False, False, False, False, False, False, False, False, False, False, False, False, False, False, False, False, False, False, False, False, False, False, False, False, False, False, False, False, False, False, False, False, False, False, False, False, False, False, False, False, False, False, False, False, False, False, False, False, False, False, False, False, False, False, False, False, False, False, False, False, False, False, False, False, False, False, False, False, False, False, False, False, False, False, False, False, False, False, False, False, False, False, False, False, False, False, False, False, False, False, False, False, False, False, False, False, False, False, False, False, False, False, False, False, False, False, False, False, False, False, False, False, False, False, False, False, False, False, False, False, False, False, False, False, False, False, False, False, False, False, False, False, False, False, False, False, False, False, False, False, False, False, False, False, False, False, False, False, False, False, False, False, False, False, False, False, False, False, False, False, False, False, False, False, False, False, False, False, False, False, False, False, False, False, False, False, False, False, False, False, False, False, False, False, False, False, False, False, False, False, False, False, False, False, False, False, False, False, False, False, False, False, False, False, False, False, False, False, False, False, False, False, False, False, False, False, False, False, False, False, False, False, False, False, False, False, False, False, False, False, False, False, False, False, False, False, False, False, False, False, False, False, False, False, False, False, False, False, False, False, False, False, False, False, False, False, False, False, False, False, False, False, False, False, False, False, False, False, False, False, False, False, False, False, False, False, True, False, False, False, False, False, False, False, False, False, False, False, False, False, False, False, False, False, False, False, False, False, False, False, False, False, False, False, False, False, False, False, False, False, False, False, False, False, False, False, False, False, False, False, False, False, False, False, False, False, False, False, False, False, False, False, False, False, False, False, False, False, False, False, False, False, False, False, False, False, False, False, False, False, False, False, False, False, False, False, False, False, False, False, False, False, False, False, False, False, False, False, False, False, False, False, False, False, False, False, False, False, False, False, False, False, False, False, False, False, False, False, False, False, False, False, False, False, False, False, False, False, False, False, False, False, False, False, False, False, False, False, False, False, False, False, False, False, False, False, False, False, False, False, False, False, False, False, False, False, False, False, False, False, False, False, False, False, False, False, False, False, False, False, False, False, False, False, False, False, False, False, False, False, False, False, False, False, False, False, False, False, False, False, False, False, False, False, False, False, False, False, False, False, False, False, False, False, False, False, False, False, False, False, False, False, False, False, False, False, False, False, False, False, False, False, False, False, False, False, False, False, False, False, False, False, False, False, False, False, False, False, False, False, False, False, False, False, False, False, False, False, False, False, False, False, False, False, False, False, False, False, False, False, False, False, False, False, False, False, False, False, False, False, False, False, False, False, False, False, False, False, False, False, False, False, False, False, False, False, False, False, False, False, False, False, False, False, False, False, False, False, False, False, False, False, False, False, False, False, False, False, False, False, False, False, False, False, False, False, False, False, True, False, False, False, False, False, False, False, False, False, False, False, False, False, False, False, False, False, False, False, False, False, False, False, False, False, False, False, False, False, False, False, False, False, False, False, False, False, False, False, False, False, False, False, False, False, False, False, False, False, True, False, False, False, False, False, False, False, False, False, False, False, False, False, False, False, False, False, False, False, False, False, False, False, False, False, False, False, False, False, False, False, False, False, False, False, False, False, False, False, False, False, False, False, False, False, False, False, False, False, False, False, False, False, False, False, False, False, False, False, True, False, False, False, False, False, False, False, False, False, False, False, False, False, False, False, False, False, False, False, False, False, False, False, False, False, False, False, False, False, False, False, False, False, False, False, False, False, False, False, False, False, False, False, False, False, False, False, False, False, False, False, False, False, False, False, False, False, False, False, False, False, False, False, False, False, False, False, False, False, False, False, False, False, False, False, False, False, False, False, False, False, False, False, False, False, False, False, False, False, False, False, False, False, False, False, False, False, False, False, False, False, False, False, False, False, False, False, False, False, False, False, False, False, False, False, False, False, False, False, False, False, False, False, False, False, False, False, False, False, False, False, False, False, False, False, False, False, False, False, False, False, False, False, False, False, False, True, False, False, False, False, False, False, False, False, False, False, False, False, False, False, False, False, False, False, False, False, False, False, False, False, False, False, False, False, False, False, False, False, False, False, False, False, False, False, False, False, False, False, False, False, False, False, False, False, False, False, False, False, False, False, False, False, False, True, False, False, False, False, False, False, False, False, False, False, False, False, False, False, False, False, False, False, False, False, False, False, False, False, False, False, False, False, False, False, False, False, False, False, False, False, False, False, False, False, False, False, False, False, False, False, False, False, False, False, False, False, False, False, False, False, False, False, False, False, False, False, False, False, False, False, False, False, False, False, False, False, False, False, False, False, False, False, False, False, False, False, False, False, False, False, False, False, False, True, False, False, True, False, False, True, False, False, False, False, False, False, False, False, False, False, False, False, False, False, False, False, False, False, False, False, False, False, False, False, False, False, True, False, False, False, False, True, False, False, False, False, False, False, False, False, False, False, False, False, False, False, False, False, False, False, False, False, False, False, True, False, False, False, False, False, False, False, False, False, False, True, False, False, False, False, False, False, False, False, False, False, False, False, False, False, False, False, False, False, False, False, False, False, False, False, False, False, False, False, False, False, False, False, False, False, False, False, False, False, False, False, False, False, False, False, False, False, False, False, False, False, False, False, False, False, False, False, False, False, False, False, False, False, False, False, False, False, False, False, False, False, False, False, False, False, False, False, False, False, False, False, False, False, False, False, False, False, False, False, False, False, False, True, False, False, False, False, False, False, False, False, False, False, False, False, False, False, False, False, False, False, False, False, False, False, False, False, False, False, False, False, False, False, False, False, False, False, False, False, False, False, False, False, False, False, False, False, False, False, False, False, False, False, False, False, False, False, False, False, False, False, False, False, False, False, False, False, False, False, False, False, True, False, False, False, True, False, False, False, False, False, False, False, False, False, False, False, False, False, False, False, False, False, False, False, False, False, False, False, False, False, False, False, False, False, False, False, False, False, False, False, False, False, False, False, False, False, False, False, False, False, False, False, False, False, False, False, False, False, False, False, False, False, False, False, False, False, False, False, False, False, False, False, False, False, False, False, False, False, False, False, False, False, False, False, False, False, False, False, False, False, False, False, False, False, False, False, False, False, False, False, False, False, False, False, False, False, False, False, False, False, False, False, False, False, False, False, False, False, False, False, False, False, False, False, False, False, False, False, False, False, False, False, False, False, False, False, False, True, False, False, False, False, False, False, False, False, False, False, False, False, False, False, False, False, False, False, False, False, False, False, True, False, False, False, False, False, False, False, False, False, False, True, False, False, False, False, False, False, False, False, False, False, False, False, False, False, False, False, False, False, False, False, False, False, False, False, False, False, False, False, False, False, False, False, False, False, False, False, False, False, False, False, False, False, False, False, False, False, False, False, False, False, False, False, True, False, False, False, False, False, False, False, False, False, False, True, False, True, False, False, False, False, False, True, False, False, False, False, False, False, True, True, False, False, False, False, False, False, False, False, False, True, False, False, False, False, False, False, True, False, False, False, False, False, True, True, False, False, False, False, False, False, False, False, False, False, False, False, False, False, False, False, False, False, True, False, True, False, True, False, False, False, False, True, False, False, False, True, False, True, False, False, True, False, False, False, True, False, False, True, False, True, False, True, True, True, False, True, False, False, False, False, False, False, False, False, True, True, False, False, False, False, False, True, False, False, False, False, False, False, False, False, False, False, False, False, True, False, False, False, False, False, False, False, False, False, False, False, False, False, False, False, True, False, False, True, False, False, False, False, False, False, False, False, False, False, True, False, False, False, False, False, False, True, False, True, False, False, True, False, True, False, True, False, False, False, False, True, False, False, False, False, False, True, False, False, False, False, False, False, False, True, True, False, True, False, False, True, False, False, False, False, False, True, False, True, False, False, False, True, False, False, True, False, False, True, False, False, False, False, False, False, False, False, False, False, False, False, False, False, True, False, False, False, False, True, False, True, False, True, False, False, False, True, False, False, False, True, False, True, True, False, True, False, False, False, False, False, False, False, False, False, False, True, False, False, False, False, True, True, False, False, False, True, False, False, False, False, True, False, False, True, False, False, True, True, False, False, True, False, False, False, False, False, False, False, False, False, False, False, False, False, True, False, True, False, False, False, True, False, False, False, False, False, False, False, False, True, False, False, False, False, False, False, False, False, False, True, False, False, False, False, True, False, False, False, False, False, True, False, False, False, False, True, False, True, False, False, False, False, False, False, False, True, False, False, True, False, False, False, False, False, True, False, False, False, True, True, False, False, False, False, False, False, False, False, True, False, False, False, False, False, False, True, False, False, False, False, False, False, False, False, False, True, False, False, False, False, False, False, False, False, False, True, False, False, True, False, False, False, False, False, False, False, False, False, False, False, False, False, False, True, False, False, False, False, False, False, False, True, False, False, False, False, False, False, True, False, False, False, False, True, False, True, False, False, False, False, False, False, False, True, False, False, False, True, False, True, False, False, False, False, False, False, False, False, False, False, False, True, False, False, False, False, False, False, False, True, False, False, False, False, False, True, False, False, False, False, False, False, False, False, True, False, True, False, True, False, False, False, True, False, False, False, False, False, False, False, False, False, True, False, True, False, False, True, False, True, False, False, False, False, False, False, False, False, True, False, False, False, False, False, False, False, False, False, False, True, False, False, False, False, False, True, False, False, False, False, True, False, False, False, False, False, False, False, False, False, False, False, True, False, False, True, False, False, False, False, False, True, False, True, False, False, True, False, True, False, False, False, False, False, False, False, False, True, False, False, False, False, False, False, False, False, False, False, False, False, True, False, False, True, False, True, False, False, False, False, True, False, True, True, True, False, True, False, False, False, True, False, False, False, False, False, False, True, True, False, False, True, False, False, False, False, True, False, False, True, False, True, False, False, False, False, False, False, False, False, True, False, False, True, True, True, False, False, True, True, True, False, False, False, True, False, False, True, False, False, False, False, False, True, False, False, False, False, False, False, False, True, False, False, False, False, False, False, False, False, True, False, True, False, False, False, False, False, False, False, True, False, False, False, False, False, False, True, False, False, True, False, False, False, True, False, True, False, False, True, False, False, False, False, True, False, False, False, False, False, True, False, True, False, False, False, False, False, False, False, True, False, False, True, False, False, False, True, False, False, False, False, True, False, False, False, True, False, False, False, False, True, False, False, True, False, False, False, False, False, False, False, False, False, False, False, False, False, False, False, False, True, False, False, False, False, False, True, False, True, False, False, False, True, False, False, True, False, False, False, False, False, False, False, False, False, False, False, False, False, False, False, False, False, True, False, True, False, False, False, False, True, False, False, False, False, False, False, True, False, False, False, False, False, False, True, False, False, False, False, True, True, False, False, False, False, True, False, False, True, False, False, False, False, False, False, False, False, False, False, True, False, False, False, False, False, False, False, False, False, True, False, False, False, False, False, False, True, False, True, False, False, False, False, False, False, False, False, False, False, False, False, False, False, False, True, True, False, True, False, True, True, False, False, False, False, True, True, True, True, False, True, True, True, True, True, False, True, True, True, False, False, False, True, True, True, False, True, False, False, False, True, True, True, False, True, True, True, True, True, True, False, True, False, False, False, True, True, False, False, True, False, True, True, False, True, True, True, True, False, False, True, True, True, False, False, True, False, True, True, True, True, True, True, True, False, True, True, False, False, True, False, True, True, False, False, True, False, False, True, False, True, True, True, True, False, True, True, True, False, False, True, False, True, False, True, False, True, False, False, True, True, False, True, False, False, False, True, False, True, True, True, True, True, False, False, True, True, True, True, True, True, False, True, False, True, True, False, True, False, True, True, True, True, True, False, True, False, True, True, True, False, True, False, False, True, True, False, True, True, False, True, True, False, False, False, True, False, False, True, True, True, True, True, False, True, True, True, True, False, False, True, False, False, True, True, True, True, True, True, True, True, True, False, True, False, True, True, False, False, True, False, False, True, False, True, True, True, True, False, True, False, False, False, True, False, True, True, True, False, True, True, True, True, True, True, True, False, True, True, False, True, True, False, True, False, True, True, True, False, False, True, True, True, False, True, True, False, False, False, True, True, True, True, True, True, False, True, True, True, False, False, False, True, True, False, True, False, True, True, True, False, True, True, True, True, False, True, True, True, True, True, False, True, True, False, True, True, True, False, True, True, False, False, True, True, True, True, True, True, False, False, True, False, False, False, True, True, True, False, True, True, True, True, True, True, True, True, True, True, True, True, False, True, True, True, True, True, True, True, False, True, True, True, True, True, True, True, False, True, True, True, True, True, True, True, True, True, True, True, True, False, True, False, True, True, True, True, True, False, True, True, True, True, True, True, True, True, False, True, True, True, True, True, True, True, True, True, True, True, True, True, False, True, True, True, True, True, True, False, True, True, True, True, True, True, True, False, True, True, True, True, True, True, True, True, True, True, True, True, True, False, True, True, True, True, True, True, True, True, True, True, True, True, True, True, True, True, True, True, True, True, False, True, True, True, True, False, True, True, True, True, True, True, True, True, True, False, True, True, True, True, True, True, True, False, True, True, True, True, True, True, True, False, True, True, True, True, True, True, False, False, True, True, True, True, True, True, True, True, False, False, True, True, True, False, False, True, True, True, True, True, True, True, True, True, True, True, True, True, True, True, False, True, True, True, True, True, True, True, True, True, True, True, True, True, False, False, True, True, True, True, True, False, True, False, True, True, True, True, False, True, True, True, True, True, True, True, True, True, True, True, True, True, False, True, False, True, True, True, False, True, True, True, True, True, True, False, True, True, True, True, True, True, True, False, True, True, True, True, True, True, True, True, True, False, True, True, True, True, True, True, True, True, True, True, False, True, True, True, True, True, True, True, True, True, True, False, True, True, False, True, False, False, True, False, True, True, True, True, True, True, True, True, True, True, True, True, True, True, True, True, True, True, True, False, True, True, True, True, True, True, True, True, True, True, True, True, True, False, False, True, True, True, True, True, True, True, True, True, True, True, True, True, False, False, True, True, True, True, True, True, False, False, True, True, True, True, True, True, True, True, True, True, True, True, False, True, True, True, True, True, True, True, True, True, True, True, True, False, True, True, True, True, True, True, True, True, True, True, True, True, True, True, True, True, True, True, True, True, True, True, True, True, True, True, True, False, True, True, True, True, True, True, True, True, True, True, True, True, True, True, True, True, False, False, False, True, True, True, False, True, True, True, True, True, True, False, True, True, True, True, True, False, True, True, True, True, False, True, True, True, True, True, True, True, True, False, False, False, True, True, True, True, True, True, True, True, True, False, True, True, True, True, True, True, True, True, True, True, True, True, True, True, True, True, True, True, True, True, True, True, False, True, True, False, True, True, False, True, False, True, True, True, False, False, True, True, True, True, True, True, True, False, True, False, True, True, True, True, True, True, True, True, True, True, True, True, False, True, False, True, True, True, True, True, True, True, True, True, True, True, True, True, True, False, True, True, True, True, True, True, True, True, True, True, True, True, True, True, True, True, True, True, True, True, True, True, True, True, True, True, True, False, True, False, True, True, True, False, True, True, True, True, False, True, True, True, True, True, True, True, True, True, True, False, False, True, False, True, True, True, False, True, True, True, True, True, False, True, False, True, True, True, True, True, False, True, True, True, False, True, False, True, False, True, True, False, True, True, False, False, True, True, True, True, False, False, False, False, False, False, False, True, False, True, True, True, True, True, True, True, True, True, False, False, False, True, False, True, True, False, True, True, True, True, True, False, False, True, True, True, False, True, True, True, True, True, False, True, True, True, True, True, False, False, True, True, True, False, False, True, True, True, False, False, True, True, True, True, True, True, True, True, True, True, True, False, True, True, False, True, True, True, False, True, True, False, True, False, True, True, False, True, True, True, False, False, True, True, False, True, True, True, True, False, True, True, True, True, True, False, False, True, True, True, False, False, False, True, True, True, True, True, False, True, True, True, True, False, False, False, False, False, True, True, True, True, True, True, True, True, True, True, True, True, True, True, True, True, False, True, True, True, True, True, True, True, True, False, True, True, False, True, True, True, True, False, False, True, True, False, True, True, True, True, False, True, True, True, True, False, True, True, True, True, False, False, True, False, True, True, True, True, False, True, True, True, True, True, True, True, True, True, True, True, True, True, True, True, False, True, True, True, True, True, True, True, False, False, True, True, True, True, False, True, False, True, True, False, False, False, True, True, True, True, False, False, True, True, True, True, True, True, True, False, True, True, True, True, True, False, True, False, True, True, True, True, True, True, True, True, True, False, False, True, True, False, True, False, True, True, True, False, False, False, True, True, True, False, False, False, True, False, False, False, False, False, False, True, False, False, False, False, False, False, False, False, True, True, False, False, False, False, True, True, False, True, True, True, False, True, True, True, False, True, False, False, True, False, False, True, False, False, True, False, True, False, False, False, False, False, False, True, False, False, True, False, False, True, True, False, False, False, False, False, False, False, True, False, False, False, True, True, False, True, False, False, True, False, True, True, False, False, True, True, True, False, True, True, True, False, False, True, True, False, False, True, True, False, False, False, False, False, True, False, True, False, False, False, False, False, True, True, False, True, False, False, True, False, True, True, False, False, False, False, False, False, True, False, True, True, True, True, False, True, False, False, False, True, False, False, False, False, False, False, False, True, False, False, False, True, True, True, False, False, True, False, False, False, True, False, False, False, False, True, False, False, False, False, False, False, False, True, True, False, False, False, True, True, True, False, False, True, False, False, False, True, False, True, True, True, False, False, False, False, True, False, True, False, False, True, False, False, False, True, False, True, False, False, True, False, True, True, True, False, True, False, False, False, False, False, False, True, False, True, False, False, False, True, False, False, True, False, False, False, False, False, True, False, True, True, False, False, True, True, True, False, False, True, False, True, True, True, False, False, True, False, False, False, False, True, False, False, False, True, True, False, False, False, False, False, False, False, False, False, False, False, False, False, False, False, True, True, False, True, True, False, True, False, True, False, True, False, True, False, False, True, True, False, True, False, False, False, False, True, False, False, True, False, False, False, False, True, False, False, False, True, True, False, False, False, False, True, True, False, True, True, True, False, False, False, True, False, True, False, False, False, True, True, True, True, False, False, False, True, False, True, False, False, False, True, False, False, False, True, False, True, False, True, True, True, True, False, False, False, False, False, False, True, True, True, True, False, True, True, False, True, False, False, False, True, True, False, False, False, False, True, False, False, False, False, True, True, False, False, False, True, False, True, False, False, True, True, True, True, False, True, False, False, True, False, False, True, False, True, True, False, True, True, False, True, False, False, False, False, False, True, True, True, False, False, False, False, False, True, False, False, False, False, True, False, False, False, True, True, False, True, False, False, False, True, False, True, False, False, False, False, True, True, False, False, True, False, False, True, False, True, False, True, False, True, False, False, False, True, True, False, True, False, True, True, False, False, False, False, True, False, True, True, False, False, True, True, False, False, False, True, False, True, True, True, True, False, False, False, False, False, False, False, False, True, False, True, False, False, False, True, True, False, True, True, True, False, False, True, False, False, True, True, True, False, False, False, True, False, True, True, False, False, True, False, True, False, False, False, False, False, True, False, False, True, False, True, True, False, False, True, True, True, False, True, False, False, False, False, False, False, True, False, False, True, False, False, False, True, True, False, False, True, True, False, True, True, False, True, True, True, False, False, False, False, False, True, False, True, False, False, False, True, False, False, False, False, False, True, False, True, True, False, False, False, False, False, False, False, True, False, False, False, False, False, True, False, False, False, False, False, False, False, False, True, True, False, False, False, False, False, False, False, False, True, True, False, True, False, False, True, False, False, False, False, False, False, True, False, True, True, False, False, False, False, False, False, False, False, True, False, False, False, True, False, True, False, False, False, True, False, True, False, False, True, True, True, False, True, False, True, False, True, False, False, False, False, False, True, True, False, False, True, False, True, False, True, False, True, False, True, False, False, True, True, False, False, False, True, False, True, True, False, True, False, False, True, False, False, False, True, False, True, True, True, False, False, False, False, True, False, True, False, True, False, True, True, False, False, True, False, False, False, True, False, False, False, True, True, True, True, True, False, False, False, True, False, True, False, False, True, False, False, True, True, False, False, False, False, True, True, False, False, False, False, False, False, False, True, True, False, True, False, True, False, False, False, False, True, False, True, False, False, False, True, False, False, False, False, True, False, False, True, True, True, True, False, True, False, False, True, True, True, False, False, False, False, False, False, False, False, False, True, True, False, False, False, False, False, True, False, True, False, True, False, True, True, True, False, True, False, False, False, False, True, True, True, True, False, False, True, False, True, False, False, False, False, False, True, False, False, False, True, False, True, True, False, False, True, True, True, False, True, True, True, False, False, False, True, True, True, True, True, True, True, True, True, True, True, True, True, True, True, True, True, True, True, True, True, True, True, True, True, True, True, True, True, True, True, True, True, True, True, True, True, True, True, False, True, False, True, True, True, True, True, True, True, True, True, True, True, True, True, True, True, True, True, True, True, True, True, True, True, True, True, True, True, False, True, True, True, True, True, True, True, True, True, True, True, True, True, True, True, True, True, True, True, True, True, True, True, True, True, True, True, True, True, True, True, True, True, True, True, True, True, True, True, True, True, True, True, True, True, True, True, True, True, True, True, False, True, True, True, True, True, True, True, True, True, True, True, True, True, True, True, True, True, True, True, True, True, False, True, True, True, True, False, True, True, True, True, True, True, True, True, True, True, True, True, True, True, True, True, True, True, True, True, True, True, True, True, True, True, True, True, True, True, True, True, True, True, True, True, True, True, True, True, True, True, True, True, True, True, False, True, True, True, True, True, True, True, True, False, True, True, True, True, True, True, True, True, True, True, False, True, True, True, True, False, True, True, True, True, True, True, True, True, True, True, True, True, True, True, True, True, True, True, True, True, True, True, True, True, True, True, True, True, True, True, True, True, True, True, True, True, True, True, True, True, True, False, True, True, True, True, True, True, True, True, True, True, True, True, True, True, True, True, True, False, True, True, True, True, True, True, True, True, True, True, True, True, True, True, True, True, True, True, True, True, True, True, True, True, True, True, True, True, True, True, True, True, True, True, True, True, True, True, True, True, True, True, True, True, True, True, True, True, True, True, True, False, True, True, True, True, True, True, True, True, True, True, True, True, True, True, True, True, True, True, True, True, True, True, True, True, True, True, True, True, True, True, True, True, True, True, False, True, True, True, True, True, True, True, True, False, True, True, True, True, True, True, True, True, True, True, True, True, True, True, True, True, True, True, True, True, False, True, True, True, True, True, True, False, True, True, False, True, True, True, True, True, True, True, True, False, True, True, True, True, True, True, True, True, False, True, True, True, True, True, True, True, True, True, False, True, True, True, True, True, True, True, True, True, True, True, True, True, True, False, True, True, True, True, True, True, True, True, True, True, True, True, True, True, True, True, True, True, True, True, True, True, True, True, True, True, True, True, True, True, True, True, True, True, True, True, True, True, True, True, True, True, True, True, True, True, True, True, True, True, True, True, True, True, True, True, True, True, True, False, True, True, True, True, True, True, True, False, True, True, True, True, True, True, True, True, True, True, True, True, False, True, True, True, True, True, True, True, True, True, True, True, True, True, True, True, True, True, True, True, True, True, True, True, True, True, True, True, False, True, True, True, True, True, True, True, True, True, True, True, True, True, True, True, True, True, True, True, True, True, True, True, True, True, True, True, True, True, True, True, True, True, True, True, True, True, True, True, True, False, True, True, True, True, True, True, True, True, True, True, True, True, True, True, True, True, True, True, True, True, True, True, True, True, True, True, True, True, True, True, True, True, True, True, True, True, True, True, True, True, True, True, True, True, True, True, True, True, True, True, True, True, True, True, True, True, True, True, True, True, False, True, True, False, True, True, True, True, False, True, True, True, True, True, True, True, True, True, True, True, True, True, True, True, True, True, True, True, True, True, True, True, True, True, True, True, True, True, True, True, True, True, True, True, True, True, True, True, True, True, True, True, True, True, True, True, True, True, True, True, True, True, True, True, True, True, True, True, True, True, True, True, True, True, True, True, True, True, True, True, True, True, True, True, False, True, True, True, True, True, True, True, False, True, True, True, True, True, True, True, True, True, False, False, True, True, True, True, True, True, True, True, True, True, False, True, True, True, True, True, True, True, True, True, True, True, True, True, True, True, True, True, True, True, True, True, True, True, True, True, True, True, True, True, True, True, True, True, True, True, True, True, True, True, True, True, True, True, True, True, True, True, True, True, True, True, True, False, True, True, True, True, True, True, True, True, True, True, True, True, True, True, True, True, True, True, True, True, True, False, True, True, True, True, True, False, True, True, True, True, False, True, True, True, True, True, True, True, True, True, True, True, True, True, True, True, True, True, True, True, True, True, True, True, False, True, True, True, True, True, True, True, True, True, True, True, True, True, True, True, False, True, True, True, False, False, False, False, True, True, False, True, False, True, False, True, True, True, True, True, False, True, True, True, False, True, True, False, False, True, True, True, False, True, True, True, True, False, False, True, True, False, True, True, True, False, True, True, True, True, True, True, False, True, True, True, True, True, False, True, True, True, True, True, True, True, True, False, True, True, False, True, True, True, True, False, True, True, True, True, True, True, True, True, False, True, True, True, True, False, False, False, True, True, False, True, True, False, False, False, True, True, True, False, False, False, True, True, False, False, True, False, True, True, True, False, False, True, True, False, False, True, False, True, True, False, False, True, True, True, True, True, False, False, False, False, False, False, True, False, False, False, True, True, True, True, False, True, True, True, False, False, True, True, False, True, True, True, True, True, True, True, True, False, True, False, True, False, True, True, True, True, True, False, True, True, True, True, True, False, True, True, True, True, True, True, False, True, True, False, False, False, True, True, True, True, True, True, False, True, False, True, True, False, True, True, True, True, True, True, False, False, True, True, True, True, False, True, True, False, True, True, True, False, True, True, True, True, False, True, True, True, True, False, False, False, False, True, True, True, True, False, True, False, True, True, False, True, True, True, True, True, True, False, True, True, True, True, False, True, True, True, False, True, True, True, False, False, True, True, False, True, True, False, True, True, False, True, True, True, True, False, False, False, True, False, True, True, False, True, True, True, True, True, True, False, True, True, True, True, False, True, False, True, False, False, True, True, False, True, True, False, True, True, True, True, True, False, True, True, False, False, False, True, True, True, False, True, False, False, False, False, True, False, False, False, False, True, True, False, True, True, True, True, False, False, False, True, True, True, True, False, True, False, True, False, True, True, False, True, False, True, True, False, True, False, False, True, True, True, False, False, True, False, True, True, False, True, False, True, False, False, True, True, False, False, True, True, True, True, False, True, False, False, True, False, True, True, True, False, False, False, True, True, True, False, False, True, True, False, True, False, True, True, False, False, True, True, True, False, True, True, True, False, True, False, True, False, False, False, True, True, True, True, False, False, False, True, True, True, True, True, False, True, False, True, False, True, True, False, False, True, False, False, False, True, True, True, False, False, False, False, True, True, True, True, False, False, False, True, False, True, False, False, True, False, False, False, False, True, True, True, True, True, True, False, False, True, False, True, False, False, True, True, True, True, True, True, False, True, False, False, True, True, False, False, True, False, True, True, True, False, False, False, True, False, False, True, False, True, True, True, False, True, True, False, True, True, True, True, True, True, False, True, False, True, True, False, True, False, False, True, True, False, False, False, False, True, True, False, False, True, True, True, True, False, True, True, True, False, False, True, True, False, True, True, True, False, False, False, True, True, True, True, True, True, True, True, True, False, False, False, True, False, True, False, False, True, True, True, False, True, True, True, True, True, True, True, False, False, False, True, True, True, True, True, True, True, True, True, False, True, True, False, False, True, False, True, True, True, True, True, False, False, False, True, False, True, False, False, True, False, False, False, False, False, False, False, True, True, False, False, False, False, True, True, True, False, False, True, False, True, False, True, True, False, True, True, False, False, False, False, True, True, False, True, False, True, True, True, False, True, True, False, True, True, False, True, True, True, True, False, True, True, False, False, False, True, True, True, False, True, True, False, True, True, True, False, True, True, False, True, False, True, False, True, True, True, True, False, False, True, False, True, True, False, True, False, True, True, True, True, False, False, True, True, False, False, True, True, False, False, False, True, True, False, False, True, True, True, False, False, False, False, False, True, True, True, True, False, False, False, False, True, True, True, True, True, False, False, True, True, False, True, False, False, True, True, True, True, True, False, True, False, False, True, True, True, False, True, False, True, False, True, True, False, True, True, False, False, True, True, False, True, True, True, True, True, False, False, True, False, False, True, False, False, False, True, True, False, False, True, False, True, False, True, False, False, True, True, False, False, True, False, False, False, True, False, True, False, True, True, True, True, True, True, False, False, True, False, False, False, True, False, False, False, False, False, False, False, True, True, False, False, True, True, True, True, True, False, True, False, False, False, True, False, True, True, True, False, True, True, False, True, True, True, False, False, True, False, True, True, False, False, True, True, True, True, False, True, False, False, True, True, True, False, True, False, True, True, True, False, True, False, True, False, True, False, True, False, False, False, True, False, False, True, True, False, False, True, False, True, True, False, True, False, True, True, False, False, False, False, True, False, False, True, False, True, False, True, False, True, False, False, False, False, True, False, True, True, True, True, True, True, False, True, True, True, False, False, False, True, True, True, True, True, False, False, True, True, False, False, False, True, True, True, True, True, False, True, True, True, False, True, True, True, False, False, True, True, False, True, True, False, False, False, True, True, False, True, False, True, True, True, False, False, True, False, True, False, False, False, False, False, True, False, False, True, False, False, True, False, False, True, True, True, True, False, True, False, True, False, True, False, True, True, True, False, False, False, False, False, True, True, False, False, False, True, True, True, True, True, False, False, False, False, False, False, False, True, False, True, True, True, False, False, False, True, True, True, False, False, False, True, False, False, False, False, True, False, True, False, True, False, False, False, False, True, False, True, True, False, True, False, False, True, False, True, True, False, False, False, False, False, True, True, True, True, True, False, False, False, True, False, False, False, True, False, False, False, True, True, True, True, True, False, False, True, True, False, False, True, True, True, False, False, False, True, False, True, False, True, False, False, False, True, False, True, True, True, True, False, False, True, False, False, False, False, True, True, True, True, True, False, True, False, True, False, False, False, True, False, True, False, False, False, False, False, False, True, True, True, True, True, False, False, False, True, False, True, True, True, True, True, False, False, False, True, True, False, False, True, False, False, False, False, False, False, True, False, False, False, False, True, False, False, True, True, True, False, False, False, True, False]\n",
            "{False, True}\n"
          ],
          "name": "stdout"
        },
        {
          "output_type": "display_data",
          "data": {
            "image/png": "[encoded data removed]",
            "text/plain": [
              "<Figure size 432x288 with 2 Axes>"
            ]
          },
          "metadata": {
            "tags": []
          }
        }
      ]
    },
    {
      "cell_type": "markdown",
      "metadata": {
        "id": "ifIzD9tO8If8",
        "colab_type": "text"
      },
      "source": [
        "MiniBatchKMeans"
      ]
    },
    {
      "cell_type": "code",
      "metadata": {
        "id": "LQJiDcvFAYW9",
        "colab_type": "code",
        "outputId": "ad5846fd-f5b7-4d44-df28-101fea6c53b0",
        "colab": {
          "base_uri": "https://localhost:8080/",
          "height": 317
        }
      },
      "source": [
        "sp_model = MiniBatchKMeans(n_clusters=2, random_state=12)\n",
        "sp_model.fit(x)\n",
        "print(\"Accuracy {}\".format(sum(sp_model.labels_== y)/len(y)))\n",
        "heatmap(confusion_matrix(y, sp_model.labels_), annot=True, fmt=\"d\")\n",
        "print(sp_model.labels_)\n",
        "print(set(sp_model.labels_))\n",
        "pass"
      ],
      "execution_count": 0,
      "outputs": [
        {
          "output_type": "stream",
          "text": [
            "Accuracy 0.895371738060069\n",
            "[0 0 0 ... 0 1 0]\n",
            "{0, 1}\n"
          ],
          "name": "stdout"
        },
        {
          "output_type": "display_data",
          "data": {
            "image/png": "[encoded data removed]",
            "text/plain": [
              "<Figure size 432x288 with 2 Axes>"
            ]
          },
          "metadata": {
            "tags": []
          }
        }
      ]
    },
    {
      "cell_type": "markdown",
      "metadata": {
        "id": "cBDqPs7HDWYy",
        "colab_type": "text"
      },
      "source": [
        "Вывод: лучшие результаты показывают кластеризаторы, которым можно явно указать количесвто кластеров и они показывают похожий результат(около 0.89 точности)."
      ]
    }
  ]
}